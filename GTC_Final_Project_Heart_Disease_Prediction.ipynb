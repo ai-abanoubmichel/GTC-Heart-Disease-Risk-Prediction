{
  "cells": [
    {
      "cell_type": "markdown",
      "metadata": {
        "id": "ll8B_DSFtre8"
      },
      "source": [
        "# Heart Disease Diagnosing and Prediction\n",
        "\n",
        "\n"
      ]
    },
    {
      "cell_type": "markdown",
      "metadata": {
        "id": "2eS6LyAft5HN"
      },
      "source": [
        "## Phase 1: Data Preparation"
      ]
    },
    {
      "cell_type": "code",
      "execution_count": 1,
      "metadata": {
        "id": "foqNaXKMtos5"
      },
      "outputs": [],
      "source": [
        "#imorting basic data preperation and exploration libraries\n",
        "import pandas as pd\n",
        "import numpy as np\n",
        "import matplotlib.pyplot as plt\n",
        "import seaborn as sns\n"
      ]
    },
    {
      "cell_type": "markdown",
      "metadata": {
        "id": "2-heYp9UwJRS"
      },
      "source": [
        "Data Source \"https://archive.ics.uci.edu/dataset/45/heart+disease\""
      ]
    },
    {
      "cell_type": "code",
      "execution_count": 2,
      "metadata": {
        "id": "B2p92XCZwOPb"
      },
      "outputs": [],
      "source": [
        "#loading data\n",
        "heart_disease_df = pd.read_csv('Heart_disease_cleveland_new.csv')"
      ]
    },
    {
      "cell_type": "code",
      "execution_count": 3,
      "metadata": {
        "colab": {
          "base_uri": "https://localhost:8080/",
          "height": 206
        },
        "id": "2jIfHL4excwG",
        "outputId": "2cedff20-3353-4f60-91d3-fabfdf105f98"
      },
      "outputs": [
        {
          "data": {
            "text/html": [
              "<div>\n",
              "<style scoped>\n",
              "    .dataframe tbody tr th:only-of-type {\n",
              "        vertical-align: middle;\n",
              "    }\n",
              "\n",
              "    .dataframe tbody tr th {\n",
              "        vertical-align: top;\n",
              "    }\n",
              "\n",
              "    .dataframe thead th {\n",
              "        text-align: right;\n",
              "    }\n",
              "</style>\n",
              "<table border=\"1\" class=\"dataframe\">\n",
              "  <thead>\n",
              "    <tr style=\"text-align: right;\">\n",
              "      <th></th>\n",
              "      <th>age</th>\n",
              "      <th>sex</th>\n",
              "      <th>cp</th>\n",
              "      <th>trestbps</th>\n",
              "      <th>chol</th>\n",
              "      <th>fbs</th>\n",
              "      <th>restecg</th>\n",
              "      <th>thalach</th>\n",
              "      <th>exang</th>\n",
              "      <th>oldpeak</th>\n",
              "      <th>slope</th>\n",
              "      <th>ca</th>\n",
              "      <th>thal</th>\n",
              "      <th>target</th>\n",
              "    </tr>\n",
              "  </thead>\n",
              "  <tbody>\n",
              "    <tr>\n",
              "      <th>0</th>\n",
              "      <td>63</td>\n",
              "      <td>1</td>\n",
              "      <td>0</td>\n",
              "      <td>145</td>\n",
              "      <td>233</td>\n",
              "      <td>1</td>\n",
              "      <td>2</td>\n",
              "      <td>150</td>\n",
              "      <td>0</td>\n",
              "      <td>2.3</td>\n",
              "      <td>2</td>\n",
              "      <td>0</td>\n",
              "      <td>2</td>\n",
              "      <td>0</td>\n",
              "    </tr>\n",
              "    <tr>\n",
              "      <th>1</th>\n",
              "      <td>67</td>\n",
              "      <td>1</td>\n",
              "      <td>3</td>\n",
              "      <td>160</td>\n",
              "      <td>286</td>\n",
              "      <td>0</td>\n",
              "      <td>2</td>\n",
              "      <td>108</td>\n",
              "      <td>1</td>\n",
              "      <td>1.5</td>\n",
              "      <td>1</td>\n",
              "      <td>3</td>\n",
              "      <td>1</td>\n",
              "      <td>1</td>\n",
              "    </tr>\n",
              "    <tr>\n",
              "      <th>2</th>\n",
              "      <td>67</td>\n",
              "      <td>1</td>\n",
              "      <td>3</td>\n",
              "      <td>120</td>\n",
              "      <td>229</td>\n",
              "      <td>0</td>\n",
              "      <td>2</td>\n",
              "      <td>129</td>\n",
              "      <td>1</td>\n",
              "      <td>2.6</td>\n",
              "      <td>1</td>\n",
              "      <td>2</td>\n",
              "      <td>3</td>\n",
              "      <td>1</td>\n",
              "    </tr>\n",
              "    <tr>\n",
              "      <th>3</th>\n",
              "      <td>37</td>\n",
              "      <td>1</td>\n",
              "      <td>2</td>\n",
              "      <td>130</td>\n",
              "      <td>250</td>\n",
              "      <td>0</td>\n",
              "      <td>0</td>\n",
              "      <td>187</td>\n",
              "      <td>0</td>\n",
              "      <td>3.5</td>\n",
              "      <td>2</td>\n",
              "      <td>0</td>\n",
              "      <td>1</td>\n",
              "      <td>0</td>\n",
              "    </tr>\n",
              "    <tr>\n",
              "      <th>4</th>\n",
              "      <td>41</td>\n",
              "      <td>0</td>\n",
              "      <td>1</td>\n",
              "      <td>130</td>\n",
              "      <td>204</td>\n",
              "      <td>0</td>\n",
              "      <td>2</td>\n",
              "      <td>172</td>\n",
              "      <td>0</td>\n",
              "      <td>1.4</td>\n",
              "      <td>0</td>\n",
              "      <td>0</td>\n",
              "      <td>1</td>\n",
              "      <td>0</td>\n",
              "    </tr>\n",
              "  </tbody>\n",
              "</table>\n",
              "</div>"
            ],
            "text/plain": [
              "   age  sex  cp  trestbps  chol  fbs  restecg  thalach  exang  oldpeak  slope  \\\n",
              "0   63    1   0       145   233    1        2      150      0      2.3      2   \n",
              "1   67    1   3       160   286    0        2      108      1      1.5      1   \n",
              "2   67    1   3       120   229    0        2      129      1      2.6      1   \n",
              "3   37    1   2       130   250    0        0      187      0      3.5      2   \n",
              "4   41    0   1       130   204    0        2      172      0      1.4      0   \n",
              "\n",
              "   ca  thal  target  \n",
              "0   0     2       0  \n",
              "1   3     1       1  \n",
              "2   2     3       1  \n",
              "3   0     1       0  \n",
              "4   0     1       0  "
            ]
          },
          "execution_count": 3,
          "metadata": {},
          "output_type": "execute_result"
        }
      ],
      "source": [
        "#dataset_overview\n",
        "heart_disease_df.head()"
      ]
    },
    {
      "cell_type": "markdown",
      "metadata": {
        "id": "y5YMWqz_8-f0"
      },
      "source": [
        "**Data Discribtion**\n",
        "\n",
        "Variable Name : Description\n",
        "\n",
        "age : age in year\n",
        "\n",
        "sex : gender\n",
        "\n",
        "cp : Ceruloplasmin protein\n",
        "\n",
        "trestbps : resting blood pressure in mm Hg\n",
        "\n",
        "chol : serum cholestoral\n",
        "\n",
        "fbs : \tfasting blood sugar  > 120 mg/dl\n",
        "\n",
        "restecg : resting electrocardiographic results\n",
        "\n",
        "thalach : maximum heart rate achieved\n",
        "\n",
        "exang : exercise induced angina\n",
        "\n",
        "oldpeak : ST depression induced by exercise relative to rest\n",
        "\n",
        "slope : The slope of the ST segment in relation to heart rate\n",
        "\n",
        "ca : number of major vessels (0-3) colored by flourosopy\n",
        "\n",
        "thal : Thalassemia\n",
        "\n",
        "target : result"
      ]
    },
    {
      "cell_type": "code",
      "execution_count": 4,
      "metadata": {
        "colab": {
          "base_uri": "https://localhost:8080/"
        },
        "id": "quUQXfW1yJG2",
        "outputId": "a628c6b2-692a-4287-c097-42074202f5aa"
      },
      "outputs": [
        {
          "data": {
            "text/plain": [
              "(303, 14)"
            ]
          },
          "execution_count": 4,
          "metadata": {},
          "output_type": "execute_result"
        }
      ],
      "source": [
        "#dataset shape\n",
        "heart_disease_df.shape"
      ]
    },
    {
      "cell_type": "code",
      "execution_count": 5,
      "metadata": {
        "colab": {
          "base_uri": "https://localhost:8080/"
        },
        "id": "DfX7sx63yD83",
        "outputId": "c1487df0-985d-43ed-8ef0-06a1ae87caa1"
      },
      "outputs": [
        {
          "name": "stdout",
          "output_type": "stream",
          "text": [
            "<class 'pandas.core.frame.DataFrame'>\n",
            "RangeIndex: 303 entries, 0 to 302\n",
            "Data columns (total 14 columns):\n",
            " #   Column    Non-Null Count  Dtype  \n",
            "---  ------    --------------  -----  \n",
            " 0   age       303 non-null    int64  \n",
            " 1   sex       303 non-null    int64  \n",
            " 2   cp        303 non-null    int64  \n",
            " 3   trestbps  303 non-null    int64  \n",
            " 4   chol      303 non-null    int64  \n",
            " 5   fbs       303 non-null    int64  \n",
            " 6   restecg   303 non-null    int64  \n",
            " 7   thalach   303 non-null    int64  \n",
            " 8   exang     303 non-null    int64  \n",
            " 9   oldpeak   303 non-null    float64\n",
            " 10  slope     303 non-null    int64  \n",
            " 11  ca        303 non-null    int64  \n",
            " 12  thal      303 non-null    int64  \n",
            " 13  target    303 non-null    int64  \n",
            "dtypes: float64(1), int64(13)\n",
            "memory usage: 33.3 KB\n"
          ]
        }
      ],
      "source": [
        "#columns information and datatypes\n",
        "heart_disease_df.info()"
      ]
    },
    {
      "cell_type": "code",
      "execution_count": 6,
      "metadata": {
        "colab": {
          "base_uri": "https://localhost:8080/",
          "height": 320
        },
        "id": "GAytVRMCyHTQ",
        "outputId": "d611166a-b53b-4cfb-d7ad-918a71072fab"
      },
      "outputs": [
        {
          "data": {
            "text/html": [
              "<div>\n",
              "<style scoped>\n",
              "    .dataframe tbody tr th:only-of-type {\n",
              "        vertical-align: middle;\n",
              "    }\n",
              "\n",
              "    .dataframe tbody tr th {\n",
              "        vertical-align: top;\n",
              "    }\n",
              "\n",
              "    .dataframe thead th {\n",
              "        text-align: right;\n",
              "    }\n",
              "</style>\n",
              "<table border=\"1\" class=\"dataframe\">\n",
              "  <thead>\n",
              "    <tr style=\"text-align: right;\">\n",
              "      <th></th>\n",
              "      <th>age</th>\n",
              "      <th>sex</th>\n",
              "      <th>cp</th>\n",
              "      <th>trestbps</th>\n",
              "      <th>chol</th>\n",
              "      <th>fbs</th>\n",
              "      <th>restecg</th>\n",
              "      <th>thalach</th>\n",
              "      <th>exang</th>\n",
              "      <th>oldpeak</th>\n",
              "      <th>slope</th>\n",
              "      <th>ca</th>\n",
              "      <th>thal</th>\n",
              "      <th>target</th>\n",
              "    </tr>\n",
              "  </thead>\n",
              "  <tbody>\n",
              "    <tr>\n",
              "      <th>count</th>\n",
              "      <td>303.000000</td>\n",
              "      <td>303.000000</td>\n",
              "      <td>303.000000</td>\n",
              "      <td>303.000000</td>\n",
              "      <td>303.000000</td>\n",
              "      <td>303.000000</td>\n",
              "      <td>303.000000</td>\n",
              "      <td>303.000000</td>\n",
              "      <td>303.000000</td>\n",
              "      <td>303.000000</td>\n",
              "      <td>303.000000</td>\n",
              "      <td>303.000000</td>\n",
              "      <td>303.000000</td>\n",
              "      <td>303.000000</td>\n",
              "    </tr>\n",
              "    <tr>\n",
              "      <th>mean</th>\n",
              "      <td>54.438944</td>\n",
              "      <td>0.679868</td>\n",
              "      <td>2.158416</td>\n",
              "      <td>131.689769</td>\n",
              "      <td>246.693069</td>\n",
              "      <td>0.148515</td>\n",
              "      <td>0.990099</td>\n",
              "      <td>149.607261</td>\n",
              "      <td>0.326733</td>\n",
              "      <td>1.039604</td>\n",
              "      <td>0.600660</td>\n",
              "      <td>0.663366</td>\n",
              "      <td>1.831683</td>\n",
              "      <td>0.458746</td>\n",
              "    </tr>\n",
              "    <tr>\n",
              "      <th>std</th>\n",
              "      <td>9.038662</td>\n",
              "      <td>0.467299</td>\n",
              "      <td>0.960126</td>\n",
              "      <td>17.599748</td>\n",
              "      <td>51.776918</td>\n",
              "      <td>0.356198</td>\n",
              "      <td>0.994971</td>\n",
              "      <td>22.875003</td>\n",
              "      <td>0.469794</td>\n",
              "      <td>1.161075</td>\n",
              "      <td>0.616226</td>\n",
              "      <td>0.934375</td>\n",
              "      <td>0.956705</td>\n",
              "      <td>0.499120</td>\n",
              "    </tr>\n",
              "    <tr>\n",
              "      <th>min</th>\n",
              "      <td>29.000000</td>\n",
              "      <td>0.000000</td>\n",
              "      <td>0.000000</td>\n",
              "      <td>94.000000</td>\n",
              "      <td>126.000000</td>\n",
              "      <td>0.000000</td>\n",
              "      <td>0.000000</td>\n",
              "      <td>71.000000</td>\n",
              "      <td>0.000000</td>\n",
              "      <td>0.000000</td>\n",
              "      <td>0.000000</td>\n",
              "      <td>0.000000</td>\n",
              "      <td>1.000000</td>\n",
              "      <td>0.000000</td>\n",
              "    </tr>\n",
              "    <tr>\n",
              "      <th>25%</th>\n",
              "      <td>48.000000</td>\n",
              "      <td>0.000000</td>\n",
              "      <td>2.000000</td>\n",
              "      <td>120.000000</td>\n",
              "      <td>211.000000</td>\n",
              "      <td>0.000000</td>\n",
              "      <td>0.000000</td>\n",
              "      <td>133.500000</td>\n",
              "      <td>0.000000</td>\n",
              "      <td>0.000000</td>\n",
              "      <td>0.000000</td>\n",
              "      <td>0.000000</td>\n",
              "      <td>1.000000</td>\n",
              "      <td>0.000000</td>\n",
              "    </tr>\n",
              "    <tr>\n",
              "      <th>50%</th>\n",
              "      <td>56.000000</td>\n",
              "      <td>1.000000</td>\n",
              "      <td>2.000000</td>\n",
              "      <td>130.000000</td>\n",
              "      <td>241.000000</td>\n",
              "      <td>0.000000</td>\n",
              "      <td>1.000000</td>\n",
              "      <td>153.000000</td>\n",
              "      <td>0.000000</td>\n",
              "      <td>0.800000</td>\n",
              "      <td>1.000000</td>\n",
              "      <td>0.000000</td>\n",
              "      <td>1.000000</td>\n",
              "      <td>0.000000</td>\n",
              "    </tr>\n",
              "    <tr>\n",
              "      <th>75%</th>\n",
              "      <td>61.000000</td>\n",
              "      <td>1.000000</td>\n",
              "      <td>3.000000</td>\n",
              "      <td>140.000000</td>\n",
              "      <td>275.000000</td>\n",
              "      <td>0.000000</td>\n",
              "      <td>2.000000</td>\n",
              "      <td>166.000000</td>\n",
              "      <td>1.000000</td>\n",
              "      <td>1.600000</td>\n",
              "      <td>1.000000</td>\n",
              "      <td>1.000000</td>\n",
              "      <td>3.000000</td>\n",
              "      <td>1.000000</td>\n",
              "    </tr>\n",
              "    <tr>\n",
              "      <th>max</th>\n",
              "      <td>77.000000</td>\n",
              "      <td>1.000000</td>\n",
              "      <td>3.000000</td>\n",
              "      <td>200.000000</td>\n",
              "      <td>564.000000</td>\n",
              "      <td>1.000000</td>\n",
              "      <td>2.000000</td>\n",
              "      <td>202.000000</td>\n",
              "      <td>1.000000</td>\n",
              "      <td>6.200000</td>\n",
              "      <td>2.000000</td>\n",
              "      <td>3.000000</td>\n",
              "      <td>3.000000</td>\n",
              "      <td>1.000000</td>\n",
              "    </tr>\n",
              "  </tbody>\n",
              "</table>\n",
              "</div>"
            ],
            "text/plain": [
              "              age         sex          cp    trestbps        chol         fbs  \\\n",
              "count  303.000000  303.000000  303.000000  303.000000  303.000000  303.000000   \n",
              "mean    54.438944    0.679868    2.158416  131.689769  246.693069    0.148515   \n",
              "std      9.038662    0.467299    0.960126   17.599748   51.776918    0.356198   \n",
              "min     29.000000    0.000000    0.000000   94.000000  126.000000    0.000000   \n",
              "25%     48.000000    0.000000    2.000000  120.000000  211.000000    0.000000   \n",
              "50%     56.000000    1.000000    2.000000  130.000000  241.000000    0.000000   \n",
              "75%     61.000000    1.000000    3.000000  140.000000  275.000000    0.000000   \n",
              "max     77.000000    1.000000    3.000000  200.000000  564.000000    1.000000   \n",
              "\n",
              "          restecg     thalach       exang     oldpeak       slope          ca  \\\n",
              "count  303.000000  303.000000  303.000000  303.000000  303.000000  303.000000   \n",
              "mean     0.990099  149.607261    0.326733    1.039604    0.600660    0.663366   \n",
              "std      0.994971   22.875003    0.469794    1.161075    0.616226    0.934375   \n",
              "min      0.000000   71.000000    0.000000    0.000000    0.000000    0.000000   \n",
              "25%      0.000000  133.500000    0.000000    0.000000    0.000000    0.000000   \n",
              "50%      1.000000  153.000000    0.000000    0.800000    1.000000    0.000000   \n",
              "75%      2.000000  166.000000    1.000000    1.600000    1.000000    1.000000   \n",
              "max      2.000000  202.000000    1.000000    6.200000    2.000000    3.000000   \n",
              "\n",
              "             thal      target  \n",
              "count  303.000000  303.000000  \n",
              "mean     1.831683    0.458746  \n",
              "std      0.956705    0.499120  \n",
              "min      1.000000    0.000000  \n",
              "25%      1.000000    0.000000  \n",
              "50%      1.000000    0.000000  \n",
              "75%      3.000000    1.000000  \n",
              "max      3.000000    1.000000  "
            ]
          },
          "execution_count": 6,
          "metadata": {},
          "output_type": "execute_result"
        }
      ],
      "source": [
        "#basic statistical information\n",
        "heart_disease_df.describe()"
      ]
    },
    {
      "cell_type": "code",
      "execution_count": 7,
      "metadata": {
        "colab": {
          "base_uri": "https://localhost:8080/",
          "height": 523
        },
        "id": "ftwbWuFMyQgZ",
        "outputId": "5b6220e4-2411-4329-a79a-863c75ffb406"
      },
      "outputs": [
        {
          "data": {
            "text/plain": [
              "age         0\n",
              "sex         0\n",
              "cp          0\n",
              "trestbps    0\n",
              "chol        0\n",
              "fbs         0\n",
              "restecg     0\n",
              "thalach     0\n",
              "exang       0\n",
              "oldpeak     0\n",
              "slope       0\n",
              "ca          0\n",
              "thal        0\n",
              "target      0\n",
              "dtype: int64"
            ]
          },
          "execution_count": 7,
          "metadata": {},
          "output_type": "execute_result"
        }
      ],
      "source": [
        "#number of missing values\n",
        "heart_disease_df.isnull().sum()"
      ]
    },
    {
      "cell_type": "code",
      "execution_count": 8,
      "metadata": {
        "colab": {
          "base_uri": "https://localhost:8080/"
        },
        "id": "fQSWcIM6zBCU",
        "outputId": "82f0180a-904c-4691-8495-effa906d6a6f"
      },
      "outputs": [
        {
          "data": {
            "text/plain": [
              "0"
            ]
          },
          "execution_count": 8,
          "metadata": {},
          "output_type": "execute_result"
        }
      ],
      "source": [
        "#number of duplicated values\n",
        "heart_disease_df.duplicated().sum()"
      ]
    },
    {
      "cell_type": "code",
      "execution_count": 9,
      "metadata": {
        "colab": {
          "base_uri": "https://localhost:8080/"
        },
        "id": "llKdMa8U6M72",
        "outputId": "50d02300-523e-4e11-c2f3-f9ac6952b588"
      },
      "outputs": [
        {
          "name": "stdout",
          "output_type": "stream",
          "text": [
            "age : [63 67 37 41 56 62 57 53 44 52 48 54 49 64 58 60 50 66 43 40 69 59 42 55\n",
            " 61 65 71 51 46 45 39 68 47 34 35 29 70 77 38 74 76]\n",
            "###########################\n",
            "sex : [1 0]\n",
            "###########################\n",
            "cp : [0 3 2 1]\n",
            "###########################\n",
            "trestbps : [145 160 120 130 140 172 150 110 132 117 135 112 105 124 125 142 128 170\n",
            " 155 104 180 138 108 134 122 115 118 100 200  94 165 102 152 101 126 174\n",
            " 148 178 158 192 129 144 123 136 146 106 156 154 114 164]\n",
            "###########################\n",
            "chol : [233 286 229 250 204 236 268 354 254 203 192 294 256 263 199 168 239 275\n",
            " 266 211 283 284 224 206 219 340 226 247 167 230 335 234 177 276 353 243\n",
            " 225 302 212 330 175 417 197 198 290 253 172 273 213 305 216 304 188 282\n",
            " 185 232 326 231 269 267 248 360 258 308 245 270 208 264 321 274 325 235\n",
            " 257 164 141 252 255 201 222 260 182 303 265 309 307 249 186 341 183 407\n",
            " 217 288 220 209 227 261 174 281 221 205 240 289 318 298 564 246 322 299\n",
            " 300 293 277 214 207 223 160 394 184 315 409 244 195 196 126 313 259 200\n",
            " 262 215 228 193 271 210 327 149 295 306 178 237 218 242 319 166 180 311\n",
            " 278 342 169 187 157 176 241 131]\n",
            "###########################\n",
            "fbs : [1 0]\n",
            "###########################\n",
            "restecg : [2 0 1]\n",
            "###########################\n",
            "thalach : [150 108 129 187 172 178 160 163 147 155 148 153 142 173 162 174 168 139\n",
            " 171 144 132 158 114 151 161 179 120 112 137 157 169 165 123 128 152 140\n",
            " 188 109 125 131 170 113  99 177 141 180 111 143 182 156 115 149 145 146\n",
            " 175 186 185 159 130 190 136  97 127 154 133 126 202 103 166 164 184 124\n",
            " 122  96 138  88 105 194 195 106 167  95 192 117 121 116  71 118 181 134\n",
            "  90]\n",
            "###########################\n",
            "exang : [0 1]\n",
            "###########################\n",
            "oldpeak : [2.3 1.5 2.6 3.5 1.4 0.8 3.6 0.6 3.1 0.4 1.3 0.  0.5 1.6 1.  1.2 0.2 1.8\n",
            " 3.2 2.4 2.  2.5 2.2 2.8 3.  3.4 6.2 4.  5.6 2.9 0.1 2.1 1.9 4.2 0.9 1.1\n",
            " 3.8 0.7 0.3 4.4]\n",
            "###########################\n",
            "slope : [2 1 0]\n",
            "###########################\n",
            "ca : [0 3 2 1]\n",
            "###########################\n",
            "thal : [2 1 3]\n",
            "###########################\n",
            "target : [0 1]\n",
            "###########################\n"
          ]
        }
      ],
      "source": [
        "#checking for unique values in each column\n",
        "for col in heart_disease_df.columns:\n",
        "  print(f'{col} : {heart_disease_df[col].unique()}')\n",
        "  print('###########################')"
      ]
    },
    {
      "cell_type": "code",
      "execution_count": 10,
      "metadata": {
        "colab": {
          "base_uri": "https://localhost:8080/"
        },
        "id": "wZwqu3JX7J50",
        "outputId": "40bf0c56-514d-400d-e5ea-3be435284dd4"
      },
      "outputs": [
        {
          "name": "stdout",
          "output_type": "stream",
          "text": [
            "age : 41\n",
            "sex : 2\n",
            "cp : 4\n",
            "trestbps : 50\n",
            "chol : 152\n",
            "fbs : 2\n",
            "restecg : 3\n",
            "thalach : 91\n",
            "exang : 2\n",
            "oldpeak : 40\n",
            "slope : 3\n",
            "ca : 4\n",
            "thal : 3\n",
            "target : 2\n"
          ]
        }
      ],
      "source": [
        "for col in heart_disease_df.columns:\n",
        "  print(f'{col} : {heart_disease_df[col].nunique()}')"
      ]
    },
    {
      "cell_type": "code",
      "execution_count": 11,
      "metadata": {
        "colab": {
          "base_uri": "https://localhost:8080/"
        },
        "id": "WQBumfqa6dSJ",
        "outputId": "5431f13d-f453-426c-a371-cb96d0e9486e"
      },
      "outputs": [
        {
          "name": "stdout",
          "output_type": "stream",
          "text": [
            "frequancy of unique values in age\n",
            "age\n",
            "58    19\n",
            "57    17\n",
            "54    16\n",
            "59    14\n",
            "52    13\n",
            "60    12\n",
            "51    12\n",
            "56    11\n",
            "62    11\n",
            "44    11\n",
            "64    10\n",
            "41    10\n",
            "67     9\n",
            "63     9\n",
            "42     8\n",
            "43     8\n",
            "45     8\n",
            "53     8\n",
            "55     8\n",
            "61     8\n",
            "65     8\n",
            "50     7\n",
            "66     7\n",
            "48     7\n",
            "46     7\n",
            "47     5\n",
            "49     5\n",
            "70     4\n",
            "68     4\n",
            "35     4\n",
            "39     4\n",
            "69     3\n",
            "71     3\n",
            "40     3\n",
            "34     2\n",
            "37     2\n",
            "38     2\n",
            "29     1\n",
            "77     1\n",
            "74     1\n",
            "76     1\n",
            "Name: count, dtype: int64\n",
            "###########################\n",
            "frequancy of unique values in sex\n",
            "sex\n",
            "1    206\n",
            "0     97\n",
            "Name: count, dtype: int64\n",
            "###########################\n",
            "frequancy of unique values in cp\n",
            "cp\n",
            "3    144\n",
            "2     86\n",
            "1     50\n",
            "0     23\n",
            "Name: count, dtype: int64\n",
            "###########################\n",
            "frequancy of unique values in trestbps\n",
            "trestbps\n",
            "120    37\n",
            "130    36\n",
            "140    32\n",
            "110    19\n",
            "150    17\n",
            "138    12\n",
            "128    12\n",
            "160    11\n",
            "125    11\n",
            "112     9\n",
            "132     8\n",
            "118     7\n",
            "124     6\n",
            "108     6\n",
            "135     6\n",
            "152     5\n",
            "134     5\n",
            "145     5\n",
            "100     4\n",
            "170     4\n",
            "122     4\n",
            "126     3\n",
            "136     3\n",
            "115     3\n",
            "180     3\n",
            "142     3\n",
            "105     3\n",
            "102     2\n",
            "146     2\n",
            "144     2\n",
            "148     2\n",
            "178     2\n",
            "94      2\n",
            "165     1\n",
            "123     1\n",
            "114     1\n",
            "154     1\n",
            "156     1\n",
            "106     1\n",
            "155     1\n",
            "172     1\n",
            "200     1\n",
            "101     1\n",
            "129     1\n",
            "192     1\n",
            "158     1\n",
            "104     1\n",
            "174     1\n",
            "117     1\n",
            "164     1\n",
            "Name: count, dtype: int64\n",
            "###########################\n",
            "frequancy of unique values in chol\n",
            "chol\n",
            "204    6\n",
            "197    6\n",
            "234    6\n",
            "269    5\n",
            "212    5\n",
            "      ..\n",
            "340    1\n",
            "160    1\n",
            "394    1\n",
            "184    1\n",
            "131    1\n",
            "Name: count, Length: 152, dtype: int64\n",
            "###########################\n",
            "frequancy of unique values in fbs\n",
            "fbs\n",
            "0    258\n",
            "1     45\n",
            "Name: count, dtype: int64\n",
            "###########################\n",
            "frequancy of unique values in restecg\n",
            "restecg\n",
            "0    151\n",
            "2    148\n",
            "1      4\n",
            "Name: count, dtype: int64\n",
            "###########################\n",
            "frequancy of unique values in thalach\n",
            "thalach\n",
            "162    11\n",
            "160     9\n",
            "163     9\n",
            "152     8\n",
            "150     7\n",
            "       ..\n",
            "177     1\n",
            "127     1\n",
            "97      1\n",
            "190     1\n",
            "90      1\n",
            "Name: count, Length: 91, dtype: int64\n",
            "###########################\n",
            "frequancy of unique values in exang\n",
            "exang\n",
            "0    204\n",
            "1     99\n",
            "Name: count, dtype: int64\n",
            "###########################\n",
            "frequancy of unique values in oldpeak\n",
            "oldpeak\n",
            "0.0    99\n",
            "1.2    17\n",
            "0.6    14\n",
            "1.0    14\n",
            "1.4    13\n",
            "0.8    13\n",
            "0.2    12\n",
            "1.6    11\n",
            "1.8    10\n",
            "2.0     9\n",
            "0.4     9\n",
            "0.1     7\n",
            "2.8     6\n",
            "2.6     6\n",
            "1.9     5\n",
            "0.5     5\n",
            "3.0     5\n",
            "1.5     5\n",
            "3.6     4\n",
            "2.2     4\n",
            "3.4     3\n",
            "0.9     3\n",
            "2.4     3\n",
            "0.3     3\n",
            "4.0     3\n",
            "1.1     2\n",
            "4.2     2\n",
            "2.3     2\n",
            "2.5     2\n",
            "3.2     2\n",
            "5.6     1\n",
            "2.9     1\n",
            "6.2     1\n",
            "2.1     1\n",
            "1.3     1\n",
            "3.1     1\n",
            "3.8     1\n",
            "0.7     1\n",
            "3.5     1\n",
            "4.4     1\n",
            "Name: count, dtype: int64\n",
            "###########################\n",
            "frequancy of unique values in slope\n",
            "slope\n",
            "0    142\n",
            "1    140\n",
            "2     21\n",
            "Name: count, dtype: int64\n",
            "###########################\n",
            "frequancy of unique values in ca\n",
            "ca\n",
            "0    180\n",
            "1     65\n",
            "2     38\n",
            "3     20\n",
            "Name: count, dtype: int64\n",
            "###########################\n",
            "frequancy of unique values in thal\n",
            "thal\n",
            "1    168\n",
            "3    117\n",
            "2     18\n",
            "Name: count, dtype: int64\n",
            "###########################\n",
            "frequancy of unique values in target\n",
            "target\n",
            "0    164\n",
            "1    139\n",
            "Name: count, dtype: int64\n",
            "###########################\n"
          ]
        }
      ],
      "source": [
        "for col in heart_disease_df.columns:\n",
        "  print(f\"frequancy of unique values in {col}\")\n",
        "  print(heart_disease_df[col].value_counts())\n",
        "  print('###########################')\n"
      ]
    },
    {
      "cell_type": "code",
      "execution_count": 12,
      "metadata": {
        "colab": {
          "base_uri": "https://localhost:8080/"
        },
        "id": "-4HM8xEx9hY_",
        "outputId": "a94beb01-104d-4995-b974-b32bd12e6283"
      },
      "outputs": [
        {
          "name": "stdout",
          "output_type": "stream",
          "text": [
            "<class 'pandas.core.frame.DataFrame'>\n",
            "RangeIndex: 303 entries, 0 to 302\n",
            "Data columns (total 14 columns):\n",
            " #   Column    Non-Null Count  Dtype  \n",
            "---  ------    --------------  -----  \n",
            " 0   age       303 non-null    int64  \n",
            " 1   sex       303 non-null    bool   \n",
            " 2   cp        303 non-null    int64  \n",
            " 3   trestbps  303 non-null    int64  \n",
            " 4   chol      303 non-null    int64  \n",
            " 5   fbs       303 non-null    bool   \n",
            " 6   restecg   303 non-null    int64  \n",
            " 7   thalach   303 non-null    int64  \n",
            " 8   exang     303 non-null    bool   \n",
            " 9   oldpeak   303 non-null    float64\n",
            " 10  slope     303 non-null    int64  \n",
            " 11  ca        303 non-null    int64  \n",
            " 12  thal      303 non-null    int64  \n",
            " 13  target    303 non-null    bool   \n",
            "dtypes: bool(4), float64(1), int64(9)\n",
            "memory usage: 25.0 KB\n"
          ]
        }
      ],
      "source": [
        "#setting binary valued columns as type bool\n",
        "heart_disease_df['sex'] = heart_disease_df['sex'].astype('bool')\n",
        "heart_disease_df['fbs'] = heart_disease_df['fbs'].astype('bool')\n",
        "heart_disease_df['exang'] = heart_disease_df['exang'].astype('bool')\n",
        "heart_disease_df['target'] = heart_disease_df['target'].astype('bool')\n",
        "heart_disease_df.info()"
      ]
    },
    {
      "cell_type": "markdown",
      "metadata": {
        "id": "52yJsMLCuXwF"
      },
      "source": [
        "## Phase 2: Exploratory Data Analysis (EDA) & Feature Building\n",
        "\n",
        "\n"
      ]
    },
    {
      "cell_type": "markdown",
      "metadata": {
        "id": "wGJvVUmnuXwF"
      },
      "source": [
        "### 2.1 Basic Data Overview\n",
        "\n",
        "\n"
      ]
    },
    {
      "cell_type": "code",
      "execution_count": 13,
      "metadata": {
        "colab": {
          "base_uri": "https://localhost:8080/"
        },
        "id": "3u-jVgmzuXwG",
        "outputId": "49554fa0-8694-4a35-925c-11beda5823d2"
      },
      "outputs": [
        {
          "name": "stdout",
          "output_type": "stream",
          "text": [
            " HEART DISEASE DISTRIBUTION:\n",
            "========================================\n",
            "People WITHOUT heart disease: 164 (54.1%)\n",
            "People WITH heart disease: 139 (45.9%)\n",
            "Total people in dataset: 303\n"
          ]
        },
        {
          "name": "stderr",
          "output_type": "stream",
          "text": [
            "C:\\Users\\Eng.Abanoub\\AppData\\Local\\Temp\\ipykernel_5524\\1559547333.py:5: FutureWarning: Series.__getitem__ treating keys as positions is deprecated. In a future version, integer keys will always be treated as labels (consistent with DataFrame behavior). To access a value by position, use `ser.iloc[pos]`\n",
            "  print(f\"People WITHOUT heart disease: {heart_disease_counts[0]} ({heart_disease_counts[0]/len(heart_disease_df)*100:.1f}%)\")\n",
            "C:\\Users\\Eng.Abanoub\\AppData\\Local\\Temp\\ipykernel_5524\\1559547333.py:6: FutureWarning: Series.__getitem__ treating keys as positions is deprecated. In a future version, integer keys will always be treated as labels (consistent with DataFrame behavior). To access a value by position, use `ser.iloc[pos]`\n",
            "  print(f\"People WITH heart disease: {heart_disease_counts[1]} ({heart_disease_counts[1]/len(heart_disease_df)*100:.1f}%)\")\n"
          ]
        }
      ],
      "source": [
        "# Let's see how many people have heart disease vs. don't have it\n",
        "print(\" HEART DISEASE DISTRIBUTION:\")\n",
        "print(\"=\" * 40)\n",
        "heart_disease_counts = heart_disease_df['target'].value_counts()\n",
        "print(f\"People WITHOUT heart disease: {heart_disease_counts[0]} ({heart_disease_counts[0]/len(heart_disease_df)*100:.1f}%)\")\n",
        "print(f\"People WITH heart disease: {heart_disease_counts[1]} ({heart_disease_counts[1]/len(heart_disease_df)*100:.1f}%)\")\n",
        "print(f\"Total people in dataset: {len(heart_disease_df)}\")\n",
        "\n"
      ]
    },
    {
      "cell_type": "code",
      "execution_count": 14,
      "metadata": {
        "colab": {
          "base_uri": "https://localhost:8080/"
        },
        "id": "KygdpiWwuXwG",
        "outputId": "c9046bc5-af2c-4b40-cd6b-02ab81da04e6"
      },
      "outputs": [
        {
          "name": "stdout",
          "output_type": "stream",
          "text": [
            " BASIC STATISTICS:\n",
            "==================================================\n",
            "              age          cp    trestbps        chol     restecg     thalach  \\\n",
            "count  303.000000  303.000000  303.000000  303.000000  303.000000  303.000000   \n",
            "mean    54.438944    2.158416  131.689769  246.693069    0.990099  149.607261   \n",
            "std      9.038662    0.960126   17.599748   51.776918    0.994971   22.875003   \n",
            "min     29.000000    0.000000   94.000000  126.000000    0.000000   71.000000   \n",
            "25%     48.000000    2.000000  120.000000  211.000000    0.000000  133.500000   \n",
            "50%     56.000000    2.000000  130.000000  241.000000    1.000000  153.000000   \n",
            "75%     61.000000    3.000000  140.000000  275.000000    2.000000  166.000000   \n",
            "max     77.000000    3.000000  200.000000  564.000000    2.000000  202.000000   \n",
            "\n",
            "          oldpeak       slope          ca        thal  \n",
            "count  303.000000  303.000000  303.000000  303.000000  \n",
            "mean     1.039604    0.600660    0.663366    1.831683  \n",
            "std      1.161075    0.616226    0.934375    0.956705  \n",
            "min      0.000000    0.000000    0.000000    1.000000  \n",
            "25%      0.000000    0.000000    0.000000    1.000000  \n",
            "50%      0.800000    1.000000    0.000000    1.000000  \n",
            "75%      1.600000    1.000000    1.000000    3.000000  \n",
            "max      6.200000    2.000000    3.000000    3.000000  \n",
            "\n",
            " What these numbers tell us:\n",
            "• age: People are between 29-77 years old, average age is 54\n",
            "• trestbps: Blood pressure ranges from 94-200, average is 132\n",
            "• chol: Cholesterol ranges from 126-564, average is 247\n",
            "• thalach: Max heart rate ranges from 71-202, average is 150\n"
          ]
        }
      ],
      "source": [
        "# Let's look at some basic statistics for numerical columns\n",
        "print(\" BASIC STATISTICS:\")\n",
        "print(\"=\" * 50)\n",
        "print(heart_disease_df.describe())\n",
        "\n",
        "print(\"\\n What these numbers tell us:\")\n",
        "print(\"• age: People are between 29-77 years old, average age is 54\")\n",
        "print(\"• trestbps: Blood pressure ranges from 94-200, average is 132\")\n",
        "print(\"• chol: Cholesterol ranges from 126-564, average is 247\")\n",
        "print(\"• thalach: Max heart rate ranges from 71-202, average is 150\")\n"
      ]
    },
    {
      "cell_type": "markdown",
      "metadata": {
        "id": "rSQmOOJpuXwG"
      },
      "source": [
        "### 2.2 Visualizations\n",
        "\n",
        "\n"
      ]
    },
    {
      "cell_type": "code",
      "execution_count": 15,
      "metadata": {
        "colab": {
          "base_uri": "https://localhost:8080/",
          "height": 539
        },
        "id": "Ml3lEKcquXwG",
        "outputId": "e90d282b-926c-4890-9e78-c17b6fb5f53e"
      },
      "outputs": [
        {
          "data": {
            "image/png": "[encoded data removed]",
            "text/plain": [
              "<Figure size 800x600 with 1 Axes>"
            ]
          },
          "metadata": {},
          "output_type": "display_data"
        },
        {
          "name": "stdout",
          "output_type": "stream",
          "text": [
            " This pie chart shows us that our data is well-balanced!\n"
          ]
        }
      ],
      "source": [
        "# Create a simple pie chart showing heart disease distribution\n",
        "plt.figure(figsize=(8, 6))\n",
        "heart_disease_counts = heart_disease_df['target'].value_counts()\n",
        "labels = ['No Heart Disease', 'Has Heart Disease']\n",
        "colors = ['lightblue', 'lightcoral']\n",
        "plt.pie(heart_disease_counts, labels=labels, colors=colors, autopct='%1.1f%%', startangle=90)\n",
        "plt.title('Distribution of Heart Disease in Our Dataset', fontsize=14, fontweight='bold')\n",
        "plt.show()\n",
        "\n",
        "print(\" This pie chart shows us that our data is well-balanced!\")\n"
      ]
    },
    {
      "cell_type": "code",
      "execution_count": 16,
      "metadata": {
        "colab": {
          "base_uri": "https://localhost:8080/",
          "height": 517
        },
        "id": "AT9zw0e5uXwG",
        "outputId": "d383abf7-8146-47c9-f218-1a10dcc77c2a"
      },
      "outputs": [
        {
          "data": {
            "image/png": "[encoded data removed]",
            "text/plain": [
              "<Figure size 1200x500 with 2 Axes>"
            ]
          },
          "metadata": {},
          "output_type": "display_data"
        },
        {
          "name": "stdout",
          "output_type": "stream",
          "text": [
            " What do we see?\n",
            "• Average age of people WITHOUT heart disease: 52.6 years\n",
            "• Average age of people WITH heart disease: 56.6 years\n",
            "• Older people tend to have more heart disease - this makes sense!\n"
          ]
        },
        {
          "name": "stderr",
          "output_type": "stream",
          "text": [
            "C:\\Users\\Eng.Abanoub\\AppData\\Local\\Temp\\ipykernel_5524\\3006062171.py:29: FutureWarning: Series.__getitem__ treating keys as positions is deprecated. In a future version, integer keys will always be treated as labels (consistent with DataFrame behavior). To access a value by position, use `ser.iloc[pos]`\n",
            "  print(f\"• Average age of people WITHOUT heart disease: {avg_age[0]:.1f} years\")\n",
            "C:\\Users\\Eng.Abanoub\\AppData\\Local\\Temp\\ipykernel_5524\\3006062171.py:30: FutureWarning: Series.__getitem__ treating keys as positions is deprecated. In a future version, integer keys will always be treated as labels (consistent with DataFrame behavior). To access a value by position, use `ser.iloc[pos]`\n",
            "  print(f\"• Average age of people WITH heart disease: {avg_age[1]:.1f} years\")\n"
          ]
        }
      ],
      "source": [
        "# Let's see how age affects heart disease\n",
        "plt.figure(figsize=(12, 5))\n",
        "\n",
        "# Create two subplots side by side\n",
        "plt.subplot(1, 2, 1)\n",
        "# Box plot showing age distribution for people with and without heart disease\n",
        "heart_disease_df.boxplot(column='age', by='target', ax=plt.gca())\n",
        "plt.title('Age vs Heart Disease')\n",
        "plt.xlabel('Heart Disease (0=No, 1=Yes)')\n",
        "plt.ylabel('Age (years)')\n",
        "\n",
        "# Bar chart showing average age\n",
        "plt.subplot(1, 2, 2)\n",
        "avg_age = heart_disease_df.groupby('target')['age'].mean()\n",
        "bars = plt.bar(['No Heart Disease', 'Has Heart Disease'], avg_age, color=['lightblue', 'lightcoral'])\n",
        "plt.title('Average Age by Heart Disease Status')\n",
        "plt.ylabel('Average Age (years)')\n",
        "\n",
        "# Add value labels on bars\n",
        "for bar in bars:\n",
        "    height = bar.get_height()\n",
        "    plt.text(bar.get_x() + bar.get_width()/2., height + 0.5,\n",
        "             f'{height:.1f}', ha='center', va='bottom')\n",
        "\n",
        "plt.tight_layout()\n",
        "plt.show()\n",
        "\n",
        "print(\" What do we see?\")\n",
        "print(f\"• Average age of people WITHOUT heart disease: {avg_age[0]:.1f} years\")\n",
        "print(f\"• Average age of people WITH heart disease: {avg_age[1]:.1f} years\")\n",
        "print(\"• Older people tend to have more heart disease - this makes sense!\")\n"
      ]
    },
    {
      "cell_type": "code",
      "execution_count": 17,
      "metadata": {
        "colab": {
          "base_uri": "https://localhost:8080/",
          "height": 513
        },
        "id": "P8-k8kV5uXwH",
        "outputId": "90a79568-fd8e-4992-9c6f-a6e263a96ada"
      },
      "outputs": [
        {
          "data": {
            "image/png": "[encoded data removed]",
            "text/plain": [
              "<Figure size 1200x500 with 2 Axes>"
            ]
          },
          "metadata": {},
          "output_type": "display_data"
        },
        {
          "name": "stdout",
          "output_type": "stream",
          "text": [
            " What do we see?\n",
            "• Heart disease rate in women: 25.8%\n",
            "• Heart disease rate in men: 55.3%\n",
            "• Men tend to have higher rates of heart disease in this dataset\n"
          ]
        },
        {
          "name": "stderr",
          "output_type": "stream",
          "text": [
            "C:\\Users\\Eng.Abanoub\\AppData\\Local\\Temp\\ipykernel_5524\\457238005.py:32: FutureWarning: Series.__getitem__ treating keys as positions is deprecated. In a future version, integer keys will always be treated as labels (consistent with DataFrame behavior). To access a value by position, use `ser.iloc[pos]`\n",
            "  print(f\"• Heart disease rate in women: {gender_percentages[0]:.1f}%\")\n",
            "C:\\Users\\Eng.Abanoub\\AppData\\Local\\Temp\\ipykernel_5524\\457238005.py:33: FutureWarning: Series.__getitem__ treating keys as positions is deprecated. In a future version, integer keys will always be treated as labels (consistent with DataFrame behavior). To access a value by position, use `ser.iloc[pos]`\n",
            "  print(f\"• Heart disease rate in men: {gender_percentages[1]:.1f}%\")\n"
          ]
        }
      ],
      "source": [
        "# Let's see how gender affects heart disease\n",
        "plt.figure(figsize=(12, 5))\n",
        "\n",
        "# Create two subplots side by side\n",
        "plt.subplot(1, 2, 1)\n",
        "# Count of men vs women with and without heart disease\n",
        "gender_heart = pd.crosstab(heart_disease_df['sex'], heart_disease_df['target'])\n",
        "gender_heart.plot(kind='bar', ax=plt.gca(), color=['lightblue', 'lightcoral'])\n",
        "plt.title('Gender vs Heart Disease')\n",
        "plt.xlabel('Gender (0=Female, 1=Male)')\n",
        "plt.ylabel('Number of People')\n",
        "plt.legend(['No Heart Disease', 'Has Heart Disease'])\n",
        "plt.xticks(rotation=0)\n",
        "\n",
        "# Calculate percentages\n",
        "plt.subplot(1, 2, 2)\n",
        "gender_percentages = heart_disease_df.groupby('sex')['target'].mean() * 100\n",
        "bars = plt.bar(['Female', 'Male'], gender_percentages, color=['pink', 'lightblue'])\n",
        "plt.title('Heart Disease Rate by Gender')\n",
        "plt.ylabel('Percentage with Heart Disease (%)')\n",
        "\n",
        "# Add value labels on bars\n",
        "for bar in bars:\n",
        "    height = bar.get_height()\n",
        "    plt.text(bar.get_x() + bar.get_width()/2., height + 1,\n",
        "             f'{height:.1f}%', ha='center', va='bottom')\n",
        "\n",
        "plt.tight_layout()\n",
        "plt.show()\n",
        "\n",
        "print(\" What do we see?\")\n",
        "print(f\"• Heart disease rate in women: {gender_percentages[0]:.1f}%\")\n",
        "print(f\"• Heart disease rate in men: {gender_percentages[1]:.1f}%\")\n",
        "print(\"• Men tend to have higher rates of heart disease in this dataset\")\n"
      ]
    },
    {
      "cell_type": "code",
      "execution_count": 18,
      "metadata": {
        "colab": {
          "base_uri": "https://localhost:8080/",
          "height": 356
        },
        "id": "-8kOFOfSuXwH",
        "outputId": "af735ede-4fe4-48d1-9da2-b70187151148"
      },
      "outputs": [
        {
          "data": {
            "image/png": "[encoded data removed]",
            "text/plain": [
              "<Figure size 1500x500 with 3 Axes>"
            ]
          },
          "metadata": {},
          "output_type": "display_data"
        },
        {
          "name": "stdout",
          "output_type": "stream",
          "text": [
            " What do we see?\n",
            "• People with heart disease tend to have higher blood pressure\n",
            "• Cholesterol levels are similar between groups\n",
            "• People with heart disease often have lower maximum heart rates\n"
          ]
        }
      ],
      "source": [
        "# Let's look at blood pressure and cholesterol - two important risk factors\n",
        "plt.figure(figsize=(15, 5))\n",
        "\n",
        "# Blood pressure comparison\n",
        "plt.subplot(1, 3, 1)\n",
        "plt.hist(heart_disease_df[heart_disease_df['target']==0]['trestbps'], alpha=0.7, label='No Heart Disease', bins=15, color='lightblue')\n",
        "plt.hist(heart_disease_df[heart_disease_df['target']==1]['trestbps'], alpha=0.7, label='Has Heart Disease', bins=15, color='lightcoral')\n",
        "plt.title('Blood Pressure Distribution')\n",
        "plt.xlabel('Resting Blood Pressure (mm Hg)')\n",
        "plt.ylabel('Number of People')\n",
        "plt.legend()\n",
        "\n",
        "# Cholesterol comparison\n",
        "plt.subplot(1, 3, 2)\n",
        "plt.hist(heart_disease_df[heart_disease_df['target']==0]['chol'], alpha=0.7, label='No Heart Disease', bins=15, color='lightblue')\n",
        "plt.hist(heart_disease_df[heart_disease_df['target']==1]['chol'], alpha=0.7, label='Has Heart Disease', bins=15, color='lightcoral')\n",
        "plt.title('Cholesterol Distribution')\n",
        "plt.xlabel('Cholesterol (mg/dl)')\n",
        "plt.ylabel('Number of People')\n",
        "plt.legend()\n",
        "\n",
        "# Maximum heart rate comparison\n",
        "plt.subplot(1, 3, 3)\n",
        "plt.hist(heart_disease_df[heart_disease_df['target']==0]['thalach'], alpha=0.7, label='No Heart Disease', bins=15, color='lightblue')\n",
        "plt.hist(heart_disease_df[heart_disease_df['target']==1]['thalach'], alpha=0.7, label='Has Heart Disease', bins=15, color='lightcoral')\n",
        "plt.title('Maximum Heart Rate Distribution')\n",
        "plt.xlabel('Maximum Heart Rate (bpm)')\n",
        "plt.ylabel('Number of People')\n",
        "plt.legend()\n",
        "\n",
        "plt.tight_layout()\n",
        "plt.show()\n",
        "\n",
        "print(\" What do we see?\")\n",
        "print(\"• People with heart disease tend to have higher blood pressure\")\n",
        "print(\"• Cholesterol levels are similar between groups\")\n",
        "print(\"• People with heart disease often have lower maximum heart rates\")\n"
      ]
    },
    {
      "cell_type": "markdown",
      "metadata": {
        "id": "3QG9yF9fuXwH"
      },
      "source": [
        "### 2.3 Key Patterns and Observations\n",
        "\n",
        "\n"
      ]
    },
    {
      "cell_type": "code",
      "execution_count": 19,
      "metadata": {
        "colab": {
          "base_uri": "https://localhost:8080/"
        },
        "id": "S7N_IX4auXwH",
        "outputId": "40230b34-0302-4c7a-8d68-df8fa18dfc2b"
      },
      "outputs": [
        {
          "name": "stdout",
          "output_type": "stream",
          "text": [
            " KEY PATTERNS DISCOVERED:\n",
            "==================================================\n",
            "1. AGE PATTERN:\n",
            "   • Average age WITHOUT heart disease: 52.6 years\n",
            "   • Average age WITH heart disease: 56.6 years\n",
            "   • Age difference: 4.0 years\n",
            "\n",
            "2. GENDER PATTERN:\n",
            "   • Heart disease rate in men: 55.3%\n",
            "   • Heart disease rate in women: 25.8%\n",
            "   • Men have 29.6% higher rate\n",
            "\n",
            "3. BLOOD PRESSURE PATTERN:\n",
            "   • Average BP WITHOUT heart disease: 129.2 mm Hg\n",
            "   • Average BP WITH heart disease: 134.6 mm Hg\n",
            "   • BP difference: 5.3 mm Hg\n",
            "\n",
            "4. HEART RATE PATTERN:\n",
            "   • Average max HR WITHOUT heart disease: 158.4 bpm\n",
            "   • Average max HR WITH heart disease: 139.3 bpm\n",
            "   • HR difference: 19.1 bpm\n",
            "\n",
            " SUMMARY:\n",
            "   • Older people are more likely to have heart disease\n",
            "   • Men have higher heart disease rates than women\n",
            "   • Higher blood pressure is associated with heart disease\n",
            "   • Lower maximum heart rate is associated with heart disease\n"
          ]
        }
      ],
      "source": [
        "# Let's calculate some key statistics to summarize our findings\n",
        "print(\" KEY PATTERNS DISCOVERED:\")\n",
        "print(\"=\" * 50)\n",
        "\n",
        "# Age patterns\n",
        "avg_age_no_disease = heart_disease_df[heart_disease_df['target']==0]['age'].mean()\n",
        "avg_age_with_disease = heart_disease_df[heart_disease_df['target']==1]['age'].mean()\n",
        "print(f\"1. AGE PATTERN:\")\n",
        "print(f\"   • Average age WITHOUT heart disease: {avg_age_no_disease:.1f} years\")\n",
        "print(f\"   • Average age WITH heart disease: {avg_age_with_disease:.1f} years\")\n",
        "print(f\"   • Age difference: {avg_age_with_disease - avg_age_no_disease:.1f} years\")\n",
        "\n",
        "# Gender patterns\n",
        "male_rate = heart_disease_df[heart_disease_df['sex']==1]['target'].mean() * 100\n",
        "female_rate = heart_disease_df[heart_disease_df['sex']==0]['target'].mean() * 100\n",
        "print(f\"\\n2. GENDER PATTERN:\")\n",
        "print(f\"   • Heart disease rate in men: {male_rate:.1f}%\")\n",
        "print(f\"   • Heart disease rate in women: {female_rate:.1f}%\")\n",
        "print(f\"   • Men have {male_rate - female_rate:.1f}% higher rate\")\n",
        "\n",
        "# Blood pressure patterns\n",
        "avg_bp_no_disease = heart_disease_df[heart_disease_df['target']==0]['trestbps'].mean()\n",
        "avg_bp_with_disease = heart_disease_df[heart_disease_df['target']==1]['trestbps'].mean()\n",
        "print(f\"\\n3. BLOOD PRESSURE PATTERN:\")\n",
        "print(f\"   • Average BP WITHOUT heart disease: {avg_bp_no_disease:.1f} mm Hg\")\n",
        "print(f\"   • Average BP WITH heart disease: {avg_bp_with_disease:.1f} mm Hg\")\n",
        "print(f\"   • BP difference: {avg_bp_with_disease - avg_bp_no_disease:.1f} mm Hg\")\n",
        "\n",
        "# Heart rate patterns\n",
        "avg_hr_no_disease = heart_disease_df[heart_disease_df['target']==0]['thalach'].mean()\n",
        "avg_hr_with_disease = heart_disease_df[heart_disease_df['target']==1]['thalach'].mean()\n",
        "print(f\"\\n4. HEART RATE PATTERN:\")\n",
        "print(f\"   • Average max HR WITHOUT heart disease: {avg_hr_no_disease:.1f} bpm\")\n",
        "print(f\"   • Average max HR WITH heart disease: {avg_hr_with_disease:.1f} bpm\")\n",
        "print(f\"   • HR difference: {avg_hr_no_disease - avg_hr_with_disease:.1f} bpm\")\n",
        "\n",
        "print(f\"\\n SUMMARY:\")\n",
        "print(\"   • Older people are more likely to have heart disease\")\n",
        "print(\"   • Men have higher heart disease rates than women\")\n",
        "print(\"   • Higher blood pressure is associated with heart disease\")\n",
        "print(\"   • Lower maximum heart rate is associated with heart disease\")\n"
      ]
    },
    {
      "cell_type": "markdown",
      "metadata": {
        "id": "AmlpuVK_uXwH"
      },
      "source": [
        "### 2.4 Simple Feature Engineering\n",
        "\n",
        "\n"
      ]
    },
    {
      "cell_type": "code",
      "execution_count": 20,
      "metadata": {
        "colab": {
          "base_uri": "https://localhost:8080/"
        },
        "id": "9eNzJWLpuXwH",
        "outputId": "bf5dbcb6-a141-439a-d0e7-82f75196209c"
      },
      "outputs": [
        {
          "name": "stdout",
          "output_type": "stream",
          "text": [
            " CREATING NEW FEATURES:\n",
            "========================================\n",
            " Created age_group: Young, Middle-aged, Mature, Senior\n",
            " Created bp_category: Normal, High, Very High\n",
            " Created chol_category: Good, Borderline, High\n",
            " Created risk_score: 0-4 scale based on age, BP, cholesterol, and chest pain\n",
            "\n",
            " New dataset shape: (303, 18)\n",
            "   (Added 4 new features to help our model!)\n"
          ]
        }
      ],
      "source": [
        "# Let's create a copy of our data for feature engineering\n",
        "df_features = heart_disease_df.copy()\n",
        "\n",
        "print(\" CREATING NEW FEATURES:\")\n",
        "print(\"=\" * 40)\n",
        "\n",
        "# 1. Create age groups (categorical feature)\n",
        "def categorize_age(age):\n",
        "    if age < 40:\n",
        "        return 'Young'\n",
        "    elif age < 50:\n",
        "        return 'Middle-aged'\n",
        "    elif age < 60:\n",
        "        return 'Mature'\n",
        "    else:\n",
        "        return 'Senior'\n",
        "\n",
        "df_features['age_group'] = df_features['age'].apply(categorize_age)\n",
        "print(\" Created age_group: Young, Middle-aged, Mature, Senior\")\n",
        "\n",
        "# 2. Create blood pressure categories\n",
        "def categorize_bp(bp):\n",
        "    if bp < 120:\n",
        "        return 'Normal'\n",
        "    elif bp < 140:\n",
        "        return 'High'\n",
        "    else:\n",
        "        return 'Very High'\n",
        "\n",
        "df_features['bp_category'] = df_features['trestbps'].apply(categorize_bp)\n",
        "print(\" Created bp_category: Normal, High, Very High\")\n",
        "\n",
        "# 3. Create cholesterol categories\n",
        "def categorize_chol(chol):\n",
        "    if chol < 200:\n",
        "        return 'Good'\n",
        "    elif chol < 240:\n",
        "        return 'Borderline'\n",
        "    else:\n",
        "        return 'High'\n",
        "\n",
        "df_features['chol_category'] = df_features['chol'].apply(categorize_chol)\n",
        "print(\" Created chol_category: Good, Borderline, High\")\n",
        "\n",
        "# 4. Create a simple risk score (0-4 scale)\n",
        "def calculate_risk_score(row):\n",
        "    score = 0\n",
        "    if row['age'] > 60:\n",
        "        score += 1\n",
        "    if row['trestbps'] > 140:\n",
        "        score += 1\n",
        "    if row['chol'] > 240:\n",
        "        score += 1\n",
        "    if row['exang'] == True:  # Exercise-induced chest pain\n",
        "        score += 1\n",
        "    return score\n",
        "\n",
        "df_features['risk_score'] = df_features.apply(calculate_risk_score, axis=1)\n",
        "print(\" Created risk_score: 0-4 scale based on age, BP, cholesterol, and chest pain\")\n",
        "\n",
        "print(f\"\\n New dataset shape: {df_features.shape}\")\n",
        "print(\"   (Added 4 new features to help our model!)\")\n"
      ]
    },
    {
      "cell_type": "code",
      "execution_count": 21,
      "metadata": {
        "colab": {
          "base_uri": "https://localhost:8080/",
          "height": 648
        },
        "id": "3XuVyRkZuXwI",
        "outputId": "533a763d-2616-49f1-a2f9-de133db59eee"
      },
      "outputs": [
        {
          "data": {
            "image/png": "[encoded data removed]",
            "text/plain": [
              "<Figure size 1500x1000 with 6 Axes>"
            ]
          },
          "metadata": {},
          "output_type": "display_data"
        },
        {
          "name": "stdout",
          "output_type": "stream",
          "text": [
            " What do we see from our new features?\n",
            "• Age groups show clear patterns - older groups have more heart disease\n",
            "• Blood pressure categories are very useful - higher BP = more heart disease\n",
            "• Cholesterol categories show some pattern\n",
            "• Risk score is very useful - higher scores = more heart disease!\n"
          ]
        }
      ],
      "source": [
        "# Let's visualize our new features to see if they're useful\n",
        "plt.figure(figsize=(15, 10))\n",
        "\n",
        "# 1. Age groups vs heart disease\n",
        "plt.subplot(2, 3, 1)\n",
        "age_group_heart = pd.crosstab(df_features['age_group'], df_features['target'])\n",
        "age_group_heart.plot(kind='bar', ax=plt.gca(), color=['lightblue', 'lightcoral'])\n",
        "plt.title('Age Groups vs Heart Disease')\n",
        "plt.xlabel('Age Group')\n",
        "plt.ylabel('Number of People')\n",
        "plt.legend(['No Heart Disease', 'Has Heart Disease'])\n",
        "plt.xticks(rotation=45)\n",
        "\n",
        "# 2. Blood pressure categories vs heart disease\n",
        "plt.subplot(2, 3, 2)\n",
        "bp_heart = pd.crosstab(df_features['bp_category'], df_features['target'])\n",
        "bp_heart.plot(kind='bar', ax=plt.gca(), color=['lightblue', 'lightcoral'])\n",
        "plt.title('Blood Pressure Categories vs Heart Disease')\n",
        "plt.xlabel('BP Category')\n",
        "plt.ylabel('Number of People')\n",
        "plt.legend(['No Heart Disease', 'Has Heart Disease'])\n",
        "plt.xticks(rotation=45)\n",
        "\n",
        "# 3. Cholesterol categories vs heart disease\n",
        "plt.subplot(2, 3, 3)\n",
        "chol_heart = pd.crosstab(df_features['chol_category'], df_features['target'])\n",
        "chol_heart.plot(kind='bar', ax=plt.gca(), color=['lightblue', 'lightcoral'])\n",
        "plt.title('Cholesterol Categories vs Heart Disease')\n",
        "plt.xlabel('Cholesterol Category')\n",
        "plt.ylabel('Number of People')\n",
        "plt.legend(['No Heart Disease', 'Has Heart Disease'])\n",
        "plt.xticks(rotation=45)\n",
        "\n",
        "# 4. Risk score distribution\n",
        "plt.subplot(2, 3, 4)\n",
        "risk_counts = df_features['risk_score'].value_counts().sort_index()\n",
        "plt.bar(risk_counts.index, risk_counts.values, color='lightgreen')\n",
        "plt.title('Distribution of Risk Scores')\n",
        "plt.xlabel('Risk Score (0-4)')\n",
        "plt.ylabel('Number of People')\n",
        "\n",
        "# 5. Risk score vs heart disease\n",
        "plt.subplot(2, 3, 5)\n",
        "risk_heart = pd.crosstab(df_features['risk_score'], df_features['target'])\n",
        "risk_heart.plot(kind='bar', ax=plt.gca(), color=['lightblue', 'lightcoral'])\n",
        "plt.title('Risk Score vs Heart Disease')\n",
        "plt.xlabel('Risk Score')\n",
        "plt.ylabel('Number of People')\n",
        "plt.legend(['No Heart Disease', 'Has Heart Disease'])\n",
        "\n",
        "# 6. Heart disease rate by risk score\n",
        "plt.subplot(2, 3, 6)\n",
        "risk_rates = df_features.groupby('risk_score')['target'].mean() * 100\n",
        "plt.bar(risk_rates.index, risk_rates.values, color='orange')\n",
        "plt.title('Heart Disease Rate by Risk Score')\n",
        "plt.xlabel('Risk Score')\n",
        "plt.ylabel('Heart Disease Rate (%)')\n",
        "\n",
        "plt.tight_layout()\n",
        "plt.show()\n",
        "\n",
        "print(\" What do we see from our new features?\")\n",
        "print(\"• Age groups show clear patterns - older groups have more heart disease\")\n",
        "print(\"• Blood pressure categories are very useful - higher BP = more heart disease\")\n",
        "print(\"• Cholesterol categories show some pattern\")\n",
        "print(\"• Risk score is very useful - higher scores = more heart disease!\")\n"
      ]
    },
    {
      "cell_type": "markdown",
      "metadata": {
        "id": "bef0xM-3uXwI"
      },
      "source": [
        "### 2.5 Phase 2 Summary\n",
        "\n",
        "Let's summarize what we accomplished in Phase 2!\n"
      ]
    },
    {
      "cell_type": "code",
      "execution_count": 22,
      "metadata": {
        "colab": {
          "base_uri": "https://localhost:8080/"
        },
        "id": "4byMUDU0uXwI",
        "outputId": "85a08a78-0d28-4862-9bbe-9fa6804f9732"
      },
      "outputs": [
        {
          "name": "stdout",
          "output_type": "stream",
          "text": [
            " PHASE 2 COMPLETE: Exploratory Data Analysis & Feature Building\n",
            "======================================================================\n",
            "\n",
            " WHAT WE ACCOMPLISHED:\n",
            "1.  Basic Data Overview:\n",
            "   • Analyzed heart disease distribution (balanced dataset)\n",
            "   • Examined basic statistics for all numerical features\n",
            "   • Identified data quality (no missing values)\n",
            "\n",
            "2.  Simple Visualizations:\n",
            "   • Created pie chart showing heart disease distribution\n",
            "   • Analyzed age patterns with box plots and bar charts\n",
            "   • Examined gender differences in heart disease rates\n",
            "   • Compared blood pressure, cholesterol, and heart rate distributions\n",
            "\n",
            "3.  Key Patterns Discovered:\n",
            "   • Age: Older people have higher heart disease rates\n",
            "   • Gender: Men have higher rates than women\n",
            "   • Blood Pressure: Higher BP associated with heart disease\n",
            "   • Heart Rate: Lower max heart rate associated with heart disease\n",
            "\n",
            "4.  Feature Engineering:\n",
            "   • Created age groups (Young, Middle-aged, Mature, Senior)\n",
            "   • Created blood pressure categories (Normal, High, Very High)\n",
            "   • Created cholesterol categories (Good, Borderline, High)\n",
            "   • Created risk score (0-4 scale based on multiple factors)\n",
            "\n",
            "5.  Feature Validation:\n",
            "   • Visualized all new features\n",
            "   • Confirmed that new features show clear patterns\n",
            "   • Risk score is particularly useful for prediction\n",
            "\n",
            " DATASET TRANSFORMATION:\n",
            "   • Original features: 14\n",
            "   • New features added: 4\n",
            "   • Total features now: 18\n",
            "\n",
            " READY FOR PHASE 3:\n",
            "   • Data is well-explored and understood\n",
            "   • New features created to improve predictions\n",
            "   • Clear patterns identified for model validation\n",
            "   • Ready to build machine learning models!\n",
            "\n",
            "======================================================================\n",
            " Phase 2 completed successfully! Great job! 🌟\n",
            "======================================================================\n"
          ]
        }
      ],
      "source": [
        "print(\" PHASE 2 COMPLETE: Exploratory Data Analysis & Feature Building\")\n",
        "print(\"=\" * 70)\n",
        "\n",
        "print(\"\\n WHAT WE ACCOMPLISHED:\")\n",
        "print(\"1.  Basic Data Overview:\")\n",
        "print(\"   • Analyzed heart disease distribution (balanced dataset)\")\n",
        "print(\"   • Examined basic statistics for all numerical features\")\n",
        "print(\"   • Identified data quality (no missing values)\")\n",
        "\n",
        "print(\"\\n2.  Simple Visualizations:\")\n",
        "print(\"   • Created pie chart showing heart disease distribution\")\n",
        "print(\"   • Analyzed age patterns with box plots and bar charts\")\n",
        "print(\"   • Examined gender differences in heart disease rates\")\n",
        "print(\"   • Compared blood pressure, cholesterol, and heart rate distributions\")\n",
        "\n",
        "print(\"\\n3.  Key Patterns Discovered:\")\n",
        "print(\"   • Age: Older people have higher heart disease rates\")\n",
        "print(\"   • Gender: Men have higher rates than women\")\n",
        "print(\"   • Blood Pressure: Higher BP associated with heart disease\")\n",
        "print(\"   • Heart Rate: Lower max heart rate associated with heart disease\")\n",
        "\n",
        "print(\"\\n4.  Feature Engineering:\")\n",
        "print(\"   • Created age groups (Young, Middle-aged, Mature, Senior)\")\n",
        "print(\"   • Created blood pressure categories (Normal, High, Very High)\")\n",
        "print(\"   • Created cholesterol categories (Good, Borderline, High)\")\n",
        "print(\"   • Created risk score (0-4 scale based on multiple factors)\")\n",
        "\n",
        "print(\"\\n5.  Feature Validation:\")\n",
        "print(\"   • Visualized all new features\")\n",
        "print(\"   • Confirmed that new features show clear patterns\")\n",
        "print(\"   • Risk score is particularly useful for prediction\")\n",
        "\n",
        "print(f\"\\n DATASET TRANSFORMATION:\")\n",
        "print(f\"   • Original features: {len(heart_disease_df.columns)}\")\n",
        "print(f\"   • New features added: 4\")\n",
        "print(f\"   • Total features now: {len(df_features.columns)}\")\n",
        "\n",
        "print(f\"\\n READY FOR PHASE 3:\")\n",
        "print(\"   • Data is well-explored and understood\")\n",
        "print(\"   • New features created to improve predictions\")\n",
        "print(\"   • Clear patterns identified for model validation\")\n",
        "print(\"   • Ready to build machine learning models!\")\n",
        "\n",
        "print(\"\\n\" + \"=\" * 70)\n",
        "print(\" Phase 2 completed successfully! Great job! 🌟\")\n",
        "print(\"=\" * 70)\n"
      ]
    },
    {
      "cell_type": "markdown",
      "metadata": {
        "id": "TCkMp0oQuXwI"
      },
      "source": [
        "## Phase 3: Model Training & Validation\n"
      ]
    },
    {
      "cell_type": "markdown",
      "metadata": {
        "id": "yPJt-bHG8Vcg"
      },
      "source": [
        "#### libraries for modeling"
      ]
    },
    {
      "cell_type": "code",
      "execution_count": 23,
      "metadata": {
        "id": "fsk1W6yZ8UR-"
      },
      "outputs": [],
      "source": [
        "from sklearn.model_selection import train_test_split, cross_val_score, GridSearchCV\n",
        "from sklearn.preprocessing import StandardScaler, OneHotEncoder\n",
        "from sklearn.compose import ColumnTransformer\n",
        "from sklearn.linear_model import LogisticRegression\n",
        "from sklearn.svm import SVC\n",
        "from sklearn.tree import DecisionTreeClassifier\n",
        "from sklearn.ensemble import RandomForestClassifier\n",
        "from sklearn.pipeline import Pipeline\n",
        "from sklearn.metrics import (\n",
        "    accuracy_score,\n",
        "    precision_score,\n",
        "    recall_score,\n",
        "    f1_score,\n",
        "    roc_auc_score,\n",
        "    classification_report,\n",
        "    confusion_matrix\n",
        ")\n",
        "from sklearn.neighbors import KNeighborsClassifier"
      ]
    },
    {
      "cell_type": "markdown",
      "metadata": {
        "id": "WHs09kPX_wcz"
      },
      "source": [
        "### Model training"
      ]
    },
    {
      "cell_type": "code",
      "execution_count": 24,
      "metadata": {
        "id": "UA09uwMJvt8q"
      },
      "outputs": [],
      "source": [
        "# 1: Convert categorical features to numerical\n",
        "df_pr = pd.get_dummies(df_features, columns=['sex', 'cp', 'fbs', 'restecg', 'exang', 'slope', 'ca', 'thal', 'age_group', 'bp_category', 'chol_category'], drop_first=True)\n",
        "\n",
        "# 2:Separate features (X) and target (y)\n",
        "X = df_pr.drop('target', axis=1)\n",
        "y = df_pr['target']\n",
        "\n",
        "# 3:Split the data\n",
        "X_train, X_test, y_train, y_test = train_test_split(X, y, test_size=0.2, random_state=42, stratify=y)\n",
        "\n",
        "# 4:Scale numerical features\n",
        "scaler = StandardScaler()\n",
        "X_train_scaled = scaler.fit_transform(X_train)\n",
        "X_test_scaled = scaler.transform(X_test)\n",
        "\n",
        "# 5:Convert scaled to dfs\n",
        "X_train_scaled = pd.DataFrame(X_train_scaled, columns=X_train.columns)\n",
        "X_test_scaled = pd.DataFrame(X_test_scaled, columns=X_test.columns)\n",
        "\n",
        "models = {\n",
        "    'LR': LogisticRegression(random_state=42),\n",
        "    'SVc': SVC(kernel='rbf', probability=True, random_state=42),\n",
        "    'DT': DecisionTreeClassifier(random_state=42),\n",
        "    'rf': RandomForestClassifier(n_estimators=200, random_state=42)\n",
        "}\n",
        "\n",
        "results = {}\n",
        "\n",
        "for name, model in models.items():\n",
        "  def plot_conf_matrix(y_true, y_pred, title):\n",
        "    cm = confusion_matrix(y_true, y_pred)\n",
        "    plt.figure(figsize=(5,4))\n",
        "    sns.heatmap(cm, annot=True, fmt='d', cmap='Blues', cbar=False)\n",
        "    plt.xlabel('Predicted')\n",
        "    plt.ylabel('True')\n",
        "    plt.title(title)\n",
        "    plt.show()\n"
      ]
    },
    {
      "cell_type": "markdown",
      "metadata": {
        "id": "BbuIv-q1BeX4"
      },
      "source": [
        "### Get model metrics and plot results"
      ]
    },
    {
      "cell_type": "code",
      "execution_count": 25,
      "metadata": {
        "colab": {
          "base_uri": "https://localhost:8080/",
          "height": 1000
        },
        "id": "4O2kcvTmANO8",
        "outputId": "38a8c71d-4e1f-4ae5-a509-0a06d8f42c9c"
      },
      "outputs": [
        {
          "name": "stdout",
          "output_type": "stream",
          "text": [
            "\n",
            "=== LR ===\n",
            "=> Train Metrics:\n",
            "              precision    recall  f1-score   support\n",
            "\n",
            "       False       0.86      0.92      0.89       131\n",
            "        True       0.89      0.82      0.85       111\n",
            "\n",
            "    accuracy                           0.87       242\n",
            "   macro avg       0.87      0.87      0.87       242\n",
            "weighted avg       0.87      0.87      0.87       242\n",
            "\n"
          ]
        },
        {
          "data": {
            "image/png": "[encoded data removed]",
            "text/plain": [
              "<Figure size 500x400 with 1 Axes>"
            ]
          },
          "metadata": {},
          "output_type": "display_data"
        },
        {
          "name": "stdout",
          "output_type": "stream",
          "text": [
            "=> Test Metrics:\n",
            "              precision    recall  f1-score   support\n",
            "\n",
            "       False       0.85      0.85      0.85        33\n",
            "        True       0.82      0.82      0.82        28\n",
            "\n",
            "    accuracy                           0.84        61\n",
            "   macro avg       0.83      0.83      0.83        61\n",
            "weighted avg       0.84      0.84      0.84        61\n",
            "\n"
          ]
        },
        {
          "data": {
            "image/png": "[encoded data removed]",
            "text/plain": [
              "<Figure size 500x400 with 1 Axes>"
            ]
          },
          "metadata": {},
          "output_type": "display_data"
        },
        {
          "name": "stdout",
          "output_type": "stream",
          "text": [
            "\n",
            "=== SVc ===\n",
            "=> Train Metrics:\n",
            "              precision    recall  f1-score   support\n",
            "\n",
            "       False       0.90      0.96      0.93       131\n",
            "        True       0.95      0.87      0.91       111\n",
            "\n",
            "    accuracy                           0.92       242\n",
            "   macro avg       0.93      0.92      0.92       242\n",
            "weighted avg       0.92      0.92      0.92       242\n",
            "\n"
          ]
        },
        {
          "data": {
            "image/png": "[encoded data removed]",
            "text/plain": [
              "<Figure size 500x400 with 1 Axes>"
            ]
          },
          "metadata": {},
          "output_type": "display_data"
        },
        {
          "name": "stdout",
          "output_type": "stream",
          "text": [
            "=> Test Metrics:\n",
            "              precision    recall  f1-score   support\n",
            "\n",
            "       False       0.93      0.85      0.89        33\n",
            "        True       0.84      0.93      0.88        28\n",
            "\n",
            "    accuracy                           0.89        61\n",
            "   macro avg       0.89      0.89      0.89        61\n",
            "weighted avg       0.89      0.89      0.89        61\n",
            "\n"
          ]
        },
        {
          "data": {
            "image/png": "[encoded data removed]",
            "text/plain": [
              "<Figure size 500x400 with 1 Axes>"
            ]
          },
          "metadata": {},
          "output_type": "display_data"
        },
        {
          "name": "stdout",
          "output_type": "stream",
          "text": [
            "\n",
            "=== DT ===\n",
            "=> Train Metrics:\n",
            "              precision    recall  f1-score   support\n",
            "\n",
            "       False       1.00      1.00      1.00       131\n",
            "        True       1.00      1.00      1.00       111\n",
            "\n",
            "    accuracy                           1.00       242\n",
            "   macro avg       1.00      1.00      1.00       242\n",
            "weighted avg       1.00      1.00      1.00       242\n",
            "\n"
          ]
        },
        {
          "data": {
            "image/png": "[encoded data removed]",
            "text/plain": [
              "<Figure size 500x400 with 1 Axes>"
            ]
          },
          "metadata": {},
          "output_type": "display_data"
        },
        {
          "name": "stdout",
          "output_type": "stream",
          "text": [
            "=> Test Metrics:\n",
            "              precision    recall  f1-score   support\n",
            "\n",
            "       False       0.78      0.76      0.77        33\n",
            "        True       0.72      0.75      0.74        28\n",
            "\n",
            "    accuracy                           0.75        61\n",
            "   macro avg       0.75      0.75      0.75        61\n",
            "weighted avg       0.76      0.75      0.75        61\n",
            "\n"
          ]
        },
        {
          "data": {
            "image/png": "[encoded data removed]",
            "text/plain": [
              "<Figure size 500x400 with 1 Axes>"
            ]
          },
          "metadata": {},
          "output_type": "display_data"
        },
        {
          "name": "stdout",
          "output_type": "stream",
          "text": [
            "\n",
            "=== rf ===\n",
            "=> Train Metrics:\n",
            "              precision    recall  f1-score   support\n",
            "\n",
            "       False       1.00      1.00      1.00       131\n",
            "        True       1.00      1.00      1.00       111\n",
            "\n",
            "    accuracy                           1.00       242\n",
            "   macro avg       1.00      1.00      1.00       242\n",
            "weighted avg       1.00      1.00      1.00       242\n",
            "\n"
          ]
        },
        {
          "data": {
            "image/png": "[encoded data removed]",
            "text/plain": [
              "<Figure size 500x400 with 1 Axes>"
            ]
          },
          "metadata": {},
          "output_type": "display_data"
        },
        {
          "name": "stdout",
          "output_type": "stream",
          "text": [
            "=> Test Metrics:\n",
            "              precision    recall  f1-score   support\n",
            "\n",
            "       False       0.90      0.85      0.88        33\n",
            "        True       0.83      0.89      0.86        28\n",
            "\n",
            "    accuracy                           0.87        61\n",
            "   macro avg       0.87      0.87      0.87        61\n",
            "weighted avg       0.87      0.87      0.87        61\n",
            "\n"
          ]
        },
        {
          "data": {
            "image/png": "[encoded data removed]",
            "text/plain": [
              "<Figure size 500x400 with 1 Axes>"
            ]
          },
          "metadata": {},
          "output_type": "display_data"
        }
      ],
      "source": [
        "for name, model in models.items():\n",
        "    print(f\"\\n=== {name} ===\")\n",
        "\n",
        "     # Fit the model\n",
        "    pipe = Pipeline([\n",
        "        ('clf', model)\n",
        "    ])\n",
        "    pipe.fit(X_train_scaled, y_train)\n",
        "\n",
        "    # Predictions\n",
        "    y_train_pred = pipe.predict(X_train_scaled)\n",
        "    y_test_pred = pipe.predict(X_test_scaled)\n",
        "\n",
        "    # Train Metrics\n",
        "    print('=> Train Metrics:')\n",
        "    print(classification_report(y_train, y_train_pred, digits=2))\n",
        "    plot_conf_matrix(y_train, y_train_pred, f'{name} - Train Confusion Matrix')\n",
        "\n",
        "    # Test Metrics\n",
        "    print('=> Test Metrics:')\n",
        "    print(classification_report(y_test, y_test_pred, digits=2))\n",
        "    plot_conf_matrix(y_test, y_test_pred, f'{name} - Test Confusion Matrix')\n"
      ]
    },
    {
      "cell_type": "markdown",
      "metadata": {
        "id": "Tutfvi6OR8Vl"
      },
      "source": [
        "Cross Validation"
      ]
    },
    {
      "cell_type": "code",
      "execution_count": 26,
      "metadata": {
        "id": "7vObukjMR-V7"
      },
      "outputs": [],
      "source": [
        "from sklearn.model_selection import cross_val_score\n",
        "from sklearn.metrics import roc_curve, auc"
      ]
    },
    {
      "cell_type": "code",
      "execution_count": 27,
      "metadata": {
        "colab": {
          "base_uri": "https://localhost:8080/"
        },
        "id": "4-djr3F9SA5X",
        "outputId": "8ed16625-7cb5-438c-aafc-e83d338765db"
      },
      "outputs": [
        {
          "name": "stdout",
          "output_type": "stream",
          "text": [
            "LR: Mean CV Accuracy = 0.8262 ± 0.0595\n",
            "SVc: Mean CV Accuracy = 0.8137 ± 0.0562\n",
            "DT: Mean CV Accuracy = 0.6981 ± 0.0710\n",
            "rf: Mean CV Accuracy = 0.7887 ± 0.0779\n"
          ]
        }
      ],
      "source": [
        "for name, model in models.items():\n",
        "    scores = cross_val_score(model, X_train_scaled, y_train, cv=5, scoring='accuracy')\n",
        "    print(f\"{name}: Mean CV Accuracy = {scores.mean():.4f} ± {scores.std():.4f}\")"
      ]
    },
    {
      "cell_type": "markdown",
      "metadata": {
        "id": "veG7d6m7SJl0"
      },
      "source": [
        "ROC & AUC Curves"
      ]
    },
    {
      "cell_type": "code",
      "execution_count": 28,
      "metadata": {
        "colab": {
          "base_uri": "https://localhost:8080/",
          "height": 564
        },
        "id": "NKuK6Y84SGt9",
        "outputId": "a499ba1e-5fc2-4715-ebc7-b5d8b1a8588c"
      },
      "outputs": [
        {
          "data": {
            "image/png": "[encoded data removed]",
            "text/plain": [
              "<Figure size 800x600 with 1 Axes>"
            ]
          },
          "metadata": {},
          "output_type": "display_data"
        }
      ],
      "source": [
        "plt.figure(figsize=(8,6))\n",
        "for name, model in models.items():\n",
        "    model.fit(X_train_scaled, y_train)\n",
        "    y_probs = model.predict_proba(X_test_scaled)[:,1]\n",
        "    fpr, tpr, _ = roc_curve(y_test, y_probs)\n",
        "    roc_auc = auc(fpr, tpr)\n",
        "    plt.plot(fpr, tpr, label=f'{name} (AUC = {roc_auc:.2f})')\n",
        "\n",
        "plt.plot([0,1],[0,1],'k--')\n",
        "plt.xlabel('False Positive Rate')\n",
        "plt.ylabel('True Positive Rate')\n",
        "plt.title('ROC Curves for Models')\n",
        "plt.legend()\n",
        "plt.show()"
      ]
    },
    {
      "cell_type": "markdown",
      "metadata": {
        "id": "KAs1nBFkSOGs"
      },
      "source": [
        "Model Comparison Table"
      ]
    },
    {
      "cell_type": "code",
      "execution_count": 29,
      "metadata": {
        "colab": {
          "base_uri": "https://localhost:8080/"
        },
        "id": "Ba66qyk5SP_s",
        "outputId": "5e7880e3-77e5-48d2-8387-840f6e815ce1"
      },
      "outputs": [
        {
          "name": "stdout",
          "output_type": "stream",
          "text": [
            "\n",
            "=== Model Performance Comparison ===\n",
            "  Model  Accuracy  Precision    Recall        F1\n",
            "0    LR  0.836066   0.821429  0.821429  0.821429\n",
            "1   SVc  0.885246   0.838710  0.928571  0.881356\n",
            "2    DT  0.754098   0.724138  0.750000  0.736842\n",
            "3    rf  0.868852   0.833333  0.892857  0.862069\n"
          ]
        }
      ],
      "source": [
        "comparison = []\n",
        "for name, model in models.items():\n",
        "    model.fit(X_train_scaled, y_train)\n",
        "    y_pred = model.predict(X_test_scaled)\n",
        "    acc = accuracy_score(y_test, y_pred)\n",
        "    prec = precision_score(y_test, y_pred)\n",
        "    rec = recall_score(y_test, y_pred)\n",
        "    f1 = f1_score(y_test, y_pred)\n",
        "    comparison.append([name, acc, prec, rec, f1])\n",
        "\n",
        "comparison_df = pd.DataFrame(comparison, columns=[\"Model\",\"Accuracy\",\"Precision\",\"Recall\",\"F1\"])\n",
        "print(\"\\n=== Model Performance Comparison ===\")\n",
        "print(comparison_df)"
      ]
    },
    {
      "cell_type": "code",
      "execution_count": 30,
      "metadata": {
        "colab": {
          "base_uri": "https://localhost:8080/",
          "height": 410
        },
        "id": "gGnWr9asSTHI",
        "outputId": "ead73261-f7fe-4c8f-be0f-f5a7c0411a33"
      },
      "outputs": [
        {
          "data": {
            "image/png": "[encoded data removed]",
            "text/plain": [
              "<Figure size 800x400 with 1 Axes>"
            ]
          },
          "metadata": {},
          "output_type": "display_data"
        }
      ],
      "source": [
        "plt.figure(figsize=(8,4))\n",
        "sns.barplot(x=\"Model\", y=\"Accuracy\", data=comparison_df)\n",
        "plt.title(\"Model Accuracy Comparison\")\n",
        "plt.show()"
      ]
    },
    {
      "cell_type": "markdown",
      "metadata": {
        "id": "geZBKUf_SpV0"
      },
      "source": [
        "Hyperparameter Tuning"
      ]
    },
    {
      "cell_type": "code",
      "execution_count": 31,
      "metadata": {
        "id": "3KQw71gOSo-T"
      },
      "outputs": [],
      "source": [
        "from sklearn.model_selection import GridSearchCV, StratifiedKFold"
      ]
    },
    {
      "cell_type": "code",
      "execution_count": 32,
      "metadata": {
        "id": "CWETYmOCSvgM"
      },
      "outputs": [],
      "source": [
        "skf = StratifiedKFold(n_splits=5, shuffle=True, random_state=42)"
      ]
    },
    {
      "cell_type": "code",
      "execution_count": 33,
      "metadata": {
        "id": "YuwxBuuvS2j7"
      },
      "outputs": [],
      "source": [
        "tuned_models = {}\n",
        "tuning_results = []"
      ]
    },
    {
      "cell_type": "code",
      "execution_count": 34,
      "metadata": {
        "colab": {
          "base_uri": "https://localhost:8080/"
        },
        "id": "Uf7LhNwMS3-9",
        "outputId": "31f17dd3-0849-4a78-c65b-7645e03a9a0d"
      },
      "outputs": [
        {
          "name": "stdout",
          "output_type": "stream",
          "text": [
            "Skipping tuning for 'LR': no grid defined for this model name.\n",
            "\n",
            "--- GridSearchCV tuning for: SVc ---\n",
            "Skipping tuning for 'DT': no grid defined for this model name.\n",
            "Skipping tuning for 'rf': no grid defined for this model name.\n"
          ]
        }
      ],
      "source": [
        "for name, base_model in models.items():\n",
        "    lname = name.lower()\n",
        "\n",
        "    if 'logistic' in lname or 'logit' in lname:\n",
        "        from sklearn.linear_model import LogisticRegression\n",
        "        model = LogisticRegression(random_state=42, max_iter=1000)\n",
        "        param_grid = {\n",
        "            'C': [0.01, 0.1, 1, 10],\n",
        "            'solver': ['liblinear', 'lbfgs'],\n",
        "            'penalty': ['l2']\n",
        "        }\n",
        "\n",
        "    elif 'svc' in lname or 'svm' in lname:\n",
        "        from sklearn.svm import SVC\n",
        "\n",
        "        model = SVC(random_state=42, probability=True)\n",
        "        param_grid = {\n",
        "            'C': [0.1, 1, 10],\n",
        "            'kernel': ['rbf', 'poly'],\n",
        "            'gamma': ['scale', 'auto'],\n",
        "            'degree': [3]\n",
        "        }\n",
        "\n",
        "    elif 'random' in lname or 'forest' in lname:\n",
        "        from sklearn.ensemble import RandomForestClassifier\n",
        "        model = RandomForestClassifier(random_state=42)\n",
        "        param_grid = {\n",
        "            'n_estimators': [100, 200],\n",
        "            'max_depth': [None, 5, 10],\n",
        "            'min_samples_split': [2, 5]\n",
        "        }\n",
        "\n",
        "    elif ('tree' in lname and 'random' not in lname) or 'decision' in lname:\n",
        "        from sklearn.tree import DecisionTreeClassifier\n",
        "        model = DecisionTreeClassifier(random_state=42)\n",
        "        param_grid = {\n",
        "            'criterion': ['gini', 'entropy'],\n",
        "            'max_depth': [None, 5, 10],\n",
        "            'min_samples_split': [2, 5, 10]\n",
        "        }\n",
        "\n",
        "    elif 'knn' in lname or 'neighbor' in lname:\n",
        "        from sklearn.neighbors import KNeighborsClassifier\n",
        "        model = KNeighborsClassifier()\n",
        "        param_grid = {\n",
        "            'n_neighbors': [3, 5, 7, 9],\n",
        "            'weights': ['uniform', 'distance'],\n",
        "            'p': [1, 2]\n",
        "        }\n",
        "\n",
        "    else:\n",
        "        print(f\"Skipping tuning for '{name}': no grid defined for this model name.\")\n",
        "        continue\n",
        "\n",
        "    print(f\"\\n--- GridSearchCV tuning for: {name} ---\")\n",
        "    gs = GridSearchCV(estimator=model,\n",
        "                      param_grid=param_grid,\n",
        "                      scoring='roc_auc',\n",
        "                      cv=skf,\n",
        "                      n_jobs=-1,\n",
        "                      verbose=1)"
      ]
    },
    {
      "cell_type": "code",
      "execution_count": 35,
      "metadata": {
        "colab": {
          "base_uri": "https://localhost:8080/"
        },
        "id": "-dmbL6T_TBBU",
        "outputId": "9447b778-44ff-43ed-be01-987cdb10594e"
      },
      "outputs": [
        {
          "name": "stdout",
          "output_type": "stream",
          "text": [
            "Fitting 5 folds for each of 12 candidates, totalling 60 fits\n"
          ]
        }
      ],
      "source": [
        "gs.fit(X_train_scaled, y_train)\n",
        "best = gs.best_estimator_\n",
        "tuned_models[name] = best"
      ]
    },
    {
      "cell_type": "code",
      "execution_count": 36,
      "metadata": {
        "id": "i3j4gTdITKqT"
      },
      "outputs": [
        {
          "data": {
            "text/plain": [
              "array([False, False, False, False, False, False, False, False,  True,\n",
              "       False,  True, False, False,  True,  True,  True, False, False,\n",
              "       False,  True, False, False,  True, False, False, False, False,\n",
              "        True, False,  True, False,  True,  True, False, False,  True,\n",
              "       False, False, False,  True,  True,  True,  True,  True, False,\n",
              "       False,  True, False,  True, False, False,  True,  True, False,\n",
              "       False,  True, False, False, False, False,  True])"
            ]
          },
          "execution_count": 36,
          "metadata": {},
          "output_type": "execute_result"
        }
      ],
      "source": [
        "y_pred = best.predict(X_test_scaled)\n",
        "y_pred"
      ]
    },
    {
      "cell_type": "code",
      "execution_count": 37,
      "metadata": {
        "colab": {
          "base_uri": "https://localhost:8080/"
        },
        "id": "Jnbp3vXRTM_M",
        "outputId": "e5af41aa-266c-4693-ee5a-972e51bbe7f6"
      },
      "outputs": [
        {
          "name": "stdout",
          "output_type": "stream",
          "text": [
            "Best params for rf: {'C': 1, 'degree': 3, 'gamma': 'scale', 'kernel': 'poly'}\n",
            "Best CV (roc_auc) during GridSearch: 0.8887\n",
            "Test ROC-AUC: 0.9567\n",
            "Classification report on TEST set:\n",
            "              precision    recall  f1-score   support\n",
            "\n",
            "       False     0.8158    0.9394    0.8732        33\n",
            "        True     0.9130    0.7500    0.8235        28\n",
            "\n",
            "    accuracy                         0.8525        61\n",
            "   macro avg     0.8644    0.8447    0.8484        61\n",
            "weighted avg     0.8604    0.8525    0.8504        61\n",
            "\n"
          ]
        }
      ],
      "source": [
        "if hasattr(best, \"predict_proba\"):\n",
        "      y_proba = best.predict_proba(X_test_scaled)[:, 1]\n",
        "else:\n",
        "    try:\n",
        "        y_proba = best.decision_function(X_test_scaled)\n",
        "    except Exception:\n",
        "        y_proba = None\n",
        "\n",
        "test_auc = roc_auc_score(y_test, y_proba) if y_proba is not None else np.nan\n",
        "\n",
        "print(f\"Best params for {name}: {gs.best_params_}\")\n",
        "print(f\"Best CV (roc_auc) during GridSearch: {gs.best_score_:.4f}\")\n",
        "print(f\"Test ROC-AUC: {test_auc:.4f}\")\n",
        "print(\"Classification report on TEST set:\")\n",
        "print(classification_report(y_test, y_pred, digits=4))\n",
        "\n",
        "tuning_results.append([name, gs.best_params_, gs.best_score_, test_auc])"
      ]
    },
    {
      "cell_type": "code",
      "execution_count": 38,
      "metadata": {
        "colab": {
          "base_uri": "https://localhost:8080/",
          "height": 124
        },
        "id": "CJ7sYWSgThR8",
        "outputId": "d7ace8b8-dff5-49ce-e68d-53c11e0a295c"
      },
      "outputs": [
        {
          "name": "stdout",
          "output_type": "stream",
          "text": [
            "\n",
            "=== Tuning summary ===\n"
          ]
        },
        {
          "data": {
            "text/html": [
              "<div>\n",
              "<style scoped>\n",
              "    .dataframe tbody tr th:only-of-type {\n",
              "        vertical-align: middle;\n",
              "    }\n",
              "\n",
              "    .dataframe tbody tr th {\n",
              "        vertical-align: top;\n",
              "    }\n",
              "\n",
              "    .dataframe thead th {\n",
              "        text-align: right;\n",
              "    }\n",
              "</style>\n",
              "<table border=\"1\" class=\"dataframe\">\n",
              "  <thead>\n",
              "    <tr style=\"text-align: right;\">\n",
              "      <th></th>\n",
              "      <th>Model</th>\n",
              "      <th>BestParams</th>\n",
              "      <th>BestCV(roc_auc)</th>\n",
              "      <th>Test_AUC</th>\n",
              "    </tr>\n",
              "  </thead>\n",
              "  <tbody>\n",
              "    <tr>\n",
              "      <th>0</th>\n",
              "      <td>rf</td>\n",
              "      <td>{'C': 1, 'degree': 3, 'gamma': 'scale', 'kerne...</td>\n",
              "      <td>0.888736</td>\n",
              "      <td>0.95671</td>\n",
              "    </tr>\n",
              "  </tbody>\n",
              "</table>\n",
              "</div>"
            ],
            "text/plain": [
              "  Model                                         BestParams  BestCV(roc_auc)  \\\n",
              "0    rf  {'C': 1, 'degree': 3, 'gamma': 'scale', 'kerne...         0.888736   \n",
              "\n",
              "   Test_AUC  \n",
              "0   0.95671  "
            ]
          },
          "metadata": {},
          "output_type": "display_data"
        }
      ],
      "source": [
        "# Summary DataFrame for tuned models\n",
        "tuning_df = pd.DataFrame(tuning_results, columns=[\n",
        "    \"Model\", \"BestParams\", \"BestCV(roc_auc)\", \"Test_AUC\"\n",
        "])\n",
        "print(\"\\n=== Tuning summary ===\")\n",
        "display(tuning_df)"
      ]
    },
    {
      "cell_type": "code",
      "execution_count": 42,
      "metadata": {},
      "outputs": [
        {
          "data": {
            "text/html": [
              "<style>#sk-container-id-1 {\n",
              "  /* Definition of color scheme common for light and dark mode */\n",
              "  --sklearn-color-text: black;\n",
              "  --sklearn-color-line: gray;\n",
              "  /* Definition of color scheme for unfitted estimators */\n",
              "  --sklearn-color-unfitted-level-0: #fff5e6;\n",
              "  --sklearn-color-unfitted-level-1: #f6e4d2;\n",
              "  --sklearn-color-unfitted-level-2: #ffe0b3;\n",
              "  --sklearn-color-unfitted-level-3: chocolate;\n",
              "  /* Definition of color scheme for fitted estimators */\n",
              "  --sklearn-color-fitted-level-0: #f0f8ff;\n",
              "  --sklearn-color-fitted-level-1: #d4ebff;\n",
              "  --sklearn-color-fitted-level-2: #b3dbfd;\n",
              "  --sklearn-color-fitted-level-3: cornflowerblue;\n",
              "\n",
              "  /* Specific color for light theme */\n",
              "  --sklearn-color-text-on-default-background: var(--sg-text-color, var(--theme-code-foreground, var(--jp-content-font-color1, black)));\n",
              "  --sklearn-color-background: var(--sg-background-color, var(--theme-background, var(--jp-layout-color0, white)));\n",
              "  --sklearn-color-border-box: var(--sg-text-color, var(--theme-code-foreground, var(--jp-content-font-color1, black)));\n",
              "  --sklearn-color-icon: #696969;\n",
              "\n",
              "  @media (prefers-color-scheme: dark) {\n",
              "    /* Redefinition of color scheme for dark theme */\n",
              "    --sklearn-color-text-on-default-background: var(--sg-text-color, var(--theme-code-foreground, var(--jp-content-font-color1, white)));\n",
              "    --sklearn-color-background: var(--sg-background-color, var(--theme-background, var(--jp-layout-color0, #111)));\n",
              "    --sklearn-color-border-box: var(--sg-text-color, var(--theme-code-foreground, var(--jp-content-font-color1, white)));\n",
              "    --sklearn-color-icon: #878787;\n",
              "  }\n",
              "}\n",
              "\n",
              "#sk-container-id-1 {\n",
              "  color: var(--sklearn-color-text);\n",
              "}\n",
              "\n",
              "#sk-container-id-1 pre {\n",
              "  padding: 0;\n",
              "}\n",
              "\n",
              "#sk-container-id-1 input.sk-hidden--visually {\n",
              "  border: 0;\n",
              "  clip: rect(1px 1px 1px 1px);\n",
              "  clip: rect(1px, 1px, 1px, 1px);\n",
              "  height: 1px;\n",
              "  margin: -1px;\n",
              "  overflow: hidden;\n",
              "  padding: 0;\n",
              "  position: absolute;\n",
              "  width: 1px;\n",
              "}\n",
              "\n",
              "#sk-container-id-1 div.sk-dashed-wrapped {\n",
              "  border: 1px dashed var(--sklearn-color-line);\n",
              "  margin: 0 0.4em 0.5em 0.4em;\n",
              "  box-sizing: border-box;\n",
              "  padding-bottom: 0.4em;\n",
              "  background-color: var(--sklearn-color-background);\n",
              "}\n",
              "\n",
              "#sk-container-id-1 div.sk-container {\n",
              "  /* jupyter's `normalize.less` sets `[hidden] { display: none; }`\n",
              "     but bootstrap.min.css set `[hidden] { display: none !important; }`\n",
              "     so we also need the `!important` here to be able to override the\n",
              "     default hidden behavior on the sphinx rendered scikit-learn.org.\n",
              "     See: https://github.com/scikit-learn/scikit-learn/issues/21755 */\n",
              "  display: inline-block !important;\n",
              "  position: relative;\n",
              "}\n",
              "\n",
              "#sk-container-id-1 div.sk-text-repr-fallback {\n",
              "  display: none;\n",
              "}\n",
              "\n",
              "div.sk-parallel-item,\n",
              "div.sk-serial,\n",
              "div.sk-item {\n",
              "  /* draw centered vertical line to link estimators */\n",
              "  background-image: linear-gradient(var(--sklearn-color-text-on-default-background), var(--sklearn-color-text-on-default-background));\n",
              "  background-size: 2px 100%;\n",
              "  background-repeat: no-repeat;\n",
              "  background-position: center center;\n",
              "}\n",
              "\n",
              "/* Parallel-specific style estimator block */\n",
              "\n",
              "#sk-container-id-1 div.sk-parallel-item::after {\n",
              "  content: \"\";\n",
              "  width: 100%;\n",
              "  border-bottom: 2px solid var(--sklearn-color-text-on-default-background);\n",
              "  flex-grow: 1;\n",
              "}\n",
              "\n",
              "#sk-container-id-1 div.sk-parallel {\n",
              "  display: flex;\n",
              "  align-items: stretch;\n",
              "  justify-content: center;\n",
              "  background-color: var(--sklearn-color-background);\n",
              "  position: relative;\n",
              "}\n",
              "\n",
              "#sk-container-id-1 div.sk-parallel-item {\n",
              "  display: flex;\n",
              "  flex-direction: column;\n",
              "}\n",
              "\n",
              "#sk-container-id-1 div.sk-parallel-item:first-child::after {\n",
              "  align-self: flex-end;\n",
              "  width: 50%;\n",
              "}\n",
              "\n",
              "#sk-container-id-1 div.sk-parallel-item:last-child::after {\n",
              "  align-self: flex-start;\n",
              "  width: 50%;\n",
              "}\n",
              "\n",
              "#sk-container-id-1 div.sk-parallel-item:only-child::after {\n",
              "  width: 0;\n",
              "}\n",
              "\n",
              "/* Serial-specific style estimator block */\n",
              "\n",
              "#sk-container-id-1 div.sk-serial {\n",
              "  display: flex;\n",
              "  flex-direction: column;\n",
              "  align-items: center;\n",
              "  background-color: var(--sklearn-color-background);\n",
              "  padding-right: 1em;\n",
              "  padding-left: 1em;\n",
              "}\n",
              "\n",
              "\n",
              "/* Toggleable style: style used for estimator/Pipeline/ColumnTransformer box that is\n",
              "clickable and can be expanded/collapsed.\n",
              "- Pipeline and ColumnTransformer use this feature and define the default style\n",
              "- Estimators will overwrite some part of the style using the `sk-estimator` class\n",
              "*/\n",
              "\n",
              "/* Pipeline and ColumnTransformer style (default) */\n",
              "\n",
              "#sk-container-id-1 div.sk-toggleable {\n",
              "  /* Default theme specific background. It is overwritten whether we have a\n",
              "  specific estimator or a Pipeline/ColumnTransformer */\n",
              "  background-color: var(--sklearn-color-background);\n",
              "}\n",
              "\n",
              "/* Toggleable label */\n",
              "#sk-container-id-1 label.sk-toggleable__label {\n",
              "  cursor: pointer;\n",
              "  display: block;\n",
              "  width: 100%;\n",
              "  margin-bottom: 0;\n",
              "  padding: 0.5em;\n",
              "  box-sizing: border-box;\n",
              "  text-align: center;\n",
              "}\n",
              "\n",
              "#sk-container-id-1 label.sk-toggleable__label-arrow:before {\n",
              "  /* Arrow on the left of the label */\n",
              "  content: \"▸\";\n",
              "  float: left;\n",
              "  margin-right: 0.25em;\n",
              "  color: var(--sklearn-color-icon);\n",
              "}\n",
              "\n",
              "#sk-container-id-1 label.sk-toggleable__label-arrow:hover:before {\n",
              "  color: var(--sklearn-color-text);\n",
              "}\n",
              "\n",
              "/* Toggleable content - dropdown */\n",
              "\n",
              "#sk-container-id-1 div.sk-toggleable__content {\n",
              "  max-height: 0;\n",
              "  max-width: 0;\n",
              "  overflow: hidden;\n",
              "  text-align: left;\n",
              "  /* unfitted */\n",
              "  background-color: var(--sklearn-color-unfitted-level-0);\n",
              "}\n",
              "\n",
              "#sk-container-id-1 div.sk-toggleable__content.fitted {\n",
              "  /* fitted */\n",
              "  background-color: var(--sklearn-color-fitted-level-0);\n",
              "}\n",
              "\n",
              "#sk-container-id-1 div.sk-toggleable__content pre {\n",
              "  margin: 0.2em;\n",
              "  border-radius: 0.25em;\n",
              "  color: var(--sklearn-color-text);\n",
              "  /* unfitted */\n",
              "  background-color: var(--sklearn-color-unfitted-level-0);\n",
              "}\n",
              "\n",
              "#sk-container-id-1 div.sk-toggleable__content.fitted pre {\n",
              "  /* unfitted */\n",
              "  background-color: var(--sklearn-color-fitted-level-0);\n",
              "}\n",
              "\n",
              "#sk-container-id-1 input.sk-toggleable__control:checked~div.sk-toggleable__content {\n",
              "  /* Expand drop-down */\n",
              "  max-height: 200px;\n",
              "  max-width: 100%;\n",
              "  overflow: auto;\n",
              "}\n",
              "\n",
              "#sk-container-id-1 input.sk-toggleable__control:checked~label.sk-toggleable__label-arrow:before {\n",
              "  content: \"▾\";\n",
              "}\n",
              "\n",
              "/* Pipeline/ColumnTransformer-specific style */\n",
              "\n",
              "#sk-container-id-1 div.sk-label input.sk-toggleable__control:checked~label.sk-toggleable__label {\n",
              "  color: var(--sklearn-color-text);\n",
              "  background-color: var(--sklearn-color-unfitted-level-2);\n",
              "}\n",
              "\n",
              "#sk-container-id-1 div.sk-label.fitted input.sk-toggleable__control:checked~label.sk-toggleable__label {\n",
              "  background-color: var(--sklearn-color-fitted-level-2);\n",
              "}\n",
              "\n",
              "/* Estimator-specific style */\n",
              "\n",
              "/* Colorize estimator box */\n",
              "#sk-container-id-1 div.sk-estimator input.sk-toggleable__control:checked~label.sk-toggleable__label {\n",
              "  /* unfitted */\n",
              "  background-color: var(--sklearn-color-unfitted-level-2);\n",
              "}\n",
              "\n",
              "#sk-container-id-1 div.sk-estimator.fitted input.sk-toggleable__control:checked~label.sk-toggleable__label {\n",
              "  /* fitted */\n",
              "  background-color: var(--sklearn-color-fitted-level-2);\n",
              "}\n",
              "\n",
              "#sk-container-id-1 div.sk-label label.sk-toggleable__label,\n",
              "#sk-container-id-1 div.sk-label label {\n",
              "  /* The background is the default theme color */\n",
              "  color: var(--sklearn-color-text-on-default-background);\n",
              "}\n",
              "\n",
              "/* On hover, darken the color of the background */\n",
              "#sk-container-id-1 div.sk-label:hover label.sk-toggleable__label {\n",
              "  color: var(--sklearn-color-text);\n",
              "  background-color: var(--sklearn-color-unfitted-level-2);\n",
              "}\n",
              "\n",
              "/* Label box, darken color on hover, fitted */\n",
              "#sk-container-id-1 div.sk-label.fitted:hover label.sk-toggleable__label.fitted {\n",
              "  color: var(--sklearn-color-text);\n",
              "  background-color: var(--sklearn-color-fitted-level-2);\n",
              "}\n",
              "\n",
              "/* Estimator label */\n",
              "\n",
              "#sk-container-id-1 div.sk-label label {\n",
              "  font-family: monospace;\n",
              "  font-weight: bold;\n",
              "  display: inline-block;\n",
              "  line-height: 1.2em;\n",
              "}\n",
              "\n",
              "#sk-container-id-1 div.sk-label-container {\n",
              "  text-align: center;\n",
              "}\n",
              "\n",
              "/* Estimator-specific */\n",
              "#sk-container-id-1 div.sk-estimator {\n",
              "  font-family: monospace;\n",
              "  border: 1px dotted var(--sklearn-color-border-box);\n",
              "  border-radius: 0.25em;\n",
              "  box-sizing: border-box;\n",
              "  margin-bottom: 0.5em;\n",
              "  /* unfitted */\n",
              "  background-color: var(--sklearn-color-unfitted-level-0);\n",
              "}\n",
              "\n",
              "#sk-container-id-1 div.sk-estimator.fitted {\n",
              "  /* fitted */\n",
              "  background-color: var(--sklearn-color-fitted-level-0);\n",
              "}\n",
              "\n",
              "/* on hover */\n",
              "#sk-container-id-1 div.sk-estimator:hover {\n",
              "  /* unfitted */\n",
              "  background-color: var(--sklearn-color-unfitted-level-2);\n",
              "}\n",
              "\n",
              "#sk-container-id-1 div.sk-estimator.fitted:hover {\n",
              "  /* fitted */\n",
              "  background-color: var(--sklearn-color-fitted-level-2);\n",
              "}\n",
              "\n",
              "/* Specification for estimator info (e.g. \"i\" and \"?\") */\n",
              "\n",
              "/* Common style for \"i\" and \"?\" */\n",
              "\n",
              ".sk-estimator-doc-link,\n",
              "a:link.sk-estimator-doc-link,\n",
              "a:visited.sk-estimator-doc-link {\n",
              "  float: right;\n",
              "  font-size: smaller;\n",
              "  line-height: 1em;\n",
              "  font-family: monospace;\n",
              "  background-color: var(--sklearn-color-background);\n",
              "  border-radius: 1em;\n",
              "  height: 1em;\n",
              "  width: 1em;\n",
              "  text-decoration: none !important;\n",
              "  margin-left: 1ex;\n",
              "  /* unfitted */\n",
              "  border: var(--sklearn-color-unfitted-level-1) 1pt solid;\n",
              "  color: var(--sklearn-color-unfitted-level-1);\n",
              "}\n",
              "\n",
              ".sk-estimator-doc-link.fitted,\n",
              "a:link.sk-estimator-doc-link.fitted,\n",
              "a:visited.sk-estimator-doc-link.fitted {\n",
              "  /* fitted */\n",
              "  border: var(--sklearn-color-fitted-level-1) 1pt solid;\n",
              "  color: var(--sklearn-color-fitted-level-1);\n",
              "}\n",
              "\n",
              "/* On hover */\n",
              "div.sk-estimator:hover .sk-estimator-doc-link:hover,\n",
              ".sk-estimator-doc-link:hover,\n",
              "div.sk-label-container:hover .sk-estimator-doc-link:hover,\n",
              ".sk-estimator-doc-link:hover {\n",
              "  /* unfitted */\n",
              "  background-color: var(--sklearn-color-unfitted-level-3);\n",
              "  color: var(--sklearn-color-background);\n",
              "  text-decoration: none;\n",
              "}\n",
              "\n",
              "div.sk-estimator.fitted:hover .sk-estimator-doc-link.fitted:hover,\n",
              ".sk-estimator-doc-link.fitted:hover,\n",
              "div.sk-label-container:hover .sk-estimator-doc-link.fitted:hover,\n",
              ".sk-estimator-doc-link.fitted:hover {\n",
              "  /* fitted */\n",
              "  background-color: var(--sklearn-color-fitted-level-3);\n",
              "  color: var(--sklearn-color-background);\n",
              "  text-decoration: none;\n",
              "}\n",
              "\n",
              "/* Span, style for the box shown on hovering the info icon */\n",
              ".sk-estimator-doc-link span {\n",
              "  display: none;\n",
              "  z-index: 9999;\n",
              "  position: relative;\n",
              "  font-weight: normal;\n",
              "  right: .2ex;\n",
              "  padding: .5ex;\n",
              "  margin: .5ex;\n",
              "  width: min-content;\n",
              "  min-width: 20ex;\n",
              "  max-width: 50ex;\n",
              "  color: var(--sklearn-color-text);\n",
              "  box-shadow: 2pt 2pt 4pt #999;\n",
              "  /* unfitted */\n",
              "  background: var(--sklearn-color-unfitted-level-0);\n",
              "  border: .5pt solid var(--sklearn-color-unfitted-level-3);\n",
              "}\n",
              "\n",
              ".sk-estimator-doc-link.fitted span {\n",
              "  /* fitted */\n",
              "  background: var(--sklearn-color-fitted-level-0);\n",
              "  border: var(--sklearn-color-fitted-level-3);\n",
              "}\n",
              "\n",
              ".sk-estimator-doc-link:hover span {\n",
              "  display: block;\n",
              "}\n",
              "\n",
              "/* \"?\"-specific style due to the `<a>` HTML tag */\n",
              "\n",
              "#sk-container-id-1 a.estimator_doc_link {\n",
              "  float: right;\n",
              "  font-size: 1rem;\n",
              "  line-height: 1em;\n",
              "  font-family: monospace;\n",
              "  background-color: var(--sklearn-color-background);\n",
              "  border-radius: 1rem;\n",
              "  height: 1rem;\n",
              "  width: 1rem;\n",
              "  text-decoration: none;\n",
              "  /* unfitted */\n",
              "  color: var(--sklearn-color-unfitted-level-1);\n",
              "  border: var(--sklearn-color-unfitted-level-1) 1pt solid;\n",
              "}\n",
              "\n",
              "#sk-container-id-1 a.estimator_doc_link.fitted {\n",
              "  /* fitted */\n",
              "  border: var(--sklearn-color-fitted-level-1) 1pt solid;\n",
              "  color: var(--sklearn-color-fitted-level-1);\n",
              "}\n",
              "\n",
              "/* On hover */\n",
              "#sk-container-id-1 a.estimator_doc_link:hover {\n",
              "  /* unfitted */\n",
              "  background-color: var(--sklearn-color-unfitted-level-3);\n",
              "  color: var(--sklearn-color-background);\n",
              "  text-decoration: none;\n",
              "}\n",
              "\n",
              "#sk-container-id-1 a.estimator_doc_link.fitted:hover {\n",
              "  /* fitted */\n",
              "  background-color: var(--sklearn-color-fitted-level-3);\n",
              "}\n",
              "</style><div id=\"sk-container-id-1\" class=\"sk-top-container\"><div class=\"sk-text-repr-fallback\"><pre>SVC(C=1, kernel=&#x27;poly&#x27;)</pre><b>In a Jupyter environment, please rerun this cell to show the HTML representation or trust the notebook. <br />On GitHub, the HTML representation is unable to render, please try loading this page with nbviewer.org.</b></div><div class=\"sk-container\" hidden><div class=\"sk-item\"><div class=\"sk-estimator fitted sk-toggleable\"><input class=\"sk-toggleable__control sk-hidden--visually\" id=\"sk-estimator-id-1\" type=\"checkbox\" checked><label for=\"sk-estimator-id-1\" class=\"sk-toggleable__label fitted sk-toggleable__label-arrow fitted\">&nbsp;&nbsp;SVC<a class=\"sk-estimator-doc-link fitted\" rel=\"noreferrer\" target=\"_blank\" href=\"https://scikit-learn.org/1.5/modules/generated/sklearn.svm.SVC.html\">?<span>Documentation for SVC</span></a><span class=\"sk-estimator-doc-link fitted\">i<span>Fitted</span></span></label><div class=\"sk-toggleable__content fitted\"><pre>SVC(C=1, kernel=&#x27;poly&#x27;)</pre></div> </div></div></div></div>"
            ],
            "text/plain": [
              "SVC(C=1, kernel='poly')"
            ]
          },
          "execution_count": 42,
          "metadata": {},
          "output_type": "execute_result"
        }
      ],
      "source": [
        "Model = SVC(kernel = 'poly' , gamma = 'scale' , degree = 3 , C= 1)\n",
        "Model.fit(X_train_scaled, y_train)"
      ]
    },
    {
      "cell_type": "code",
      "execution_count": 43,
      "metadata": {},
      "outputs": [
        {
          "data": {
            "text/plain": [
              "array([False, False, False, False, False, False, False, False,  True,\n",
              "       False,  True, False, False,  True,  True,  True, False, False,\n",
              "       False,  True, False, False,  True, False, False, False, False,\n",
              "        True, False,  True, False,  True,  True, False, False,  True,\n",
              "       False, False, False,  True,  True,  True,  True,  True, False,\n",
              "       False,  True, False,  True, False, False,  True,  True, False,\n",
              "       False,  True, False, False, False, False,  True])"
            ]
          },
          "execution_count": 43,
          "metadata": {},
          "output_type": "execute_result"
        }
      ],
      "source": [
        "Model_predict = Model.predict(X_test_scaled)\n",
        "Model_predict"
      ]
    },
    {
      "cell_type": "code",
      "execution_count": 44,
      "metadata": {},
      "outputs": [
        {
          "data": {
            "text/html": [
              "<div>\n",
              "<style scoped>\n",
              "    .dataframe tbody tr th:only-of-type {\n",
              "        vertical-align: middle;\n",
              "    }\n",
              "\n",
              "    .dataframe tbody tr th {\n",
              "        vertical-align: top;\n",
              "    }\n",
              "\n",
              "    .dataframe thead th {\n",
              "        text-align: right;\n",
              "    }\n",
              "</style>\n",
              "<table border=\"1\" class=\"dataframe\">\n",
              "  <thead>\n",
              "    <tr style=\"text-align: right;\">\n",
              "      <th></th>\n",
              "      <th>age</th>\n",
              "      <th>trestbps</th>\n",
              "      <th>chol</th>\n",
              "      <th>thalach</th>\n",
              "      <th>oldpeak</th>\n",
              "      <th>risk_score</th>\n",
              "      <th>sex_True</th>\n",
              "      <th>cp_1</th>\n",
              "      <th>cp_2</th>\n",
              "      <th>cp_3</th>\n",
              "      <th>...</th>\n",
              "      <th>ca_3</th>\n",
              "      <th>thal_2</th>\n",
              "      <th>thal_3</th>\n",
              "      <th>age_group_Middle-aged</th>\n",
              "      <th>age_group_Senior</th>\n",
              "      <th>age_group_Young</th>\n",
              "      <th>bp_category_Normal</th>\n",
              "      <th>bp_category_Very High</th>\n",
              "      <th>chol_category_Good</th>\n",
              "      <th>chol_category_High</th>\n",
              "    </tr>\n",
              "  </thead>\n",
              "  <tbody>\n",
              "    <tr>\n",
              "      <th>219</th>\n",
              "      <td>59</td>\n",
              "      <td>138</td>\n",
              "      <td>271</td>\n",
              "      <td>182</td>\n",
              "      <td>0.0</td>\n",
              "      <td>1</td>\n",
              "      <td>True</td>\n",
              "      <td>False</td>\n",
              "      <td>False</td>\n",
              "      <td>True</td>\n",
              "      <td>...</td>\n",
              "      <td>False</td>\n",
              "      <td>False</td>\n",
              "      <td>False</td>\n",
              "      <td>False</td>\n",
              "      <td>False</td>\n",
              "      <td>False</td>\n",
              "      <td>False</td>\n",
              "      <td>False</td>\n",
              "      <td>False</td>\n",
              "      <td>True</td>\n",
              "    </tr>\n",
              "    <tr>\n",
              "      <th>271</th>\n",
              "      <td>66</td>\n",
              "      <td>160</td>\n",
              "      <td>228</td>\n",
              "      <td>138</td>\n",
              "      <td>2.3</td>\n",
              "      <td>2</td>\n",
              "      <td>True</td>\n",
              "      <td>False</td>\n",
              "      <td>False</td>\n",
              "      <td>True</td>\n",
              "      <td>...</td>\n",
              "      <td>False</td>\n",
              "      <td>True</td>\n",
              "      <td>False</td>\n",
              "      <td>False</td>\n",
              "      <td>True</td>\n",
              "      <td>False</td>\n",
              "      <td>False</td>\n",
              "      <td>True</td>\n",
              "      <td>False</td>\n",
              "      <td>False</td>\n",
              "    </tr>\n",
              "    <tr>\n",
              "      <th>89</th>\n",
              "      <td>51</td>\n",
              "      <td>130</td>\n",
              "      <td>256</td>\n",
              "      <td>149</td>\n",
              "      <td>0.5</td>\n",
              "      <td>1</td>\n",
              "      <td>False</td>\n",
              "      <td>False</td>\n",
              "      <td>True</td>\n",
              "      <td>False</td>\n",
              "      <td>...</td>\n",
              "      <td>False</td>\n",
              "      <td>False</td>\n",
              "      <td>False</td>\n",
              "      <td>False</td>\n",
              "      <td>False</td>\n",
              "      <td>False</td>\n",
              "      <td>False</td>\n",
              "      <td>False</td>\n",
              "      <td>False</td>\n",
              "      <td>True</td>\n",
              "    </tr>\n",
              "    <tr>\n",
              "      <th>101</th>\n",
              "      <td>34</td>\n",
              "      <td>118</td>\n",
              "      <td>182</td>\n",
              "      <td>174</td>\n",
              "      <td>0.0</td>\n",
              "      <td>0</td>\n",
              "      <td>True</td>\n",
              "      <td>False</td>\n",
              "      <td>False</td>\n",
              "      <td>False</td>\n",
              "      <td>...</td>\n",
              "      <td>False</td>\n",
              "      <td>False</td>\n",
              "      <td>False</td>\n",
              "      <td>False</td>\n",
              "      <td>False</td>\n",
              "      <td>True</td>\n",
              "      <td>True</td>\n",
              "      <td>False</td>\n",
              "      <td>True</td>\n",
              "      <td>False</td>\n",
              "    </tr>\n",
              "    <tr>\n",
              "      <th>67</th>\n",
              "      <td>54</td>\n",
              "      <td>150</td>\n",
              "      <td>232</td>\n",
              "      <td>165</td>\n",
              "      <td>1.6</td>\n",
              "      <td>1</td>\n",
              "      <td>True</td>\n",
              "      <td>False</td>\n",
              "      <td>True</td>\n",
              "      <td>False</td>\n",
              "      <td>...</td>\n",
              "      <td>False</td>\n",
              "      <td>False</td>\n",
              "      <td>True</td>\n",
              "      <td>False</td>\n",
              "      <td>False</td>\n",
              "      <td>False</td>\n",
              "      <td>False</td>\n",
              "      <td>True</td>\n",
              "      <td>False</td>\n",
              "      <td>False</td>\n",
              "    </tr>\n",
              "  </tbody>\n",
              "</table>\n",
              "<p>5 rows × 28 columns</p>\n",
              "</div>"
            ],
            "text/plain": [
              "     age  trestbps  chol  thalach  oldpeak  risk_score  sex_True   cp_1  \\\n",
              "219   59       138   271      182      0.0           1      True  False   \n",
              "271   66       160   228      138      2.3           2      True  False   \n",
              "89    51       130   256      149      0.5           1     False  False   \n",
              "101   34       118   182      174      0.0           0      True  False   \n",
              "67    54       150   232      165      1.6           1      True  False   \n",
              "\n",
              "      cp_2   cp_3  ...   ca_3  thal_2  thal_3  age_group_Middle-aged  \\\n",
              "219  False   True  ...  False   False   False                  False   \n",
              "271  False   True  ...  False    True   False                  False   \n",
              "89    True  False  ...  False   False   False                  False   \n",
              "101  False  False  ...  False   False   False                  False   \n",
              "67    True  False  ...  False   False    True                  False   \n",
              "\n",
              "     age_group_Senior  age_group_Young  bp_category_Normal  \\\n",
              "219             False            False               False   \n",
              "271              True            False               False   \n",
              "89              False            False               False   \n",
              "101             False             True                True   \n",
              "67              False            False               False   \n",
              "\n",
              "     bp_category_Very High  chol_category_Good  chol_category_High  \n",
              "219                  False               False                True  \n",
              "271                   True               False               False  \n",
              "89                   False               False                True  \n",
              "101                  False                True               False  \n",
              "67                    True               False               False  \n",
              "\n",
              "[5 rows x 28 columns]"
            ]
          },
          "execution_count": 44,
          "metadata": {},
          "output_type": "execute_result"
        }
      ],
      "source": [
        "X_test.head()"
      ]
    },
    {
      "cell_type": "code",
      "execution_count": 45,
      "metadata": {},
      "outputs": [
        {
          "data": {
            "text/plain": [
              "219    False\n",
              "271    False\n",
              "89     False\n",
              "101    False\n",
              "67     False\n",
              "Name: target, dtype: bool"
            ]
          },
          "execution_count": 45,
          "metadata": {},
          "output_type": "execute_result"
        }
      ],
      "source": [
        "y_test.head()"
      ]
    },
    {
      "cell_type": "code",
      "execution_count": null,
      "metadata": {},
      "outputs": [],
      "source": []
    }
  ],
  "metadata": {
    "colab": {
      "collapsed_sections": [
        "bef0xM-3uXwI"
      ],
      "provenance": []
    },
    "kernelspec": {
      "display_name": "base",
      "language": "python",
      "name": "python3"
    },
    "language_info": {
      "codemirror_mode": {
        "name": "ipython",
        "version": 3
      },
      "file_extension": ".py",
      "mimetype": "text/x-python",
      "name": "python",
      "nbconvert_exporter": "python",
      "pygments_lexer": "ipython3",
      "version": "3.12.7"
    }
  },
  "nbformat": 4,
  "nbformat_minor": 0
}
