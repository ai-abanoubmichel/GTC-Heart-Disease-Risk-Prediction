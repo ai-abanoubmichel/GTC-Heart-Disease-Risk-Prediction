{
  "cells": [
    {
      "cell_type": "markdown",
      "metadata": {
        "id": "ll8B_DSFtre8"
      },
      "source": [
        "# Heart Disease Diagnosing and Prediction\n",
        "\n",
        "\n"
      ]
    },
    {
      "cell_type": "markdown",
      "metadata": {
        "id": "2eS6LyAft5HN"
      },
      "source": [
        "## Phase 1: Data Preparation"
      ]
    },
    {
      "cell_type": "code",
      "execution_count": 3,
      "metadata": {
        "id": "foqNaXKMtos5"
      },
      "outputs": [],
      "source": [
        "#imorting basic data preperation and exploration libraries\n",
        "import pandas as pd\n",
        "import numpy as np\n",
        "import matplotlib.pyplot as plt\n",
        "import seaborn as sns\n"
      ]
    },
    {
      "cell_type": "markdown",
      "metadata": {
        "id": "2-heYp9UwJRS"
      },
      "source": [
        "Data Source \"https://archive.ics.uci.edu/dataset/45/heart+disease\""
      ]
    },
    {
      "cell_type": "code",
      "execution_count": 4,
      "metadata": {
        "id": "B2p92XCZwOPb"
      },
      "outputs": [],
      "source": [
        "#loading data\n",
        "heart_disease_df = pd.read_csv('Heart_disease_cleveland_new.csv')"
      ]
    },
    {
      "cell_type": "code",
      "execution_count": 5,
      "metadata": {
        "colab": {
          "base_uri": "https://localhost:8080/",
          "height": 206
        },
        "id": "2jIfHL4excwG",
        "outputId": "2cedff20-3353-4f60-91d3-fabfdf105f98"
      },
      "outputs": [
        {
          "output_type": "execute_result",
          "data": {
            "text/plain": [
              "   age  sex  cp  trestbps  chol  fbs  restecg  thalach  exang  oldpeak  slope  \\\n",
              "0   63    1   0       145   233    1        2      150      0      2.3      2   \n",
              "1   67    1   3       160   286    0        2      108      1      1.5      1   \n",
              "2   67    1   3       120   229    0        2      129      1      2.6      1   \n",
              "3   37    1   2       130   250    0        0      187      0      3.5      2   \n",
              "4   41    0   1       130   204    0        2      172      0      1.4      0   \n",
              "\n",
              "   ca  thal  target  \n",
              "0   0     2       0  \n",
              "1   3     1       1  \n",
              "2   2     3       1  \n",
              "3   0     1       0  \n",
              "4   0     1       0  "
            ],
            "text/html": [
              "\n",
              "  <div id=\"df-cedd07e3-3c62-49fc-92ef-23ab6e22ff43\" class=\"colab-df-container\">\n",
              "    <div>\n",
              "<style scoped>\n",
              "    .dataframe tbody tr th:only-of-type {\n",
              "        vertical-align: middle;\n",
              "    }\n",
              "\n",
              "    .dataframe tbody tr th {\n",
              "        vertical-align: top;\n",
              "    }\n",
              "\n",
              "    .dataframe thead th {\n",
              "        text-align: right;\n",
              "    }\n",
              "</style>\n",
              "<table border=\"1\" class=\"dataframe\">\n",
              "  <thead>\n",
              "    <tr style=\"text-align: right;\">\n",
              "      <th></th>\n",
              "      <th>age</th>\n",
              "      <th>sex</th>\n",
              "      <th>cp</th>\n",
              "      <th>trestbps</th>\n",
              "      <th>chol</th>\n",
              "      <th>fbs</th>\n",
              "      <th>restecg</th>\n",
              "      <th>thalach</th>\n",
              "      <th>exang</th>\n",
              "      <th>oldpeak</th>\n",
              "      <th>slope</th>\n",
              "      <th>ca</th>\n",
              "      <th>thal</th>\n",
              "      <th>target</th>\n",
              "    </tr>\n",
              "  </thead>\n",
              "  <tbody>\n",
              "    <tr>\n",
              "      <th>0</th>\n",
              "      <td>63</td>\n",
              "      <td>1</td>\n",
              "      <td>0</td>\n",
              "      <td>145</td>\n",
              "      <td>233</td>\n",
              "      <td>1</td>\n",
              "      <td>2</td>\n",
              "      <td>150</td>\n",
              "      <td>0</td>\n",
              "      <td>2.3</td>\n",
              "      <td>2</td>\n",
              "      <td>0</td>\n",
              "      <td>2</td>\n",
              "      <td>0</td>\n",
              "    </tr>\n",
              "    <tr>\n",
              "      <th>1</th>\n",
              "      <td>67</td>\n",
              "      <td>1</td>\n",
              "      <td>3</td>\n",
              "      <td>160</td>\n",
              "      <td>286</td>\n",
              "      <td>0</td>\n",
              "      <td>2</td>\n",
              "      <td>108</td>\n",
              "      <td>1</td>\n",
              "      <td>1.5</td>\n",
              "      <td>1</td>\n",
              "      <td>3</td>\n",
              "      <td>1</td>\n",
              "      <td>1</td>\n",
              "    </tr>\n",
              "    <tr>\n",
              "      <th>2</th>\n",
              "      <td>67</td>\n",
              "      <td>1</td>\n",
              "      <td>3</td>\n",
              "      <td>120</td>\n",
              "      <td>229</td>\n",
              "      <td>0</td>\n",
              "      <td>2</td>\n",
              "      <td>129</td>\n",
              "      <td>1</td>\n",
              "      <td>2.6</td>\n",
              "      <td>1</td>\n",
              "      <td>2</td>\n",
              "      <td>3</td>\n",
              "      <td>1</td>\n",
              "    </tr>\n",
              "    <tr>\n",
              "      <th>3</th>\n",
              "      <td>37</td>\n",
              "      <td>1</td>\n",
              "      <td>2</td>\n",
              "      <td>130</td>\n",
              "      <td>250</td>\n",
              "      <td>0</td>\n",
              "      <td>0</td>\n",
              "      <td>187</td>\n",
              "      <td>0</td>\n",
              "      <td>3.5</td>\n",
              "      <td>2</td>\n",
              "      <td>0</td>\n",
              "      <td>1</td>\n",
              "      <td>0</td>\n",
              "    </tr>\n",
              "    <tr>\n",
              "      <th>4</th>\n",
              "      <td>41</td>\n",
              "      <td>0</td>\n",
              "      <td>1</td>\n",
              "      <td>130</td>\n",
              "      <td>204</td>\n",
              "      <td>0</td>\n",
              "      <td>2</td>\n",
              "      <td>172</td>\n",
              "      <td>0</td>\n",
              "      <td>1.4</td>\n",
              "      <td>0</td>\n",
              "      <td>0</td>\n",
              "      <td>1</td>\n",
              "      <td>0</td>\n",
              "    </tr>\n",
              "  </tbody>\n",
              "</table>\n",
              "</div>\n",
              "    <div class=\"colab-df-buttons\">\n",
              "\n",
              "  <div class=\"colab-df-container\">\n",
              "    <button class=\"colab-df-convert\" onclick=\"convertToInteractive('df-cedd07e3-3c62-49fc-92ef-23ab6e22ff43')\"\n",
              "            title=\"Convert this dataframe to an interactive table.\"\n",
              "            style=\"display:none;\">\n",
              "\n",
              "  <svg xmlns=\"http://www.w3.org/2000/svg\" height=\"24px\" viewBox=\"0 -960 960 960\">\n",
              "    <path d=\"M120-120v-720h720v720H120Zm60-500h600v-160H180v160Zm220 220h160v-160H400v160Zm0 220h160v-160H400v160ZM180-400h160v-160H180v160Zm440 0h160v-160H620v160ZM180-180h160v-160H180v160Zm440 0h160v-160H620v160Z\"/>\n",
              "  </svg>\n",
              "    </button>\n",
              "\n",
              "  <style>\n",
              "    .colab-df-container {\n",
              "      display:flex;\n",
              "      gap: 12px;\n",
              "    }\n",
              "\n",
              "    .colab-df-convert {\n",
              "      background-color: #E8F0FE;\n",
              "      border: none;\n",
              "      border-radius: 50%;\n",
              "      cursor: pointer;\n",
              "      display: none;\n",
              "      fill: #1967D2;\n",
              "      height: 32px;\n",
              "      padding: 0 0 0 0;\n",
              "      width: 32px;\n",
              "    }\n",
              "\n",
              "    .colab-df-convert:hover {\n",
              "      background-color: #E2EBFA;\n",
              "      box-shadow: 0px 1px 2px rgba(60, 64, 67, 0.3), 0px 1px 3px 1px rgba(60, 64, 67, 0.15);\n",
              "      fill: #174EA6;\n",
              "    }\n",
              "\n",
              "    .colab-df-buttons div {\n",
              "      margin-bottom: 4px;\n",
              "    }\n",
              "\n",
              "    [theme=dark] .colab-df-convert {\n",
              "      background-color: #3B4455;\n",
              "      fill: #D2E3FC;\n",
              "    }\n",
              "\n",
              "    [theme=dark] .colab-df-convert:hover {\n",
              "      background-color: #434B5C;\n",
              "      box-shadow: 0px 1px 3px 1px rgba(0, 0, 0, 0.15);\n",
              "      filter: drop-shadow(0px 1px 2px rgba(0, 0, 0, 0.3));\n",
              "      fill: #FFFFFF;\n",
              "    }\n",
              "  </style>\n",
              "\n",
              "    <script>\n",
              "      const buttonEl =\n",
              "        document.querySelector('#df-cedd07e3-3c62-49fc-92ef-23ab6e22ff43 button.colab-df-convert');\n",
              "      buttonEl.style.display =\n",
              "        google.colab.kernel.accessAllowed ? 'block' : 'none';\n",
              "\n",
              "      async function convertToInteractive(key) {\n",
              "        const element = document.querySelector('#df-cedd07e3-3c62-49fc-92ef-23ab6e22ff43');\n",
              "        const dataTable =\n",
              "          await google.colab.kernel.invokeFunction('convertToInteractive',\n",
              "                                                    [key], {});\n",
              "        if (!dataTable) return;\n",
              "\n",
              "        const docLinkHtml = 'Like what you see? Visit the ' +\n",
              "          '<a target=\"_blank\" href=https://colab.research.google.com/notebooks/data_table.ipynb>data table notebook</a>'\n",
              "          + ' to learn more about interactive tables.';\n",
              "        element.innerHTML = '';\n",
              "        dataTable['output_type'] = 'display_data';\n",
              "        await google.colab.output.renderOutput(dataTable, element);\n",
              "        const docLink = document.createElement('div');\n",
              "        docLink.innerHTML = docLinkHtml;\n",
              "        element.appendChild(docLink);\n",
              "      }\n",
              "    </script>\n",
              "  </div>\n",
              "\n",
              "\n",
              "    <div id=\"df-f9238b99-b1bb-47c5-ab76-1a7452e33abe\">\n",
              "      <button class=\"colab-df-quickchart\" onclick=\"quickchart('df-f9238b99-b1bb-47c5-ab76-1a7452e33abe')\"\n",
              "                title=\"Suggest charts\"\n",
              "                style=\"display:none;\">\n",
              "\n",
              "<svg xmlns=\"http://www.w3.org/2000/svg\" height=\"24px\"viewBox=\"0 0 24 24\"\n",
              "     width=\"24px\">\n",
              "    <g>\n",
              "        <path d=\"M19 3H5c-1.1 0-2 .9-2 2v14c0 1.1.9 2 2 2h14c1.1 0 2-.9 2-2V5c0-1.1-.9-2-2-2zM9 17H7v-7h2v7zm4 0h-2V7h2v10zm4 0h-2v-4h2v4z\"/>\n",
              "    </g>\n",
              "</svg>\n",
              "      </button>\n",
              "\n",
              "<style>\n",
              "  .colab-df-quickchart {\n",
              "      --bg-color: #E8F0FE;\n",
              "      --fill-color: #1967D2;\n",
              "      --hover-bg-color: #E2EBFA;\n",
              "      --hover-fill-color: #174EA6;\n",
              "      --disabled-fill-color: #AAA;\n",
              "      --disabled-bg-color: #DDD;\n",
              "  }\n",
              "\n",
              "  [theme=dark] .colab-df-quickchart {\n",
              "      --bg-color: #3B4455;\n",
              "      --fill-color: #D2E3FC;\n",
              "      --hover-bg-color: #434B5C;\n",
              "      --hover-fill-color: #FFFFFF;\n",
              "      --disabled-bg-color: #3B4455;\n",
              "      --disabled-fill-color: #666;\n",
              "  }\n",
              "\n",
              "  .colab-df-quickchart {\n",
              "    background-color: var(--bg-color);\n",
              "    border: none;\n",
              "    border-radius: 50%;\n",
              "    cursor: pointer;\n",
              "    display: none;\n",
              "    fill: var(--fill-color);\n",
              "    height: 32px;\n",
              "    padding: 0;\n",
              "    width: 32px;\n",
              "  }\n",
              "\n",
              "  .colab-df-quickchart:hover {\n",
              "    background-color: var(--hover-bg-color);\n",
              "    box-shadow: 0 1px 2px rgba(60, 64, 67, 0.3), 0 1px 3px 1px rgba(60, 64, 67, 0.15);\n",
              "    fill: var(--button-hover-fill-color);\n",
              "  }\n",
              "\n",
              "  .colab-df-quickchart-complete:disabled,\n",
              "  .colab-df-quickchart-complete:disabled:hover {\n",
              "    background-color: var(--disabled-bg-color);\n",
              "    fill: var(--disabled-fill-color);\n",
              "    box-shadow: none;\n",
              "  }\n",
              "\n",
              "  .colab-df-spinner {\n",
              "    border: 2px solid var(--fill-color);\n",
              "    border-color: transparent;\n",
              "    border-bottom-color: var(--fill-color);\n",
              "    animation:\n",
              "      spin 1s steps(1) infinite;\n",
              "  }\n",
              "\n",
              "  @keyframes spin {\n",
              "    0% {\n",
              "      border-color: transparent;\n",
              "      border-bottom-color: var(--fill-color);\n",
              "      border-left-color: var(--fill-color);\n",
              "    }\n",
              "    20% {\n",
              "      border-color: transparent;\n",
              "      border-left-color: var(--fill-color);\n",
              "      border-top-color: var(--fill-color);\n",
              "    }\n",
              "    30% {\n",
              "      border-color: transparent;\n",
              "      border-left-color: var(--fill-color);\n",
              "      border-top-color: var(--fill-color);\n",
              "      border-right-color: var(--fill-color);\n",
              "    }\n",
              "    40% {\n",
              "      border-color: transparent;\n",
              "      border-right-color: var(--fill-color);\n",
              "      border-top-color: var(--fill-color);\n",
              "    }\n",
              "    60% {\n",
              "      border-color: transparent;\n",
              "      border-right-color: var(--fill-color);\n",
              "    }\n",
              "    80% {\n",
              "      border-color: transparent;\n",
              "      border-right-color: var(--fill-color);\n",
              "      border-bottom-color: var(--fill-color);\n",
              "    }\n",
              "    90% {\n",
              "      border-color: transparent;\n",
              "      border-bottom-color: var(--fill-color);\n",
              "    }\n",
              "  }\n",
              "</style>\n",
              "\n",
              "      <script>\n",
              "        async function quickchart(key) {\n",
              "          const quickchartButtonEl =\n",
              "            document.querySelector('#' + key + ' button');\n",
              "          quickchartButtonEl.disabled = true;  // To prevent multiple clicks.\n",
              "          quickchartButtonEl.classList.add('colab-df-spinner');\n",
              "          try {\n",
              "            const charts = await google.colab.kernel.invokeFunction(\n",
              "                'suggestCharts', [key], {});\n",
              "          } catch (error) {\n",
              "            console.error('Error during call to suggestCharts:', error);\n",
              "          }\n",
              "          quickchartButtonEl.classList.remove('colab-df-spinner');\n",
              "          quickchartButtonEl.classList.add('colab-df-quickchart-complete');\n",
              "        }\n",
              "        (() => {\n",
              "          let quickchartButtonEl =\n",
              "            document.querySelector('#df-f9238b99-b1bb-47c5-ab76-1a7452e33abe button');\n",
              "          quickchartButtonEl.style.display =\n",
              "            google.colab.kernel.accessAllowed ? 'block' : 'none';\n",
              "        })();\n",
              "      </script>\n",
              "    </div>\n",
              "\n",
              "    </div>\n",
              "  </div>\n"
            ],
            "application/vnd.google.colaboratory.intrinsic+json": {
              "type": "dataframe",
              "variable_name": "heart_disease_df",
              "summary": "{\n  \"name\": \"heart_disease_df\",\n  \"rows\": 303,\n  \"fields\": [\n    {\n      \"column\": \"age\",\n      \"properties\": {\n        \"dtype\": \"number\",\n        \"std\": 9,\n        \"min\": 29,\n        \"max\": 77,\n        \"num_unique_values\": 41,\n        \"samples\": [\n          61,\n          64,\n          44\n        ],\n        \"semantic_type\": \"\",\n        \"description\": \"\"\n      }\n    },\n    {\n      \"column\": \"sex\",\n      \"properties\": {\n        \"dtype\": \"number\",\n        \"std\": 0,\n        \"min\": 0,\n        \"max\": 1,\n        \"num_unique_values\": 2,\n        \"samples\": [\n          0,\n          1\n        ],\n        \"semantic_type\": \"\",\n        \"description\": \"\"\n      }\n    },\n    {\n      \"column\": \"cp\",\n      \"properties\": {\n        \"dtype\": \"number\",\n        \"std\": 0,\n        \"min\": 0,\n        \"max\": 3,\n        \"num_unique_values\": 4,\n        \"samples\": [\n          3,\n          1\n        ],\n        \"semantic_type\": \"\",\n        \"description\": \"\"\n      }\n    },\n    {\n      \"column\": \"trestbps\",\n      \"properties\": {\n        \"dtype\": \"number\",\n        \"std\": 17,\n        \"min\": 94,\n        \"max\": 200,\n        \"num_unique_values\": 50,\n        \"samples\": [\n          124,\n          192\n        ],\n        \"semantic_type\": \"\",\n        \"description\": \"\"\n      }\n    },\n    {\n      \"column\": \"chol\",\n      \"properties\": {\n        \"dtype\": \"number\",\n        \"std\": 51,\n        \"min\": 126,\n        \"max\": 564,\n        \"num_unique_values\": 152,\n        \"samples\": [\n          321,\n          187\n        ],\n        \"semantic_type\": \"\",\n        \"description\": \"\"\n      }\n    },\n    {\n      \"column\": \"fbs\",\n      \"properties\": {\n        \"dtype\": \"number\",\n        \"std\": 0,\n        \"min\": 0,\n        \"max\": 1,\n        \"num_unique_values\": 2,\n        \"samples\": [\n          0,\n          1\n        ],\n        \"semantic_type\": \"\",\n        \"description\": \"\"\n      }\n    },\n    {\n      \"column\": \"restecg\",\n      \"properties\": {\n        \"dtype\": \"number\",\n        \"std\": 0,\n        \"min\": 0,\n        \"max\": 2,\n        \"num_unique_values\": 3,\n        \"samples\": [\n          2,\n          0\n        ],\n        \"semantic_type\": \"\",\n        \"description\": \"\"\n      }\n    },\n    {\n      \"column\": \"thalach\",\n      \"properties\": {\n        \"dtype\": \"number\",\n        \"std\": 22,\n        \"min\": 71,\n        \"max\": 202,\n        \"num_unique_values\": 91,\n        \"samples\": [\n          170,\n          114\n        ],\n        \"semantic_type\": \"\",\n        \"description\": \"\"\n      }\n    },\n    {\n      \"column\": \"exang\",\n      \"properties\": {\n        \"dtype\": \"number\",\n        \"std\": 0,\n        \"min\": 0,\n        \"max\": 1,\n        \"num_unique_values\": 2,\n        \"samples\": [\n          1,\n          0\n        ],\n        \"semantic_type\": \"\",\n        \"description\": \"\"\n      }\n    },\n    {\n      \"column\": \"oldpeak\",\n      \"properties\": {\n        \"dtype\": \"number\",\n        \"std\": 1.161075022068634,\n        \"min\": 0.0,\n        \"max\": 6.2,\n        \"num_unique_values\": 40,\n        \"samples\": [\n          2.4,\n          0.2\n        ],\n        \"semantic_type\": \"\",\n        \"description\": \"\"\n      }\n    },\n    {\n      \"column\": \"slope\",\n      \"properties\": {\n        \"dtype\": \"number\",\n        \"std\": 0,\n        \"min\": 0,\n        \"max\": 2,\n        \"num_unique_values\": 3,\n        \"samples\": [\n          2,\n          1\n        ],\n        \"semantic_type\": \"\",\n        \"description\": \"\"\n      }\n    },\n    {\n      \"column\": \"ca\",\n      \"properties\": {\n        \"dtype\": \"number\",\n        \"std\": 0,\n        \"min\": 0,\n        \"max\": 3,\n        \"num_unique_values\": 4,\n        \"samples\": [\n          3,\n          1\n        ],\n        \"semantic_type\": \"\",\n        \"description\": \"\"\n      }\n    },\n    {\n      \"column\": \"thal\",\n      \"properties\": {\n        \"dtype\": \"number\",\n        \"std\": 0,\n        \"min\": 1,\n        \"max\": 3,\n        \"num_unique_values\": 3,\n        \"samples\": [\n          2,\n          1\n        ],\n        \"semantic_type\": \"\",\n        \"description\": \"\"\n      }\n    },\n    {\n      \"column\": \"target\",\n      \"properties\": {\n        \"dtype\": \"number\",\n        \"std\": 0,\n        \"min\": 0,\n        \"max\": 1,\n        \"num_unique_values\": 2,\n        \"samples\": [\n          1,\n          0\n        ],\n        \"semantic_type\": \"\",\n        \"description\": \"\"\n      }\n    }\n  ]\n}"
            }
          },
          "metadata": {},
          "execution_count": 5
        }
      ],
      "source": [
        "#dataset_overview\n",
        "heart_disease_df.head()"
      ]
    },
    {
      "cell_type": "markdown",
      "metadata": {
        "id": "y5YMWqz_8-f0"
      },
      "source": [
        "**Data Discribtion**\n",
        "\n",
        "Variable Name : Description\n",
        "\n",
        "age : age in year\n",
        "\n",
        "sex : gender\n",
        "\n",
        "cp : Ceruloplasmin protein\n",
        "\n",
        "trestbps : resting blood pressure in mm Hg\n",
        "\n",
        "chol : serum cholestoral\n",
        "\n",
        "fbs : \tfasting blood sugar  > 120 mg/dl\n",
        "\n",
        "restecg : resting electrocardiographic results\n",
        "\n",
        "thalach : maximum heart rate achieved\n",
        "\n",
        "exang : exercise induced angina\n",
        "\n",
        "oldpeak : ST depression induced by exercise relative to rest\n",
        "\n",
        "slope : The slope of the ST segment in relation to heart rate\n",
        "\n",
        "ca : number of major vessels (0-3) colored by flourosopy\n",
        "\n",
        "thal : Thalassemia\n",
        "\n",
        "target : result"
      ]
    },
    {
      "cell_type": "code",
      "execution_count": 6,
      "metadata": {
        "colab": {
          "base_uri": "https://localhost:8080/"
        },
        "id": "quUQXfW1yJG2",
        "outputId": "a628c6b2-692a-4287-c097-42074202f5aa"
      },
      "outputs": [
        {
          "output_type": "execute_result",
          "data": {
            "text/plain": [
              "(303, 14)"
            ]
          },
          "metadata": {},
          "execution_count": 6
        }
      ],
      "source": [
        "#dataset shape\n",
        "heart_disease_df.shape"
      ]
    },
    {
      "cell_type": "code",
      "execution_count": 7,
      "metadata": {
        "colab": {
          "base_uri": "https://localhost:8080/"
        },
        "id": "DfX7sx63yD83",
        "outputId": "c1487df0-985d-43ed-8ef0-06a1ae87caa1"
      },
      "outputs": [
        {
          "output_type": "stream",
          "name": "stdout",
          "text": [
            "<class 'pandas.core.frame.DataFrame'>\n",
            "RangeIndex: 303 entries, 0 to 302\n",
            "Data columns (total 14 columns):\n",
            " #   Column    Non-Null Count  Dtype  \n",
            "---  ------    --------------  -----  \n",
            " 0   age       303 non-null    int64  \n",
            " 1   sex       303 non-null    int64  \n",
            " 2   cp        303 non-null    int64  \n",
            " 3   trestbps  303 non-null    int64  \n",
            " 4   chol      303 non-null    int64  \n",
            " 5   fbs       303 non-null    int64  \n",
            " 6   restecg   303 non-null    int64  \n",
            " 7   thalach   303 non-null    int64  \n",
            " 8   exang     303 non-null    int64  \n",
            " 9   oldpeak   303 non-null    float64\n",
            " 10  slope     303 non-null    int64  \n",
            " 11  ca        303 non-null    int64  \n",
            " 12  thal      303 non-null    int64  \n",
            " 13  target    303 non-null    int64  \n",
            "dtypes: float64(1), int64(13)\n",
            "memory usage: 33.3 KB\n"
          ]
        }
      ],
      "source": [
        "#columns information and datatypes\n",
        "heart_disease_df.info()"
      ]
    },
    {
      "cell_type": "code",
      "execution_count": 8,
      "metadata": {
        "colab": {
          "base_uri": "https://localhost:8080/",
          "height": 320
        },
        "id": "GAytVRMCyHTQ",
        "outputId": "d611166a-b53b-4cfb-d7ad-918a71072fab"
      },
      "outputs": [
        {
          "output_type": "execute_result",
          "data": {
            "text/plain": [
              "              age         sex          cp    trestbps        chol         fbs  \\\n",
              "count  303.000000  303.000000  303.000000  303.000000  303.000000  303.000000   \n",
              "mean    54.438944    0.679868    2.158416  131.689769  246.693069    0.148515   \n",
              "std      9.038662    0.467299    0.960126   17.599748   51.776918    0.356198   \n",
              "min     29.000000    0.000000    0.000000   94.000000  126.000000    0.000000   \n",
              "25%     48.000000    0.000000    2.000000  120.000000  211.000000    0.000000   \n",
              "50%     56.000000    1.000000    2.000000  130.000000  241.000000    0.000000   \n",
              "75%     61.000000    1.000000    3.000000  140.000000  275.000000    0.000000   \n",
              "max     77.000000    1.000000    3.000000  200.000000  564.000000    1.000000   \n",
              "\n",
              "          restecg     thalach       exang     oldpeak       slope          ca  \\\n",
              "count  303.000000  303.000000  303.000000  303.000000  303.000000  303.000000   \n",
              "mean     0.990099  149.607261    0.326733    1.039604    0.600660    0.663366   \n",
              "std      0.994971   22.875003    0.469794    1.161075    0.616226    0.934375   \n",
              "min      0.000000   71.000000    0.000000    0.000000    0.000000    0.000000   \n",
              "25%      0.000000  133.500000    0.000000    0.000000    0.000000    0.000000   \n",
              "50%      1.000000  153.000000    0.000000    0.800000    1.000000    0.000000   \n",
              "75%      2.000000  166.000000    1.000000    1.600000    1.000000    1.000000   \n",
              "max      2.000000  202.000000    1.000000    6.200000    2.000000    3.000000   \n",
              "\n",
              "             thal      target  \n",
              "count  303.000000  303.000000  \n",
              "mean     1.831683    0.458746  \n",
              "std      0.956705    0.499120  \n",
              "min      1.000000    0.000000  \n",
              "25%      1.000000    0.000000  \n",
              "50%      1.000000    0.000000  \n",
              "75%      3.000000    1.000000  \n",
              "max      3.000000    1.000000  "
            ],
            "text/html": [
              "\n",
              "  <div id=\"df-7951a25c-9866-425f-ba6a-86a9c6de521a\" class=\"colab-df-container\">\n",
              "    <div>\n",
              "<style scoped>\n",
              "    .dataframe tbody tr th:only-of-type {\n",
              "        vertical-align: middle;\n",
              "    }\n",
              "\n",
              "    .dataframe tbody tr th {\n",
              "        vertical-align: top;\n",
              "    }\n",
              "\n",
              "    .dataframe thead th {\n",
              "        text-align: right;\n",
              "    }\n",
              "</style>\n",
              "<table border=\"1\" class=\"dataframe\">\n",
              "  <thead>\n",
              "    <tr style=\"text-align: right;\">\n",
              "      <th></th>\n",
              "      <th>age</th>\n",
              "      <th>sex</th>\n",
              "      <th>cp</th>\n",
              "      <th>trestbps</th>\n",
              "      <th>chol</th>\n",
              "      <th>fbs</th>\n",
              "      <th>restecg</th>\n",
              "      <th>thalach</th>\n",
              "      <th>exang</th>\n",
              "      <th>oldpeak</th>\n",
              "      <th>slope</th>\n",
              "      <th>ca</th>\n",
              "      <th>thal</th>\n",
              "      <th>target</th>\n",
              "    </tr>\n",
              "  </thead>\n",
              "  <tbody>\n",
              "    <tr>\n",
              "      <th>count</th>\n",
              "      <td>303.000000</td>\n",
              "      <td>303.000000</td>\n",
              "      <td>303.000000</td>\n",
              "      <td>303.000000</td>\n",
              "      <td>303.000000</td>\n",
              "      <td>303.000000</td>\n",
              "      <td>303.000000</td>\n",
              "      <td>303.000000</td>\n",
              "      <td>303.000000</td>\n",
              "      <td>303.000000</td>\n",
              "      <td>303.000000</td>\n",
              "      <td>303.000000</td>\n",
              "      <td>303.000000</td>\n",
              "      <td>303.000000</td>\n",
              "    </tr>\n",
              "    <tr>\n",
              "      <th>mean</th>\n",
              "      <td>54.438944</td>\n",
              "      <td>0.679868</td>\n",
              "      <td>2.158416</td>\n",
              "      <td>131.689769</td>\n",
              "      <td>246.693069</td>\n",
              "      <td>0.148515</td>\n",
              "      <td>0.990099</td>\n",
              "      <td>149.607261</td>\n",
              "      <td>0.326733</td>\n",
              "      <td>1.039604</td>\n",
              "      <td>0.600660</td>\n",
              "      <td>0.663366</td>\n",
              "      <td>1.831683</td>\n",
              "      <td>0.458746</td>\n",
              "    </tr>\n",
              "    <tr>\n",
              "      <th>std</th>\n",
              "      <td>9.038662</td>\n",
              "      <td>0.467299</td>\n",
              "      <td>0.960126</td>\n",
              "      <td>17.599748</td>\n",
              "      <td>51.776918</td>\n",
              "      <td>0.356198</td>\n",
              "      <td>0.994971</td>\n",
              "      <td>22.875003</td>\n",
              "      <td>0.469794</td>\n",
              "      <td>1.161075</td>\n",
              "      <td>0.616226</td>\n",
              "      <td>0.934375</td>\n",
              "      <td>0.956705</td>\n",
              "      <td>0.499120</td>\n",
              "    </tr>\n",
              "    <tr>\n",
              "      <th>min</th>\n",
              "      <td>29.000000</td>\n",
              "      <td>0.000000</td>\n",
              "      <td>0.000000</td>\n",
              "      <td>94.000000</td>\n",
              "      <td>126.000000</td>\n",
              "      <td>0.000000</td>\n",
              "      <td>0.000000</td>\n",
              "      <td>71.000000</td>\n",
              "      <td>0.000000</td>\n",
              "      <td>0.000000</td>\n",
              "      <td>0.000000</td>\n",
              "      <td>0.000000</td>\n",
              "      <td>1.000000</td>\n",
              "      <td>0.000000</td>\n",
              "    </tr>\n",
              "    <tr>\n",
              "      <th>25%</th>\n",
              "      <td>48.000000</td>\n",
              "      <td>0.000000</td>\n",
              "      <td>2.000000</td>\n",
              "      <td>120.000000</td>\n",
              "      <td>211.000000</td>\n",
              "      <td>0.000000</td>\n",
              "      <td>0.000000</td>\n",
              "      <td>133.500000</td>\n",
              "      <td>0.000000</td>\n",
              "      <td>0.000000</td>\n",
              "      <td>0.000000</td>\n",
              "      <td>0.000000</td>\n",
              "      <td>1.000000</td>\n",
              "      <td>0.000000</td>\n",
              "    </tr>\n",
              "    <tr>\n",
              "      <th>50%</th>\n",
              "      <td>56.000000</td>\n",
              "      <td>1.000000</td>\n",
              "      <td>2.000000</td>\n",
              "      <td>130.000000</td>\n",
              "      <td>241.000000</td>\n",
              "      <td>0.000000</td>\n",
              "      <td>1.000000</td>\n",
              "      <td>153.000000</td>\n",
              "      <td>0.000000</td>\n",
              "      <td>0.800000</td>\n",
              "      <td>1.000000</td>\n",
              "      <td>0.000000</td>\n",
              "      <td>1.000000</td>\n",
              "      <td>0.000000</td>\n",
              "    </tr>\n",
              "    <tr>\n",
              "      <th>75%</th>\n",
              "      <td>61.000000</td>\n",
              "      <td>1.000000</td>\n",
              "      <td>3.000000</td>\n",
              "      <td>140.000000</td>\n",
              "      <td>275.000000</td>\n",
              "      <td>0.000000</td>\n",
              "      <td>2.000000</td>\n",
              "      <td>166.000000</td>\n",
              "      <td>1.000000</td>\n",
              "      <td>1.600000</td>\n",
              "      <td>1.000000</td>\n",
              "      <td>1.000000</td>\n",
              "      <td>3.000000</td>\n",
              "      <td>1.000000</td>\n",
              "    </tr>\n",
              "    <tr>\n",
              "      <th>max</th>\n",
              "      <td>77.000000</td>\n",
              "      <td>1.000000</td>\n",
              "      <td>3.000000</td>\n",
              "      <td>200.000000</td>\n",
              "      <td>564.000000</td>\n",
              "      <td>1.000000</td>\n",
              "      <td>2.000000</td>\n",
              "      <td>202.000000</td>\n",
              "      <td>1.000000</td>\n",
              "      <td>6.200000</td>\n",
              "      <td>2.000000</td>\n",
              "      <td>3.000000</td>\n",
              "      <td>3.000000</td>\n",
              "      <td>1.000000</td>\n",
              "    </tr>\n",
              "  </tbody>\n",
              "</table>\n",
              "</div>\n",
              "    <div class=\"colab-df-buttons\">\n",
              "\n",
              "  <div class=\"colab-df-container\">\n",
              "    <button class=\"colab-df-convert\" onclick=\"convertToInteractive('df-7951a25c-9866-425f-ba6a-86a9c6de521a')\"\n",
              "            title=\"Convert this dataframe to an interactive table.\"\n",
              "            style=\"display:none;\">\n",
              "\n",
              "  <svg xmlns=\"http://www.w3.org/2000/svg\" height=\"24px\" viewBox=\"0 -960 960 960\">\n",
              "    <path d=\"M120-120v-720h720v720H120Zm60-500h600v-160H180v160Zm220 220h160v-160H400v160Zm0 220h160v-160H400v160ZM180-400h160v-160H180v160Zm440 0h160v-160H620v160ZM180-180h160v-160H180v160Zm440 0h160v-160H620v160Z\"/>\n",
              "  </svg>\n",
              "    </button>\n",
              "\n",
              "  <style>\n",
              "    .colab-df-container {\n",
              "      display:flex;\n",
              "      gap: 12px;\n",
              "    }\n",
              "\n",
              "    .colab-df-convert {\n",
              "      background-color: #E8F0FE;\n",
              "      border: none;\n",
              "      border-radius: 50%;\n",
              "      cursor: pointer;\n",
              "      display: none;\n",
              "      fill: #1967D2;\n",
              "      height: 32px;\n",
              "      padding: 0 0 0 0;\n",
              "      width: 32px;\n",
              "    }\n",
              "\n",
              "    .colab-df-convert:hover {\n",
              "      background-color: #E2EBFA;\n",
              "      box-shadow: 0px 1px 2px rgba(60, 64, 67, 0.3), 0px 1px 3px 1px rgba(60, 64, 67, 0.15);\n",
              "      fill: #174EA6;\n",
              "    }\n",
              "\n",
              "    .colab-df-buttons div {\n",
              "      margin-bottom: 4px;\n",
              "    }\n",
              "\n",
              "    [theme=dark] .colab-df-convert {\n",
              "      background-color: #3B4455;\n",
              "      fill: #D2E3FC;\n",
              "    }\n",
              "\n",
              "    [theme=dark] .colab-df-convert:hover {\n",
              "      background-color: #434B5C;\n",
              "      box-shadow: 0px 1px 3px 1px rgba(0, 0, 0, 0.15);\n",
              "      filter: drop-shadow(0px 1px 2px rgba(0, 0, 0, 0.3));\n",
              "      fill: #FFFFFF;\n",
              "    }\n",
              "  </style>\n",
              "\n",
              "    <script>\n",
              "      const buttonEl =\n",
              "        document.querySelector('#df-7951a25c-9866-425f-ba6a-86a9c6de521a button.colab-df-convert');\n",
              "      buttonEl.style.display =\n",
              "        google.colab.kernel.accessAllowed ? 'block' : 'none';\n",
              "\n",
              "      async function convertToInteractive(key) {\n",
              "        const element = document.querySelector('#df-7951a25c-9866-425f-ba6a-86a9c6de521a');\n",
              "        const dataTable =\n",
              "          await google.colab.kernel.invokeFunction('convertToInteractive',\n",
              "                                                    [key], {});\n",
              "        if (!dataTable) return;\n",
              "\n",
              "        const docLinkHtml = 'Like what you see? Visit the ' +\n",
              "          '<a target=\"_blank\" href=https://colab.research.google.com/notebooks/data_table.ipynb>data table notebook</a>'\n",
              "          + ' to learn more about interactive tables.';\n",
              "        element.innerHTML = '';\n",
              "        dataTable['output_type'] = 'display_data';\n",
              "        await google.colab.output.renderOutput(dataTable, element);\n",
              "        const docLink = document.createElement('div');\n",
              "        docLink.innerHTML = docLinkHtml;\n",
              "        element.appendChild(docLink);\n",
              "      }\n",
              "    </script>\n",
              "  </div>\n",
              "\n",
              "\n",
              "    <div id=\"df-26322c79-30d0-41f6-a926-fc3ac6957fa8\">\n",
              "      <button class=\"colab-df-quickchart\" onclick=\"quickchart('df-26322c79-30d0-41f6-a926-fc3ac6957fa8')\"\n",
              "                title=\"Suggest charts\"\n",
              "                style=\"display:none;\">\n",
              "\n",
              "<svg xmlns=\"http://www.w3.org/2000/svg\" height=\"24px\"viewBox=\"0 0 24 24\"\n",
              "     width=\"24px\">\n",
              "    <g>\n",
              "        <path d=\"M19 3H5c-1.1 0-2 .9-2 2v14c0 1.1.9 2 2 2h14c1.1 0 2-.9 2-2V5c0-1.1-.9-2-2-2zM9 17H7v-7h2v7zm4 0h-2V7h2v10zm4 0h-2v-4h2v4z\"/>\n",
              "    </g>\n",
              "</svg>\n",
              "      </button>\n",
              "\n",
              "<style>\n",
              "  .colab-df-quickchart {\n",
              "      --bg-color: #E8F0FE;\n",
              "      --fill-color: #1967D2;\n",
              "      --hover-bg-color: #E2EBFA;\n",
              "      --hover-fill-color: #174EA6;\n",
              "      --disabled-fill-color: #AAA;\n",
              "      --disabled-bg-color: #DDD;\n",
              "  }\n",
              "\n",
              "  [theme=dark] .colab-df-quickchart {\n",
              "      --bg-color: #3B4455;\n",
              "      --fill-color: #D2E3FC;\n",
              "      --hover-bg-color: #434B5C;\n",
              "      --hover-fill-color: #FFFFFF;\n",
              "      --disabled-bg-color: #3B4455;\n",
              "      --disabled-fill-color: #666;\n",
              "  }\n",
              "\n",
              "  .colab-df-quickchart {\n",
              "    background-color: var(--bg-color);\n",
              "    border: none;\n",
              "    border-radius: 50%;\n",
              "    cursor: pointer;\n",
              "    display: none;\n",
              "    fill: var(--fill-color);\n",
              "    height: 32px;\n",
              "    padding: 0;\n",
              "    width: 32px;\n",
              "  }\n",
              "\n",
              "  .colab-df-quickchart:hover {\n",
              "    background-color: var(--hover-bg-color);\n",
              "    box-shadow: 0 1px 2px rgba(60, 64, 67, 0.3), 0 1px 3px 1px rgba(60, 64, 67, 0.15);\n",
              "    fill: var(--button-hover-fill-color);\n",
              "  }\n",
              "\n",
              "  .colab-df-quickchart-complete:disabled,\n",
              "  .colab-df-quickchart-complete:disabled:hover {\n",
              "    background-color: var(--disabled-bg-color);\n",
              "    fill: var(--disabled-fill-color);\n",
              "    box-shadow: none;\n",
              "  }\n",
              "\n",
              "  .colab-df-spinner {\n",
              "    border: 2px solid var(--fill-color);\n",
              "    border-color: transparent;\n",
              "    border-bottom-color: var(--fill-color);\n",
              "    animation:\n",
              "      spin 1s steps(1) infinite;\n",
              "  }\n",
              "\n",
              "  @keyframes spin {\n",
              "    0% {\n",
              "      border-color: transparent;\n",
              "      border-bottom-color: var(--fill-color);\n",
              "      border-left-color: var(--fill-color);\n",
              "    }\n",
              "    20% {\n",
              "      border-color: transparent;\n",
              "      border-left-color: var(--fill-color);\n",
              "      border-top-color: var(--fill-color);\n",
              "    }\n",
              "    30% {\n",
              "      border-color: transparent;\n",
              "      border-left-color: var(--fill-color);\n",
              "      border-top-color: var(--fill-color);\n",
              "      border-right-color: var(--fill-color);\n",
              "    }\n",
              "    40% {\n",
              "      border-color: transparent;\n",
              "      border-right-color: var(--fill-color);\n",
              "      border-top-color: var(--fill-color);\n",
              "    }\n",
              "    60% {\n",
              "      border-color: transparent;\n",
              "      border-right-color: var(--fill-color);\n",
              "    }\n",
              "    80% {\n",
              "      border-color: transparent;\n",
              "      border-right-color: var(--fill-color);\n",
              "      border-bottom-color: var(--fill-color);\n",
              "    }\n",
              "    90% {\n",
              "      border-color: transparent;\n",
              "      border-bottom-color: var(--fill-color);\n",
              "    }\n",
              "  }\n",
              "</style>\n",
              "\n",
              "      <script>\n",
              "        async function quickchart(key) {\n",
              "          const quickchartButtonEl =\n",
              "            document.querySelector('#' + key + ' button');\n",
              "          quickchartButtonEl.disabled = true;  // To prevent multiple clicks.\n",
              "          quickchartButtonEl.classList.add('colab-df-spinner');\n",
              "          try {\n",
              "            const charts = await google.colab.kernel.invokeFunction(\n",
              "                'suggestCharts', [key], {});\n",
              "          } catch (error) {\n",
              "            console.error('Error during call to suggestCharts:', error);\n",
              "          }\n",
              "          quickchartButtonEl.classList.remove('colab-df-spinner');\n",
              "          quickchartButtonEl.classList.add('colab-df-quickchart-complete');\n",
              "        }\n",
              "        (() => {\n",
              "          let quickchartButtonEl =\n",
              "            document.querySelector('#df-26322c79-30d0-41f6-a926-fc3ac6957fa8 button');\n",
              "          quickchartButtonEl.style.display =\n",
              "            google.colab.kernel.accessAllowed ? 'block' : 'none';\n",
              "        })();\n",
              "      </script>\n",
              "    </div>\n",
              "\n",
              "    </div>\n",
              "  </div>\n"
            ],
            "application/vnd.google.colaboratory.intrinsic+json": {
              "type": "dataframe",
              "summary": "{\n  \"name\": \"heart_disease_df\",\n  \"rows\": 8,\n  \"fields\": [\n    {\n      \"column\": \"age\",\n      \"properties\": {\n        \"dtype\": \"number\",\n        \"std\": 92.5728159022223,\n        \"min\": 9.038662442446743,\n        \"max\": 303.0,\n        \"num_unique_values\": 8,\n        \"samples\": [\n          54.43894389438944,\n          56.0,\n          303.0\n        ],\n        \"semantic_type\": \"\",\n        \"description\": \"\"\n      }\n    },\n    {\n      \"column\": \"sex\",\n      \"properties\": {\n        \"dtype\": \"number\",\n        \"std\": 106.91803123915392,\n        \"min\": 0.0,\n        \"max\": 303.0,\n        \"num_unique_values\": 5,\n        \"samples\": [\n          0.6798679867986799,\n          1.0,\n          0.4672988277701313\n        ],\n        \"semantic_type\": \"\",\n        \"description\": \"\"\n      }\n    },\n    {\n      \"column\": \"cp\",\n      \"properties\": {\n        \"dtype\": \"number\",\n        \"std\": 106.46878420376586,\n        \"min\": 0.0,\n        \"max\": 303.0,\n        \"num_unique_values\": 6,\n        \"samples\": [\n          303.0,\n          2.1584158415841586,\n          3.0\n        ],\n        \"semantic_type\": \"\",\n        \"description\": \"\"\n      }\n    },\n    {\n      \"column\": \"trestbps\",\n      \"properties\": {\n        \"dtype\": \"number\",\n        \"std\": 82.63751582423217,\n        \"min\": 17.599747729587687,\n        \"max\": 303.0,\n        \"num_unique_values\": 8,\n        \"samples\": [\n          131.68976897689768,\n          130.0,\n          303.0\n        ],\n        \"semantic_type\": \"\",\n        \"description\": \"\"\n      }\n    },\n    {\n      \"column\": \"chol\",\n      \"properties\": {\n        \"dtype\": \"number\",\n        \"std\": 150.36559430635785,\n        \"min\": 51.776917542637015,\n        \"max\": 564.0,\n        \"num_unique_values\": 8,\n        \"samples\": [\n          246.69306930693068,\n          241.0,\n          303.0\n        ],\n        \"semantic_type\": \"\",\n        \"description\": \"\"\n      }\n    },\n    {\n      \"column\": \"fbs\",\n      \"properties\": {\n        \"dtype\": \"number\",\n        \"std\": 107.05122867414781,\n        \"min\": 0.0,\n        \"max\": 303.0,\n        \"num_unique_values\": 5,\n        \"samples\": [\n          0.1485148514851485,\n          1.0,\n          0.35619787492797594\n        ],\n        \"semantic_type\": \"\",\n        \"description\": \"\"\n      }\n    },\n    {\n      \"column\": \"restecg\",\n      \"properties\": {\n        \"dtype\": \"number\",\n        \"std\": 106.77655393236438,\n        \"min\": 0.0,\n        \"max\": 303.0,\n        \"num_unique_values\": 6,\n        \"samples\": [\n          303.0,\n          0.9900990099009901,\n          2.0\n        ],\n        \"semantic_type\": \"\",\n        \"description\": \"\"\n      }\n    },\n    {\n      \"column\": \"thalach\",\n      \"properties\": {\n        \"dtype\": \"number\",\n        \"std\": 83.71042641207806,\n        \"min\": 22.875003276980376,\n        \"max\": 303.0,\n        \"num_unique_values\": 8,\n        \"samples\": [\n          149.6072607260726,\n          153.0,\n          303.0\n        ],\n        \"semantic_type\": \"\",\n        \"description\": \"\"\n      }\n    },\n    {\n      \"column\": \"exang\",\n      \"properties\": {\n        \"dtype\": \"number\",\n        \"std\": 106.98623940881839,\n        \"min\": 0.0,\n        \"max\": 303.0,\n        \"num_unique_values\": 5,\n        \"samples\": [\n          0.32673267326732675,\n          1.0,\n          0.46979446452231716\n        ],\n        \"semantic_type\": \"\",\n        \"description\": \"\"\n      }\n    },\n    {\n      \"column\": \"oldpeak\",\n      \"properties\": {\n        \"dtype\": \"number\",\n        \"std\": 106.59952466080658,\n        \"min\": 0.0,\n        \"max\": 303.0,\n        \"num_unique_values\": 7,\n        \"samples\": [\n          303.0,\n          1.0396039603960396,\n          1.6\n        ],\n        \"semantic_type\": \"\",\n        \"description\": \"\"\n      }\n    },\n    {\n      \"column\": \"slope\",\n      \"properties\": {\n        \"dtype\": \"number\",\n        \"std\": 106.86509145977956,\n        \"min\": 0.0,\n        \"max\": 303.0,\n        \"num_unique_values\": 6,\n        \"samples\": [\n          303.0,\n          0.6006600660066007,\n          2.0\n        ],\n        \"semantic_type\": \"\",\n        \"description\": \"\"\n      }\n    },\n    {\n      \"column\": \"ca\",\n      \"properties\": {\n        \"dtype\": \"number\",\n        \"std\": 106.8485191634673,\n        \"min\": 0.0,\n        \"max\": 303.0,\n        \"num_unique_values\": 6,\n        \"samples\": [\n          303.0,\n          0.6633663366336634,\n          3.0\n        ],\n        \"semantic_type\": \"\",\n        \"description\": \"\"\n      }\n    },\n    {\n      \"column\": \"thal\",\n      \"properties\": {\n        \"dtype\": \"number\",\n        \"std\": 106.53490654679983,\n        \"min\": 0.9567048884876433,\n        \"max\": 303.0,\n        \"num_unique_values\": 5,\n        \"samples\": [\n          1.8316831683168318,\n          3.0,\n          0.9567048884876433\n        ],\n        \"semantic_type\": \"\",\n        \"description\": \"\"\n      }\n    },\n    {\n      \"column\": \"target\",\n      \"properties\": {\n        \"dtype\": \"number\",\n        \"std\": 106.97809031019014,\n        \"min\": 0.0,\n        \"max\": 303.0,\n        \"num_unique_values\": 5,\n        \"samples\": [\n          0.45874587458745875,\n          1.0,\n          0.4991195009875267\n        ],\n        \"semantic_type\": \"\",\n        \"description\": \"\"\n      }\n    }\n  ]\n}"
            }
          },
          "metadata": {},
          "execution_count": 8
        }
      ],
      "source": [
        "#basic statistical information\n",
        "heart_disease_df.describe()"
      ]
    },
    {
      "cell_type": "code",
      "execution_count": 9,
      "metadata": {
        "colab": {
          "base_uri": "https://localhost:8080/",
          "height": 523
        },
        "id": "ftwbWuFMyQgZ",
        "outputId": "5b6220e4-2411-4329-a79a-863c75ffb406"
      },
      "outputs": [
        {
          "output_type": "execute_result",
          "data": {
            "text/plain": [
              "age         0\n",
              "sex         0\n",
              "cp          0\n",
              "trestbps    0\n",
              "chol        0\n",
              "fbs         0\n",
              "restecg     0\n",
              "thalach     0\n",
              "exang       0\n",
              "oldpeak     0\n",
              "slope       0\n",
              "ca          0\n",
              "thal        0\n",
              "target      0\n",
              "dtype: int64"
            ],
            "text/html": [
              "<div>\n",
              "<style scoped>\n",
              "    .dataframe tbody tr th:only-of-type {\n",
              "        vertical-align: middle;\n",
              "    }\n",
              "\n",
              "    .dataframe tbody tr th {\n",
              "        vertical-align: top;\n",
              "    }\n",
              "\n",
              "    .dataframe thead th {\n",
              "        text-align: right;\n",
              "    }\n",
              "</style>\n",
              "<table border=\"1\" class=\"dataframe\">\n",
              "  <thead>\n",
              "    <tr style=\"text-align: right;\">\n",
              "      <th></th>\n",
              "      <th>0</th>\n",
              "    </tr>\n",
              "  </thead>\n",
              "  <tbody>\n",
              "    <tr>\n",
              "      <th>age</th>\n",
              "      <td>0</td>\n",
              "    </tr>\n",
              "    <tr>\n",
              "      <th>sex</th>\n",
              "      <td>0</td>\n",
              "    </tr>\n",
              "    <tr>\n",
              "      <th>cp</th>\n",
              "      <td>0</td>\n",
              "    </tr>\n",
              "    <tr>\n",
              "      <th>trestbps</th>\n",
              "      <td>0</td>\n",
              "    </tr>\n",
              "    <tr>\n",
              "      <th>chol</th>\n",
              "      <td>0</td>\n",
              "    </tr>\n",
              "    <tr>\n",
              "      <th>fbs</th>\n",
              "      <td>0</td>\n",
              "    </tr>\n",
              "    <tr>\n",
              "      <th>restecg</th>\n",
              "      <td>0</td>\n",
              "    </tr>\n",
              "    <tr>\n",
              "      <th>thalach</th>\n",
              "      <td>0</td>\n",
              "    </tr>\n",
              "    <tr>\n",
              "      <th>exang</th>\n",
              "      <td>0</td>\n",
              "    </tr>\n",
              "    <tr>\n",
              "      <th>oldpeak</th>\n",
              "      <td>0</td>\n",
              "    </tr>\n",
              "    <tr>\n",
              "      <th>slope</th>\n",
              "      <td>0</td>\n",
              "    </tr>\n",
              "    <tr>\n",
              "      <th>ca</th>\n",
              "      <td>0</td>\n",
              "    </tr>\n",
              "    <tr>\n",
              "      <th>thal</th>\n",
              "      <td>0</td>\n",
              "    </tr>\n",
              "    <tr>\n",
              "      <th>target</th>\n",
              "      <td>0</td>\n",
              "    </tr>\n",
              "  </tbody>\n",
              "</table>\n",
              "</div><br><label><b>dtype:</b> int64</label>"
            ]
          },
          "metadata": {},
          "execution_count": 9
        }
      ],
      "source": [
        "#number of missing values\n",
        "heart_disease_df.isnull().sum()"
      ]
    },
    {
      "cell_type": "code",
      "execution_count": 10,
      "metadata": {
        "colab": {
          "base_uri": "https://localhost:8080/"
        },
        "id": "fQSWcIM6zBCU",
        "outputId": "82f0180a-904c-4691-8495-effa906d6a6f"
      },
      "outputs": [
        {
          "output_type": "execute_result",
          "data": {
            "text/plain": [
              "np.int64(0)"
            ]
          },
          "metadata": {},
          "execution_count": 10
        }
      ],
      "source": [
        "#number of duplicated values\n",
        "heart_disease_df.duplicated().sum()"
      ]
    },
    {
      "cell_type": "code",
      "execution_count": 11,
      "metadata": {
        "colab": {
          "base_uri": "https://localhost:8080/"
        },
        "id": "llKdMa8U6M72",
        "outputId": "50d02300-523e-4e11-c2f3-f9ac6952b588"
      },
      "outputs": [
        {
          "output_type": "stream",
          "name": "stdout",
          "text": [
            "age : [63 67 37 41 56 62 57 53 44 52 48 54 49 64 58 60 50 66 43 40 69 59 42 55\n",
            " 61 65 71 51 46 45 39 68 47 34 35 29 70 77 38 74 76]\n",
            "###########################\n",
            "sex : [1 0]\n",
            "###########################\n",
            "cp : [0 3 2 1]\n",
            "###########################\n",
            "trestbps : [145 160 120 130 140 172 150 110 132 117 135 112 105 124 125 142 128 170\n",
            " 155 104 180 138 108 134 122 115 118 100 200  94 165 102 152 101 126 174\n",
            " 148 178 158 192 129 144 123 136 146 106 156 154 114 164]\n",
            "###########################\n",
            "chol : [233 286 229 250 204 236 268 354 254 203 192 294 256 263 199 168 239 275\n",
            " 266 211 283 284 224 206 219 340 226 247 167 230 335 234 177 276 353 243\n",
            " 225 302 212 330 175 417 197 198 290 253 172 273 213 305 216 304 188 282\n",
            " 185 232 326 231 269 267 248 360 258 308 245 270 208 264 321 274 325 235\n",
            " 257 164 141 252 255 201 222 260 182 303 265 309 307 249 186 341 183 407\n",
            " 217 288 220 209 227 261 174 281 221 205 240 289 318 298 564 246 322 299\n",
            " 300 293 277 214 207 223 160 394 184 315 409 244 195 196 126 313 259 200\n",
            " 262 215 228 193 271 210 327 149 295 306 178 237 218 242 319 166 180 311\n",
            " 278 342 169 187 157 176 241 131]\n",
            "###########################\n",
            "fbs : [1 0]\n",
            "###########################\n",
            "restecg : [2 0 1]\n",
            "###########################\n",
            "thalach : [150 108 129 187 172 178 160 163 147 155 148 153 142 173 162 174 168 139\n",
            " 171 144 132 158 114 151 161 179 120 112 137 157 169 165 123 128 152 140\n",
            " 188 109 125 131 170 113  99 177 141 180 111 143 182 156 115 149 145 146\n",
            " 175 186 185 159 130 190 136  97 127 154 133 126 202 103 166 164 184 124\n",
            " 122  96 138  88 105 194 195 106 167  95 192 117 121 116  71 118 181 134\n",
            "  90]\n",
            "###########################\n",
            "exang : [0 1]\n",
            "###########################\n",
            "oldpeak : [2.3 1.5 2.6 3.5 1.4 0.8 3.6 0.6 3.1 0.4 1.3 0.  0.5 1.6 1.  1.2 0.2 1.8\n",
            " 3.2 2.4 2.  2.5 2.2 2.8 3.  3.4 6.2 4.  5.6 2.9 0.1 2.1 1.9 4.2 0.9 1.1\n",
            " 3.8 0.7 0.3 4.4]\n",
            "###########################\n",
            "slope : [2 1 0]\n",
            "###########################\n",
            "ca : [0 3 2 1]\n",
            "###########################\n",
            "thal : [2 1 3]\n",
            "###########################\n",
            "target : [0 1]\n",
            "###########################\n"
          ]
        }
      ],
      "source": [
        "#checking for unique values in each column\n",
        "for col in heart_disease_df.columns:\n",
        "  print(f'{col} : {heart_disease_df[col].unique()}')\n",
        "  print('###########################')"
      ]
    },
    {
      "cell_type": "code",
      "execution_count": 12,
      "metadata": {
        "colab": {
          "base_uri": "https://localhost:8080/"
        },
        "id": "wZwqu3JX7J50",
        "outputId": "40bf0c56-514d-400d-e5ea-3be435284dd4"
      },
      "outputs": [
        {
          "output_type": "stream",
          "name": "stdout",
          "text": [
            "age : 41\n",
            "sex : 2\n",
            "cp : 4\n",
            "trestbps : 50\n",
            "chol : 152\n",
            "fbs : 2\n",
            "restecg : 3\n",
            "thalach : 91\n",
            "exang : 2\n",
            "oldpeak : 40\n",
            "slope : 3\n",
            "ca : 4\n",
            "thal : 3\n",
            "target : 2\n"
          ]
        }
      ],
      "source": [
        "for col in heart_disease_df.columns:\n",
        "  print(f'{col} : {heart_disease_df[col].nunique()}')"
      ]
    },
    {
      "cell_type": "code",
      "execution_count": 13,
      "metadata": {
        "colab": {
          "base_uri": "https://localhost:8080/"
        },
        "id": "WQBumfqa6dSJ",
        "outputId": "5431f13d-f453-426c-a371-cb96d0e9486e"
      },
      "outputs": [
        {
          "output_type": "stream",
          "name": "stdout",
          "text": [
            "frequancy of unique values in age\n",
            "age\n",
            "58    19\n",
            "57    17\n",
            "54    16\n",
            "59    14\n",
            "52    13\n",
            "51    12\n",
            "60    12\n",
            "62    11\n",
            "56    11\n",
            "44    11\n",
            "41    10\n",
            "64    10\n",
            "63     9\n",
            "67     9\n",
            "53     8\n",
            "61     8\n",
            "43     8\n",
            "45     8\n",
            "55     8\n",
            "65     8\n",
            "42     8\n",
            "46     7\n",
            "66     7\n",
            "48     7\n",
            "50     7\n",
            "49     5\n",
            "47     5\n",
            "70     4\n",
            "39     4\n",
            "68     4\n",
            "35     4\n",
            "40     3\n",
            "69     3\n",
            "71     3\n",
            "37     2\n",
            "34     2\n",
            "38     2\n",
            "29     1\n",
            "77     1\n",
            "74     1\n",
            "76     1\n",
            "Name: count, dtype: int64\n",
            "###########################\n",
            "frequancy of unique values in sex\n",
            "sex\n",
            "1    206\n",
            "0     97\n",
            "Name: count, dtype: int64\n",
            "###########################\n",
            "frequancy of unique values in cp\n",
            "cp\n",
            "3    144\n",
            "2     86\n",
            "1     50\n",
            "0     23\n",
            "Name: count, dtype: int64\n",
            "###########################\n",
            "frequancy of unique values in trestbps\n",
            "trestbps\n",
            "120    37\n",
            "130    36\n",
            "140    32\n",
            "110    19\n",
            "150    17\n",
            "128    12\n",
            "138    12\n",
            "125    11\n",
            "160    11\n",
            "112     9\n",
            "132     8\n",
            "118     7\n",
            "124     6\n",
            "135     6\n",
            "108     6\n",
            "134     5\n",
            "145     5\n",
            "152     5\n",
            "170     4\n",
            "100     4\n",
            "122     4\n",
            "105     3\n",
            "115     3\n",
            "126     3\n",
            "142     3\n",
            "180     3\n",
            "136     3\n",
            "178     2\n",
            "144     2\n",
            "94      2\n",
            "148     2\n",
            "146     2\n",
            "102     2\n",
            "117     1\n",
            "172     1\n",
            "101     1\n",
            "200     1\n",
            "104     1\n",
            "155     1\n",
            "165     1\n",
            "174     1\n",
            "158     1\n",
            "129     1\n",
            "192     1\n",
            "123     1\n",
            "106     1\n",
            "156     1\n",
            "154     1\n",
            "114     1\n",
            "164     1\n",
            "Name: count, dtype: int64\n",
            "###########################\n",
            "frequancy of unique values in chol\n",
            "chol\n",
            "204    6\n",
            "234    6\n",
            "197    6\n",
            "254    5\n",
            "269    5\n",
            "      ..\n",
            "187    1\n",
            "157    1\n",
            "176    1\n",
            "241    1\n",
            "131    1\n",
            "Name: count, Length: 152, dtype: int64\n",
            "###########################\n",
            "frequancy of unique values in fbs\n",
            "fbs\n",
            "0    258\n",
            "1     45\n",
            "Name: count, dtype: int64\n",
            "###########################\n",
            "frequancy of unique values in restecg\n",
            "restecg\n",
            "0    151\n",
            "2    148\n",
            "1      4\n",
            "Name: count, dtype: int64\n",
            "###########################\n",
            "frequancy of unique values in thalach\n",
            "thalach\n",
            "162    11\n",
            "163     9\n",
            "160     9\n",
            "152     8\n",
            "172     7\n",
            "       ..\n",
            "117     1\n",
            "71      1\n",
            "118     1\n",
            "134     1\n",
            "90      1\n",
            "Name: count, Length: 91, dtype: int64\n",
            "###########################\n",
            "frequancy of unique values in exang\n",
            "exang\n",
            "0    204\n",
            "1     99\n",
            "Name: count, dtype: int64\n",
            "###########################\n",
            "frequancy of unique values in oldpeak\n",
            "oldpeak\n",
            "0.0    99\n",
            "1.2    17\n",
            "0.6    14\n",
            "1.0    14\n",
            "0.8    13\n",
            "1.4    13\n",
            "0.2    12\n",
            "1.6    11\n",
            "1.8    10\n",
            "0.4     9\n",
            "2.0     9\n",
            "0.1     7\n",
            "2.6     6\n",
            "2.8     6\n",
            "3.0     5\n",
            "1.5     5\n",
            "1.9     5\n",
            "0.5     5\n",
            "3.6     4\n",
            "2.2     4\n",
            "0.9     3\n",
            "0.3     3\n",
            "4.0     3\n",
            "2.4     3\n",
            "3.4     3\n",
            "2.3     2\n",
            "1.1     2\n",
            "3.2     2\n",
            "2.5     2\n",
            "4.2     2\n",
            "3.5     1\n",
            "3.1     1\n",
            "1.3     1\n",
            "2.9     1\n",
            "5.6     1\n",
            "6.2     1\n",
            "2.1     1\n",
            "3.8     1\n",
            "0.7     1\n",
            "4.4     1\n",
            "Name: count, dtype: int64\n",
            "###########################\n",
            "frequancy of unique values in slope\n",
            "slope\n",
            "0    142\n",
            "1    140\n",
            "2     21\n",
            "Name: count, dtype: int64\n",
            "###########################\n",
            "frequancy of unique values in ca\n",
            "ca\n",
            "0    180\n",
            "1     65\n",
            "2     38\n",
            "3     20\n",
            "Name: count, dtype: int64\n",
            "###########################\n",
            "frequancy of unique values in thal\n",
            "thal\n",
            "1    168\n",
            "3    117\n",
            "2     18\n",
            "Name: count, dtype: int64\n",
            "###########################\n",
            "frequancy of unique values in target\n",
            "target\n",
            "0    164\n",
            "1    139\n",
            "Name: count, dtype: int64\n",
            "###########################\n"
          ]
        }
      ],
      "source": [
        "for col in heart_disease_df.columns:\n",
        "  print(f\"frequancy of unique values in {col}\")\n",
        "  print(heart_disease_df[col].value_counts())\n",
        "  print('###########################')\n"
      ]
    },
    {
      "cell_type": "code",
      "execution_count": 14,
      "metadata": {
        "colab": {
          "base_uri": "https://localhost:8080/"
        },
        "id": "-4HM8xEx9hY_",
        "outputId": "a94beb01-104d-4995-b974-b32bd12e6283"
      },
      "outputs": [
        {
          "output_type": "stream",
          "name": "stdout",
          "text": [
            "<class 'pandas.core.frame.DataFrame'>\n",
            "RangeIndex: 303 entries, 0 to 302\n",
            "Data columns (total 14 columns):\n",
            " #   Column    Non-Null Count  Dtype  \n",
            "---  ------    --------------  -----  \n",
            " 0   age       303 non-null    int64  \n",
            " 1   sex       303 non-null    bool   \n",
            " 2   cp        303 non-null    int64  \n",
            " 3   trestbps  303 non-null    int64  \n",
            " 4   chol      303 non-null    int64  \n",
            " 5   fbs       303 non-null    bool   \n",
            " 6   restecg   303 non-null    int64  \n",
            " 7   thalach   303 non-null    int64  \n",
            " 8   exang     303 non-null    bool   \n",
            " 9   oldpeak   303 non-null    float64\n",
            " 10  slope     303 non-null    int64  \n",
            " 11  ca        303 non-null    int64  \n",
            " 12  thal      303 non-null    int64  \n",
            " 13  target    303 non-null    bool   \n",
            "dtypes: bool(4), float64(1), int64(9)\n",
            "memory usage: 25.0 KB\n"
          ]
        }
      ],
      "source": [
        "#setting binary valued columns as type bool\n",
        "heart_disease_df['sex'] = heart_disease_df['sex'].astype('bool')\n",
        "heart_disease_df['fbs'] = heart_disease_df['fbs'].astype('bool')\n",
        "heart_disease_df['exang'] = heart_disease_df['exang'].astype('bool')\n",
        "heart_disease_df['target'] = heart_disease_df['target'].astype('bool')\n",
        "heart_disease_df.info()"
      ]
    },
    {
      "cell_type": "markdown",
      "metadata": {
        "id": "52yJsMLCuXwF"
      },
      "source": [
        "## Phase 2: Exploratory Data Analysis (EDA) & Feature Building\n",
        "\n",
        "\n"
      ]
    },
    {
      "cell_type": "markdown",
      "metadata": {
        "id": "wGJvVUmnuXwF"
      },
      "source": [
        "### 2.1 Basic Data Overview\n",
        "\n",
        "\n"
      ]
    },
    {
      "cell_type": "code",
      "execution_count": 15,
      "metadata": {
        "colab": {
          "base_uri": "https://localhost:8080/"
        },
        "id": "3u-jVgmzuXwG",
        "outputId": "49554fa0-8694-4a35-925c-11beda5823d2"
      },
      "outputs": [
        {
          "output_type": "stream",
          "name": "stdout",
          "text": [
            " HEART DISEASE DISTRIBUTION:\n",
            "========================================\n",
            "People WITHOUT heart disease: 164 (54.1%)\n",
            "People WITH heart disease: 139 (45.9%)\n",
            "Total people in dataset: 303\n"
          ]
        },
        {
          "output_type": "stream",
          "name": "stderr",
          "text": [
            "/tmp/ipython-input-2611584601.py:5: FutureWarning: Series.__getitem__ treating keys as positions is deprecated. In a future version, integer keys will always be treated as labels (consistent with DataFrame behavior). To access a value by position, use `ser.iloc[pos]`\n",
            "  print(f\"People WITHOUT heart disease: {heart_disease_counts[0]} ({heart_disease_counts[0]/len(heart_disease_df)*100:.1f}%)\")\n",
            "/tmp/ipython-input-2611584601.py:6: FutureWarning: Series.__getitem__ treating keys as positions is deprecated. In a future version, integer keys will always be treated as labels (consistent with DataFrame behavior). To access a value by position, use `ser.iloc[pos]`\n",
            "  print(f\"People WITH heart disease: {heart_disease_counts[1]} ({heart_disease_counts[1]/len(heart_disease_df)*100:.1f}%)\")\n"
          ]
        }
      ],
      "source": [
        "# Let's see how many people have heart disease vs. don't have it\n",
        "print(\" HEART DISEASE DISTRIBUTION:\")\n",
        "print(\"=\" * 40)\n",
        "heart_disease_counts = heart_disease_df['target'].value_counts()\n",
        "print(f\"People WITHOUT heart disease: {heart_disease_counts[0]} ({heart_disease_counts[0]/len(heart_disease_df)*100:.1f}%)\")\n",
        "print(f\"People WITH heart disease: {heart_disease_counts[1]} ({heart_disease_counts[1]/len(heart_disease_df)*100:.1f}%)\")\n",
        "print(f\"Total people in dataset: {len(heart_disease_df)}\")\n",
        "\n",
        "\n"
      ]
    },
    {
      "cell_type": "code",
      "execution_count": 16,
      "metadata": {
        "colab": {
          "base_uri": "https://localhost:8080/"
        },
        "id": "KygdpiWwuXwG",
        "outputId": "c9046bc5-af2c-4b40-cd6b-02ab81da04e6"
      },
      "outputs": [
        {
          "output_type": "stream",
          "name": "stdout",
          "text": [
            " BASIC STATISTICS:\n",
            "==================================================\n",
            "              age          cp    trestbps        chol     restecg     thalach  \\\n",
            "count  303.000000  303.000000  303.000000  303.000000  303.000000  303.000000   \n",
            "mean    54.438944    2.158416  131.689769  246.693069    0.990099  149.607261   \n",
            "std      9.038662    0.960126   17.599748   51.776918    0.994971   22.875003   \n",
            "min     29.000000    0.000000   94.000000  126.000000    0.000000   71.000000   \n",
            "25%     48.000000    2.000000  120.000000  211.000000    0.000000  133.500000   \n",
            "50%     56.000000    2.000000  130.000000  241.000000    1.000000  153.000000   \n",
            "75%     61.000000    3.000000  140.000000  275.000000    2.000000  166.000000   \n",
            "max     77.000000    3.000000  200.000000  564.000000    2.000000  202.000000   \n",
            "\n",
            "          oldpeak       slope          ca        thal  \n",
            "count  303.000000  303.000000  303.000000  303.000000  \n",
            "mean     1.039604    0.600660    0.663366    1.831683  \n",
            "std      1.161075    0.616226    0.934375    0.956705  \n",
            "min      0.000000    0.000000    0.000000    1.000000  \n",
            "25%      0.000000    0.000000    0.000000    1.000000  \n",
            "50%      0.800000    1.000000    0.000000    1.000000  \n",
            "75%      1.600000    1.000000    1.000000    3.000000  \n",
            "max      6.200000    2.000000    3.000000    3.000000  \n",
            "\n",
            " What these numbers tell us:\n",
            "• age: People are between 29-77 years old, average age is 54\n",
            "• trestbps: Blood pressure ranges from 94-200, average is 132\n",
            "• chol: Cholesterol ranges from 126-564, average is 247\n",
            "• thalach: Max heart rate ranges from 71-202, average is 150\n"
          ]
        }
      ],
      "source": [
        "# Let's look at some basic statistics for numerical columns\n",
        "print(\" BASIC STATISTICS:\")\n",
        "print(\"=\" * 50)\n",
        "print(heart_disease_df.describe())\n",
        "\n",
        "print(\"\\n What these numbers tell us:\")\n",
        "print(\"• age: People are between 29-77 years old, average age is 54\")\n",
        "print(\"• trestbps: Blood pressure ranges from 94-200, average is 132\")\n",
        "print(\"• chol: Cholesterol ranges from 126-564, average is 247\")\n",
        "print(\"• thalach: Max heart rate ranges from 71-202, average is 150\")\n"
      ]
    },
    {
      "cell_type": "markdown",
      "metadata": {
        "id": "rSQmOOJpuXwG"
      },
      "source": [
        "### 2.2 Visualizations\n",
        "\n",
        "\n"
      ]
    },
    {
      "cell_type": "code",
      "execution_count": 17,
      "metadata": {
        "colab": {
          "base_uri": "https://localhost:8080/",
          "height": 539
        },
        "id": "Ml3lEKcquXwG",
        "outputId": "e90d282b-926c-4890-9e78-c17b6fb5f53e"
      },
      "outputs": [
        {
          "output_type": "display_data",
          "data": {
            "text/plain": [
              "<Figure size 800x600 with 1 Axes>"
            ],
            "image/png": "[encoded data removed]"
          },
          "metadata": {}
        },
        {
          "output_type": "stream",
          "name": "stdout",
          "text": [
            " This pie chart shows us that our data is well-balanced!\n"
          ]
        }
      ],
      "source": [
        "# Create a simple pie chart showing heart disease distribution\n",
        "plt.figure(figsize=(8, 6))\n",
        "heart_disease_counts = heart_disease_df['target'].value_counts()\n",
        "labels = ['No Heart Disease', 'Has Heart Disease']\n",
        "colors = ['lightblue', 'lightcoral']\n",
        "plt.pie(heart_disease_counts, labels=labels, colors=colors, autopct='%1.1f%%', startangle=90)\n",
        "plt.title('Distribution of Heart Disease in Our Dataset', fontsize=14, fontweight='bold')\n",
        "plt.show()\n",
        "\n",
        "print(\" This pie chart shows us that our data is well-balanced!\")\n"
      ]
    },
    {
      "cell_type": "code",
      "execution_count": 18,
      "metadata": {
        "colab": {
          "base_uri": "https://localhost:8080/",
          "height": 517
        },
        "id": "AT9zw0e5uXwG",
        "outputId": "d383abf7-8146-47c9-f218-1a10dcc77c2a"
      },
      "outputs": [
        {
          "output_type": "display_data",
          "data": {
            "text/plain": [
              "<Figure size 1200x500 with 2 Axes>"
            ],
            "image/png": "[encoded data removed]"
          },
          "metadata": {}
        },
        {
          "output_type": "stream",
          "name": "stdout",
          "text": [
            " What do we see?\n",
            "• Average age of people WITHOUT heart disease: 52.6 years\n",
            "• Average age of people WITH heart disease: 56.6 years\n",
            "• Older people tend to have more heart disease - this makes sense!\n"
          ]
        },
        {
          "output_type": "stream",
          "name": "stderr",
          "text": [
            "/tmp/ipython-input-3006062171.py:29: FutureWarning: Series.__getitem__ treating keys as positions is deprecated. In a future version, integer keys will always be treated as labels (consistent with DataFrame behavior). To access a value by position, use `ser.iloc[pos]`\n",
            "  print(f\"• Average age of people WITHOUT heart disease: {avg_age[0]:.1f} years\")\n",
            "/tmp/ipython-input-3006062171.py:30: FutureWarning: Series.__getitem__ treating keys as positions is deprecated. In a future version, integer keys will always be treated as labels (consistent with DataFrame behavior). To access a value by position, use `ser.iloc[pos]`\n",
            "  print(f\"• Average age of people WITH heart disease: {avg_age[1]:.1f} years\")\n"
          ]
        }
      ],
      "source": [
        "# Let's see how age affects heart disease\n",
        "plt.figure(figsize=(12, 5))\n",
        "\n",
        "# Create two subplots side by side\n",
        "plt.subplot(1, 2, 1)\n",
        "# Box plot showing age distribution for people with and without heart disease\n",
        "heart_disease_df.boxplot(column='age', by='target', ax=plt.gca())\n",
        "plt.title('Age vs Heart Disease')\n",
        "plt.xlabel('Heart Disease (0=No, 1=Yes)')\n",
        "plt.ylabel('Age (years)')\n",
        "\n",
        "# Bar chart showing average age\n",
        "plt.subplot(1, 2, 2)\n",
        "avg_age = heart_disease_df.groupby('target')['age'].mean()\n",
        "bars = plt.bar(['No Heart Disease', 'Has Heart Disease'], avg_age, color=['lightblue', 'lightcoral'])\n",
        "plt.title('Average Age by Heart Disease Status')\n",
        "plt.ylabel('Average Age (years)')\n",
        "\n",
        "# Add value labels on bars\n",
        "for bar in bars:\n",
        "    height = bar.get_height()\n",
        "    plt.text(bar.get_x() + bar.get_width()/2., height + 0.5,\n",
        "             f'{height:.1f}', ha='center', va='bottom')\n",
        "\n",
        "plt.tight_layout()\n",
        "plt.show()\n",
        "\n",
        "print(\" What do we see?\")\n",
        "print(f\"• Average age of people WITHOUT heart disease: {avg_age[0]:.1f} years\")\n",
        "print(f\"• Average age of people WITH heart disease: {avg_age[1]:.1f} years\")\n",
        "print(\"• Older people tend to have more heart disease - this makes sense!\")\n"
      ]
    },
    {
      "cell_type": "code",
      "execution_count": 19,
      "metadata": {
        "colab": {
          "base_uri": "https://localhost:8080/",
          "height": 513
        },
        "id": "P8-k8kV5uXwH",
        "outputId": "90a79568-fd8e-4992-9c6f-a6e263a96ada"
      },
      "outputs": [
        {
          "output_type": "display_data",
          "data": {
            "text/plain": [
              "<Figure size 1200x500 with 2 Axes>"
            ],
            "image/png": "[encoded data removed]"
          },
          "metadata": {}
        },
        {
          "output_type": "stream",
          "name": "stdout",
          "text": [
            " What do we see?\n",
            "• Heart disease rate in women: 25.8%\n",
            "• Heart disease rate in men: 55.3%\n",
            "• Men tend to have higher rates of heart disease in this dataset\n"
          ]
        },
        {
          "output_type": "stream",
          "name": "stderr",
          "text": [
            "/tmp/ipython-input-457238005.py:32: FutureWarning: Series.__getitem__ treating keys as positions is deprecated. In a future version, integer keys will always be treated as labels (consistent with DataFrame behavior). To access a value by position, use `ser.iloc[pos]`\n",
            "  print(f\"• Heart disease rate in women: {gender_percentages[0]:.1f}%\")\n",
            "/tmp/ipython-input-457238005.py:33: FutureWarning: Series.__getitem__ treating keys as positions is deprecated. In a future version, integer keys will always be treated as labels (consistent with DataFrame behavior). To access a value by position, use `ser.iloc[pos]`\n",
            "  print(f\"• Heart disease rate in men: {gender_percentages[1]:.1f}%\")\n"
          ]
        }
      ],
      "source": [
        "# Let's see how gender affects heart disease\n",
        "plt.figure(figsize=(12, 5))\n",
        "\n",
        "# Create two subplots side by side\n",
        "plt.subplot(1, 2, 1)\n",
        "# Count of men vs women with and without heart disease\n",
        "gender_heart = pd.crosstab(heart_disease_df['sex'], heart_disease_df['target'])\n",
        "gender_heart.plot(kind='bar', ax=plt.gca(), color=['lightblue', 'lightcoral'])\n",
        "plt.title('Gender vs Heart Disease')\n",
        "plt.xlabel('Gender (0=Female, 1=Male)')\n",
        "plt.ylabel('Number of People')\n",
        "plt.legend(['No Heart Disease', 'Has Heart Disease'])\n",
        "plt.xticks(rotation=0)\n",
        "\n",
        "# Calculate percentages\n",
        "plt.subplot(1, 2, 2)\n",
        "gender_percentages = heart_disease_df.groupby('sex')['target'].mean() * 100\n",
        "bars = plt.bar(['Female', 'Male'], gender_percentages, color=['pink', 'lightblue'])\n",
        "plt.title('Heart Disease Rate by Gender')\n",
        "plt.ylabel('Percentage with Heart Disease (%)')\n",
        "\n",
        "# Add value labels on bars\n",
        "for bar in bars:\n",
        "    height = bar.get_height()\n",
        "    plt.text(bar.get_x() + bar.get_width()/2., height + 1,\n",
        "             f'{height:.1f}%', ha='center', va='bottom')\n",
        "\n",
        "plt.tight_layout()\n",
        "plt.show()\n",
        "\n",
        "print(\" What do we see?\")\n",
        "print(f\"• Heart disease rate in women: {gender_percentages[0]:.1f}%\")\n",
        "print(f\"• Heart disease rate in men: {gender_percentages[1]:.1f}%\")\n",
        "print(\"• Men tend to have higher rates of heart disease in this dataset\")\n"
      ]
    },
    {
      "cell_type": "code",
      "execution_count": 20,
      "metadata": {
        "colab": {
          "base_uri": "https://localhost:8080/",
          "height": 356
        },
        "id": "-8kOFOfSuXwH",
        "outputId": "af735ede-4fe4-48d1-9da2-b70187151148"
      },
      "outputs": [
        {
          "output_type": "display_data",
          "data": {
            "text/plain": [
              "<Figure size 1500x500 with 3 Axes>"
            ],
            "image/png": "[encoded data removed]"
          },
          "metadata": {}
        },
        {
          "output_type": "stream",
          "name": "stdout",
          "text": [
            " What do we see?\n",
            "• People with heart disease tend to have higher blood pressure\n",
            "• Cholesterol levels are similar between groups\n",
            "• People with heart disease often have lower maximum heart rates\n"
          ]
        }
      ],
      "source": [
        "# Let's look at blood pressure and cholesterol - two important risk factors\n",
        "plt.figure(figsize=(15, 5))\n",
        "\n",
        "# Blood pressure comparison\n",
        "plt.subplot(1, 3, 1)\n",
        "plt.hist(heart_disease_df[heart_disease_df['target']==0]['trestbps'], alpha=0.7, label='No Heart Disease', bins=15, color='lightblue')\n",
        "plt.hist(heart_disease_df[heart_disease_df['target']==1]['trestbps'], alpha=0.7, label='Has Heart Disease', bins=15, color='lightcoral')\n",
        "plt.title('Blood Pressure Distribution')\n",
        "plt.xlabel('Resting Blood Pressure (mm Hg)')\n",
        "plt.ylabel('Number of People')\n",
        "plt.legend()\n",
        "\n",
        "# Cholesterol comparison\n",
        "plt.subplot(1, 3, 2)\n",
        "plt.hist(heart_disease_df[heart_disease_df['target']==0]['chol'], alpha=0.7, label='No Heart Disease', bins=15, color='lightblue')\n",
        "plt.hist(heart_disease_df[heart_disease_df['target']==1]['chol'], alpha=0.7, label='Has Heart Disease', bins=15, color='lightcoral')\n",
        "plt.title('Cholesterol Distribution')\n",
        "plt.xlabel('Cholesterol (mg/dl)')\n",
        "plt.ylabel('Number of People')\n",
        "plt.legend()\n",
        "\n",
        "# Maximum heart rate comparison\n",
        "plt.subplot(1, 3, 3)\n",
        "plt.hist(heart_disease_df[heart_disease_df['target']==0]['thalach'], alpha=0.7, label='No Heart Disease', bins=15, color='lightblue')\n",
        "plt.hist(heart_disease_df[heart_disease_df['target']==1]['thalach'], alpha=0.7, label='Has Heart Disease', bins=15, color='lightcoral')\n",
        "plt.title('Maximum Heart Rate Distribution')\n",
        "plt.xlabel('Maximum Heart Rate (bpm)')\n",
        "plt.ylabel('Number of People')\n",
        "plt.legend()\n",
        "\n",
        "plt.tight_layout()\n",
        "plt.show()\n",
        "\n",
        "print(\" What do we see?\")\n",
        "print(\"• People with heart disease tend to have higher blood pressure\")\n",
        "print(\"• Cholesterol levels are similar between groups\")\n",
        "print(\"• People with heart disease often have lower maximum heart rates\")\n"
      ]
    },
    {
      "cell_type": "markdown",
      "metadata": {
        "id": "3QG9yF9fuXwH"
      },
      "source": [
        "### 2.3 Key Patterns and Observations\n",
        "\n",
        "\n"
      ]
    },
    {
      "cell_type": "code",
      "execution_count": 21,
      "metadata": {
        "colab": {
          "base_uri": "https://localhost:8080/"
        },
        "id": "S7N_IX4auXwH",
        "outputId": "40230b34-0302-4c7a-8d68-df8fa18dfc2b"
      },
      "outputs": [
        {
          "output_type": "stream",
          "name": "stdout",
          "text": [
            " KEY PATTERNS DISCOVERED:\n",
            "==================================================\n",
            "1. AGE PATTERN:\n",
            "   • Average age WITHOUT heart disease: 52.6 years\n",
            "   • Average age WITH heart disease: 56.6 years\n",
            "   • Age difference: 4.0 years\n",
            "\n",
            "2. GENDER PATTERN:\n",
            "   • Heart disease rate in men: 55.3%\n",
            "   • Heart disease rate in women: 25.8%\n",
            "   • Men have 29.6% higher rate\n",
            "\n",
            "3. BLOOD PRESSURE PATTERN:\n",
            "   • Average BP WITHOUT heart disease: 129.2 mm Hg\n",
            "   • Average BP WITH heart disease: 134.6 mm Hg\n",
            "   • BP difference: 5.3 mm Hg\n",
            "\n",
            "4. HEART RATE PATTERN:\n",
            "   • Average max HR WITHOUT heart disease: 158.4 bpm\n",
            "   • Average max HR WITH heart disease: 139.3 bpm\n",
            "   • HR difference: 19.1 bpm\n",
            "\n",
            " SUMMARY:\n",
            "   • Older people are more likely to have heart disease\n",
            "   • Men have higher heart disease rates than women\n",
            "   • Higher blood pressure is associated with heart disease\n",
            "   • Lower maximum heart rate is associated with heart disease\n"
          ]
        }
      ],
      "source": [
        "# Let's calculate some key statistics to summarize our findings\n",
        "print(\" KEY PATTERNS DISCOVERED:\")\n",
        "print(\"=\" * 50)\n",
        "\n",
        "# Age patterns\n",
        "avg_age_no_disease = heart_disease_df[heart_disease_df['target']==0]['age'].mean()\n",
        "avg_age_with_disease = heart_disease_df[heart_disease_df['target']==1]['age'].mean()\n",
        "print(f\"1. AGE PATTERN:\")\n",
        "print(f\"   • Average age WITHOUT heart disease: {avg_age_no_disease:.1f} years\")\n",
        "print(f\"   • Average age WITH heart disease: {avg_age_with_disease:.1f} years\")\n",
        "print(f\"   • Age difference: {avg_age_with_disease - avg_age_no_disease:.1f} years\")\n",
        "\n",
        "# Gender patterns\n",
        "male_rate = heart_disease_df[heart_disease_df['sex']==1]['target'].mean() * 100\n",
        "female_rate = heart_disease_df[heart_disease_df['sex']==0]['target'].mean() * 100\n",
        "print(f\"\\n2. GENDER PATTERN:\")\n",
        "print(f\"   • Heart disease rate in men: {male_rate:.1f}%\")\n",
        "print(f\"   • Heart disease rate in women: {female_rate:.1f}%\")\n",
        "print(f\"   • Men have {male_rate - female_rate:.1f}% higher rate\")\n",
        "\n",
        "# Blood pressure patterns\n",
        "avg_bp_no_disease = heart_disease_df[heart_disease_df['target']==0]['trestbps'].mean()\n",
        "avg_bp_with_disease = heart_disease_df[heart_disease_df['target']==1]['trestbps'].mean()\n",
        "print(f\"\\n3. BLOOD PRESSURE PATTERN:\")\n",
        "print(f\"   • Average BP WITHOUT heart disease: {avg_bp_no_disease:.1f} mm Hg\")\n",
        "print(f\"   • Average BP WITH heart disease: {avg_bp_with_disease:.1f} mm Hg\")\n",
        "print(f\"   • BP difference: {avg_bp_with_disease - avg_bp_no_disease:.1f} mm Hg\")\n",
        "\n",
        "# Heart rate patterns\n",
        "avg_hr_no_disease = heart_disease_df[heart_disease_df['target']==0]['thalach'].mean()\n",
        "avg_hr_with_disease = heart_disease_df[heart_disease_df['target']==1]['thalach'].mean()\n",
        "print(f\"\\n4. HEART RATE PATTERN:\")\n",
        "print(f\"   • Average max HR WITHOUT heart disease: {avg_hr_no_disease:.1f} bpm\")\n",
        "print(f\"   • Average max HR WITH heart disease: {avg_hr_with_disease:.1f} bpm\")\n",
        "print(f\"   • HR difference: {avg_hr_no_disease - avg_hr_with_disease:.1f} bpm\")\n",
        "\n",
        "print(f\"\\n SUMMARY:\")\n",
        "print(\"   • Older people are more likely to have heart disease\")\n",
        "print(\"   • Men have higher heart disease rates than women\")\n",
        "print(\"   • Higher blood pressure is associated with heart disease\")\n",
        "print(\"   • Lower maximum heart rate is associated with heart disease\")\n"
      ]
    },
    {
      "cell_type": "markdown",
      "metadata": {
        "id": "AmlpuVK_uXwH"
      },
      "source": [
        "### 2.4 Simple Feature Engineering\n",
        "\n",
        "\n"
      ]
    },
    {
      "cell_type": "code",
      "execution_count": 22,
      "metadata": {
        "colab": {
          "base_uri": "https://localhost:8080/"
        },
        "id": "9eNzJWLpuXwH",
        "outputId": "bf5dbcb6-a141-439a-d0e7-82f75196209c"
      },
      "outputs": [
        {
          "output_type": "stream",
          "name": "stdout",
          "text": [
            " CREATING NEW FEATURES:\n",
            "========================================\n",
            " Created age_group: Young, Middle-aged, Mature, Senior\n",
            " Created bp_category: Normal, High, Very High\n",
            " Created chol_category: Good, Borderline, High\n",
            " Created risk_score: 0-4 scale based on age, BP, cholesterol, and chest pain\n",
            "\n",
            " New dataset shape: (303, 18)\n",
            "   (Added 4 new features to help our model!)\n"
          ]
        }
      ],
      "source": [
        "# Let's create a copy of our data for feature engineering\n",
        "df_features = heart_disease_df.copy()\n",
        "\n",
        "print(\" CREATING NEW FEATURES:\")\n",
        "print(\"=\" * 40)\n",
        "\n",
        "# 1. Create age groups (categorical feature)\n",
        "def categorize_age(age):\n",
        "    if age < 40:\n",
        "        return 'Young'\n",
        "    elif age < 50:\n",
        "        return 'Middle-aged'\n",
        "    elif age < 60:\n",
        "        return 'Mature'\n",
        "    else:\n",
        "        return 'Senior'\n",
        "\n",
        "df_features['age_group'] = df_features['age'].apply(categorize_age)\n",
        "print(\" Created age_group: Young, Middle-aged, Mature, Senior\")\n",
        "\n",
        "# 2. Create blood pressure categories\n",
        "def categorize_bp(bp):\n",
        "    if bp < 120:\n",
        "        return 'Normal'\n",
        "    elif bp < 140:\n",
        "        return 'High'\n",
        "    else:\n",
        "        return 'Very High'\n",
        "\n",
        "df_features['bp_category'] = df_features['trestbps'].apply(categorize_bp)\n",
        "print(\" Created bp_category: Normal, High, Very High\")\n",
        "\n",
        "# 3. Create cholesterol categories\n",
        "def categorize_chol(chol):\n",
        "    if chol < 200:\n",
        "        return 'Good'\n",
        "    elif chol < 240:\n",
        "        return 'Borderline'\n",
        "    else:\n",
        "        return 'High'\n",
        "\n",
        "df_features['chol_category'] = df_features['chol'].apply(categorize_chol)\n",
        "print(\" Created chol_category: Good, Borderline, High\")\n",
        "\n",
        "# 4. Create a simple risk score (0-4 scale)\n",
        "def calculate_risk_score(row):\n",
        "    score = 0\n",
        "    if row['age'] > 60:\n",
        "        score += 1\n",
        "    if row['trestbps'] > 140:\n",
        "        score += 1\n",
        "    if row['chol'] > 240:\n",
        "        score += 1\n",
        "    if row['exang'] == True:  # Exercise-induced chest pain\n",
        "        score += 1\n",
        "    return score\n",
        "\n",
        "df_features['risk_score'] = df_features.apply(calculate_risk_score, axis=1)\n",
        "print(\" Created risk_score: 0-4 scale based on age, BP, cholesterol, and chest pain\")\n",
        "\n",
        "print(f\"\\n New dataset shape: {df_features.shape}\")\n",
        "print(\"   (Added 4 new features to help our model!)\")\n"
      ]
    },
    {
      "cell_type": "code",
      "execution_count": 23,
      "metadata": {
        "colab": {
          "base_uri": "https://localhost:8080/",
          "height": 648
        },
        "id": "3XuVyRkZuXwI",
        "outputId": "533a763d-2616-49f1-a2f9-de133db59eee"
      },
      "outputs": [
        {
          "output_type": "display_data",
          "data": {
            "text/plain": [
              "<Figure size 1500x1000 with 6 Axes>"
            ],
            "image/png": "[encoded data removed]"
          },
          "metadata": {}
        },
        {
          "output_type": "stream",
          "name": "stdout",
          "text": [
            " What do we see from our new features?\n",
            "• Age groups show clear patterns - older groups have more heart disease\n",
            "• Blood pressure categories are very useful - higher BP = more heart disease\n",
            "• Cholesterol categories show some pattern\n",
            "• Risk score is very useful - higher scores = more heart disease!\n"
          ]
        }
      ],
      "source": [
        "# Let's visualize our new features to see if they're useful\n",
        "plt.figure(figsize=(15, 10))\n",
        "\n",
        "# 1. Age groups vs heart disease\n",
        "plt.subplot(2, 3, 1)\n",
        "age_group_heart = pd.crosstab(df_features['age_group'], df_features['target'])\n",
        "age_group_heart.plot(kind='bar', ax=plt.gca(), color=['lightblue', 'lightcoral'])\n",
        "plt.title('Age Groups vs Heart Disease')\n",
        "plt.xlabel('Age Group')\n",
        "plt.ylabel('Number of People')\n",
        "plt.legend(['No Heart Disease', 'Has Heart Disease'])\n",
        "plt.xticks(rotation=45)\n",
        "\n",
        "# 2. Blood pressure categories vs heart disease\n",
        "plt.subplot(2, 3, 2)\n",
        "bp_heart = pd.crosstab(df_features['bp_category'], df_features['target'])\n",
        "bp_heart.plot(kind='bar', ax=plt.gca(), color=['lightblue', 'lightcoral'])\n",
        "plt.title('Blood Pressure Categories vs Heart Disease')\n",
        "plt.xlabel('BP Category')\n",
        "plt.ylabel('Number of People')\n",
        "plt.legend(['No Heart Disease', 'Has Heart Disease'])\n",
        "plt.xticks(rotation=45)\n",
        "\n",
        "# 3. Cholesterol categories vs heart disease\n",
        "plt.subplot(2, 3, 3)\n",
        "chol_heart = pd.crosstab(df_features['chol_category'], df_features['target'])\n",
        "chol_heart.plot(kind='bar', ax=plt.gca(), color=['lightblue', 'lightcoral'])\n",
        "plt.title('Cholesterol Categories vs Heart Disease')\n",
        "plt.xlabel('Cholesterol Category')\n",
        "plt.ylabel('Number of People')\n",
        "plt.legend(['No Heart Disease', 'Has Heart Disease'])\n",
        "plt.xticks(rotation=45)\n",
        "\n",
        "# 4. Risk score distribution\n",
        "plt.subplot(2, 3, 4)\n",
        "risk_counts = df_features['risk_score'].value_counts().sort_index()\n",
        "plt.bar(risk_counts.index, risk_counts.values, color='lightgreen')\n",
        "plt.title('Distribution of Risk Scores')\n",
        "plt.xlabel('Risk Score (0-4)')\n",
        "plt.ylabel('Number of People')\n",
        "\n",
        "# 5. Risk score vs heart disease\n",
        "plt.subplot(2, 3, 5)\n",
        "risk_heart = pd.crosstab(df_features['risk_score'], df_features['target'])\n",
        "risk_heart.plot(kind='bar', ax=plt.gca(), color=['lightblue', 'lightcoral'])\n",
        "plt.title('Risk Score vs Heart Disease')\n",
        "plt.xlabel('Risk Score')\n",
        "plt.ylabel('Number of People')\n",
        "plt.legend(['No Heart Disease', 'Has Heart Disease'])\n",
        "\n",
        "# 6. Heart disease rate by risk score\n",
        "plt.subplot(2, 3, 6)\n",
        "risk_rates = df_features.groupby('risk_score')['target'].mean() * 100\n",
        "plt.bar(risk_rates.index, risk_rates.values, color='orange')\n",
        "plt.title('Heart Disease Rate by Risk Score')\n",
        "plt.xlabel('Risk Score')\n",
        "plt.ylabel('Heart Disease Rate (%)')\n",
        "\n",
        "plt.tight_layout()\n",
        "plt.show()\n",
        "\n",
        "print(\" What do we see from our new features?\")\n",
        "print(\"• Age groups show clear patterns - older groups have more heart disease\")\n",
        "print(\"• Blood pressure categories are very useful - higher BP = more heart disease\")\n",
        "print(\"• Cholesterol categories show some pattern\")\n",
        "print(\"• Risk score is very useful - higher scores = more heart disease!\")\n"
      ]
    },
    {
      "cell_type": "markdown",
      "metadata": {
        "id": "bef0xM-3uXwI"
      },
      "source": [
        "### 2.5 Phase 2 Summary\n",
        "\n",
        "Let's summarize what we accomplished in Phase 2!\n"
      ]
    },
    {
      "cell_type": "code",
      "execution_count": 24,
      "metadata": {
        "colab": {
          "base_uri": "https://localhost:8080/"
        },
        "id": "4byMUDU0uXwI",
        "outputId": "85a08a78-0d28-4862-9bbe-9fa6804f9732"
      },
      "outputs": [
        {
          "output_type": "stream",
          "name": "stdout",
          "text": [
            " PHASE 2 COMPLETE: Exploratory Data Analysis & Feature Building\n",
            "======================================================================\n",
            "\n",
            " WHAT WE ACCOMPLISHED:\n",
            "1.  Basic Data Overview:\n",
            "   • Analyzed heart disease distribution (balanced dataset)\n",
            "   • Examined basic statistics for all numerical features\n",
            "   • Identified data quality (no missing values)\n",
            "\n",
            "2.  Simple Visualizations:\n",
            "   • Created pie chart showing heart disease distribution\n",
            "   • Analyzed age patterns with box plots and bar charts\n",
            "   • Examined gender differences in heart disease rates\n",
            "   • Compared blood pressure, cholesterol, and heart rate distributions\n",
            "\n",
            "3.  Key Patterns Discovered:\n",
            "   • Age: Older people have higher heart disease rates\n",
            "   • Gender: Men have higher rates than women\n",
            "   • Blood Pressure: Higher BP associated with heart disease\n",
            "   • Heart Rate: Lower max heart rate associated with heart disease\n",
            "\n",
            "4.  Feature Engineering:\n",
            "   • Created age groups (Young, Middle-aged, Mature, Senior)\n",
            "   • Created blood pressure categories (Normal, High, Very High)\n",
            "   • Created cholesterol categories (Good, Borderline, High)\n",
            "   • Created risk score (0-4 scale based on multiple factors)\n",
            "\n",
            "5.  Feature Validation:\n",
            "   • Visualized all new features\n",
            "   • Confirmed that new features show clear patterns\n",
            "   • Risk score is particularly useful for prediction\n",
            "\n",
            " DATASET TRANSFORMATION:\n",
            "   • Original features: 14\n",
            "   • New features added: 4\n",
            "   • Total features now: 18\n",
            "\n",
            " READY FOR PHASE 3:\n",
            "   • Data is well-explored and understood\n",
            "   • New features created to improve predictions\n",
            "   • Clear patterns identified for model validation\n",
            "   • Ready to build machine learning models!\n",
            "\n",
            "======================================================================\n",
            " Phase 2 completed successfully! Great job! 🌟\n",
            "======================================================================\n"
          ]
        }
      ],
      "source": [
        "print(\" PHASE 2 COMPLETE: Exploratory Data Analysis & Feature Building\")\n",
        "print(\"=\" * 70)\n",
        "\n",
        "print(\"\\n WHAT WE ACCOMPLISHED:\")\n",
        "print(\"1.  Basic Data Overview:\")\n",
        "print(\"   • Analyzed heart disease distribution (balanced dataset)\")\n",
        "print(\"   • Examined basic statistics for all numerical features\")\n",
        "print(\"   • Identified data quality (no missing values)\")\n",
        "\n",
        "print(\"\\n2.  Simple Visualizations:\")\n",
        "print(\"   • Created pie chart showing heart disease distribution\")\n",
        "print(\"   • Analyzed age patterns with box plots and bar charts\")\n",
        "print(\"   • Examined gender differences in heart disease rates\")\n",
        "print(\"   • Compared blood pressure, cholesterol, and heart rate distributions\")\n",
        "\n",
        "print(\"\\n3.  Key Patterns Discovered:\")\n",
        "print(\"   • Age: Older people have higher heart disease rates\")\n",
        "print(\"   • Gender: Men have higher rates than women\")\n",
        "print(\"   • Blood Pressure: Higher BP associated with heart disease\")\n",
        "print(\"   • Heart Rate: Lower max heart rate associated with heart disease\")\n",
        "\n",
        "print(\"\\n4.  Feature Engineering:\")\n",
        "print(\"   • Created age groups (Young, Middle-aged, Mature, Senior)\")\n",
        "print(\"   • Created blood pressure categories (Normal, High, Very High)\")\n",
        "print(\"   • Created cholesterol categories (Good, Borderline, High)\")\n",
        "print(\"   • Created risk score (0-4 scale based on multiple factors)\")\n",
        "\n",
        "print(\"\\n5.  Feature Validation:\")\n",
        "print(\"   • Visualized all new features\")\n",
        "print(\"   • Confirmed that new features show clear patterns\")\n",
        "print(\"   • Risk score is particularly useful for prediction\")\n",
        "\n",
        "print(f\"\\n DATASET TRANSFORMATION:\")\n",
        "print(f\"   • Original features: {len(heart_disease_df.columns)}\")\n",
        "print(f\"   • New features added: 4\")\n",
        "print(f\"   • Total features now: {len(df_features.columns)}\")\n",
        "\n",
        "print(f\"\\n READY FOR PHASE 3:\")\n",
        "print(\"   • Data is well-explored and understood\")\n",
        "print(\"   • New features created to improve predictions\")\n",
        "print(\"   • Clear patterns identified for model validation\")\n",
        "print(\"   • Ready to build machine learning models!\")\n",
        "\n",
        "print(\"\\n\" + \"=\" * 70)\n",
        "print(\" Phase 2 completed successfully! Great job! 🌟\")\n",
        "print(\"=\" * 70)\n"
      ]
    },
    {
      "cell_type": "markdown",
      "metadata": {
        "id": "TCkMp0oQuXwI"
      },
      "source": [
        "## Phase 3: Model Training & Validation\n"
      ]
    },
    {
      "cell_type": "markdown",
      "source": [
        "#### libraries for modeling"
      ],
      "metadata": {
        "id": "yPJt-bHG8Vcg"
      }
    },
    {
      "cell_type": "code",
      "source": [
        "from sklearn.model_selection import train_test_split, cross_val_score, GridSearchCV\n",
        "from sklearn.preprocessing import StandardScaler, OneHotEncoder\n",
        "from sklearn.compose import ColumnTransformer\n",
        "from sklearn.linear_model import LogisticRegression\n",
        "from sklearn.svm import SVC\n",
        "from sklearn.tree import DecisionTreeClassifier\n",
        "from sklearn.ensemble import RandomForestClassifier\n",
        "from sklearn.pipeline import Pipeline\n",
        "from sklearn.metrics import (\n",
        "    accuracy_score,\n",
        "    precision_score,\n",
        "    recall_score,\n",
        "    f1_score,\n",
        "    roc_auc_score,\n",
        "    classification_report,\n",
        "    confusion_matrix\n",
        ")\n",
        "from sklearn.neighbors import KNeighborsClassifier"
      ],
      "metadata": {
        "id": "fsk1W6yZ8UR-"
      },
      "execution_count": 25,
      "outputs": []
    },
    {
      "cell_type": "markdown",
      "source": [
        "### Model training"
      ],
      "metadata": {
        "id": "WHs09kPX_wcz"
      }
    },
    {
      "cell_type": "code",
      "source": [
        "# 1: Convert categorical features to numerical\n",
        "df_pr = pd.get_dummies(df_features, columns=['sex', 'cp', 'fbs', 'restecg', 'exang', 'slope', 'ca', 'thal', 'age_group', 'bp_category', 'chol_category'], drop_first=True)\n",
        "\n",
        "# 2:Separate features (X) and target (y)\n",
        "X = df_pr.drop('target', axis=1)\n",
        "y = df_pr['target']\n",
        "\n",
        "# 3:Split the data\n",
        "X_train, X_test, y_train, y_test = train_test_split(X, y, test_size=0.2, random_state=42, stratify=y)\n",
        "\n",
        "# 4:Scale numerical features\n",
        "scaler = StandardScaler()\n",
        "X_train_scaled = scaler.fit_transform(X_train)\n",
        "X_test_scaled = scaler.transform(X_test)\n",
        "\n",
        "# 5:Convert scaled to dfs\n",
        "X_train_scaled = pd.DataFrame(X_train_scaled, columns=X_train.columns)\n",
        "X_test_scaled = pd.DataFrame(X_test_scaled, columns=X_test.columns)\n",
        "\n",
        "models = {\n",
        "    'LR': LogisticRegression(random_state=42),\n",
        "    'SVc': SVC(kernel='rbf', probability=True, random_state=42),\n",
        "    'DT': DecisionTreeClassifier(random_state=42),\n",
        "    'rf': RandomForestClassifier(n_estimators=200, random_state=42)\n",
        "}\n",
        "\n",
        "results = {}\n",
        "\n",
        "for name, model in models.items():\n",
        "  def plot_conf_matrix(y_true, y_pred, title):\n",
        "    cm = confusion_matrix(y_true, y_pred)\n",
        "    plt.figure(figsize=(5,4))\n",
        "    sns.heatmap(cm, annot=True, fmt='d', cmap='Blues', cbar=False)\n",
        "    plt.xlabel('Predicted')\n",
        "    plt.ylabel('True')\n",
        "    plt.title(title)\n",
        "    plt.show()\n"
      ],
      "metadata": {
        "id": "UA09uwMJvt8q"
      },
      "execution_count": 26,
      "outputs": []
    },
    {
      "cell_type": "markdown",
      "source": [
        "### Get model metrics and plot results"
      ],
      "metadata": {
        "id": "BbuIv-q1BeX4"
      }
    },
    {
      "cell_type": "code",
      "source": [
        "for name, model in models.items():\n",
        "    print(f\"\\n=== {name} ===\")\n",
        "\n",
        "     # Fit the model\n",
        "    pipe = Pipeline([\n",
        "        ('clf', model)\n",
        "    ])\n",
        "    pipe.fit(X_train_scaled, y_train)\n",
        "\n",
        "    # Predictions\n",
        "    y_train_pred = pipe.predict(X_train_scaled)\n",
        "    y_test_pred = pipe.predict(X_test_scaled)\n",
        "\n",
        "    # Train Metrics\n",
        "    print('=> Train Metrics:')\n",
        "    print(classification_report(y_train, y_train_pred, digits=2))\n",
        "    plot_conf_matrix(y_train, y_train_pred, f'{name} - Train Confusion Matrix')\n",
        "\n",
        "    # Test Metrics\n",
        "    print('=> Test Metrics:')\n",
        "    print(classification_report(y_test, y_test_pred, digits=2))\n",
        "    plot_conf_matrix(y_test, y_test_pred, f'{name} - Test Confusion Matrix')\n"
      ],
      "metadata": {
        "colab": {
          "base_uri": "https://localhost:8080/",
          "height": 1000
        },
        "id": "4O2kcvTmANO8",
        "outputId": "38a8c71d-4e1f-4ae5-a509-0a06d8f42c9c"
      },
      "execution_count": 27,
      "outputs": [
        {
          "output_type": "stream",
          "name": "stdout",
          "text": [
            "\n",
            "=== LR ===\n",
            "=> Train Metrics:\n",
            "              precision    recall  f1-score   support\n",
            "\n",
            "       False       0.86      0.92      0.89       131\n",
            "        True       0.89      0.82      0.85       111\n",
            "\n",
            "    accuracy                           0.87       242\n",
            "   macro avg       0.87      0.87      0.87       242\n",
            "weighted avg       0.87      0.87      0.87       242\n",
            "\n"
          ]
        },
        {
          "output_type": "display_data",
          "data": {
            "text/plain": [
              "<Figure size 500x400 with 1 Axes>"
            ],
            "image/png": "[encoded data removed]"
          },
          "metadata": {}
        },
        {
          "output_type": "stream",
          "name": "stdout",
          "text": [
            "=> Test Metrics:\n",
            "              precision    recall  f1-score   support\n",
            "\n",
            "       False       0.85      0.85      0.85        33\n",
            "        True       0.82      0.82      0.82        28\n",
            "\n",
            "    accuracy                           0.84        61\n",
            "   macro avg       0.83      0.83      0.83        61\n",
            "weighted avg       0.84      0.84      0.84        61\n",
            "\n"
          ]
        },
        {
          "output_type": "display_data",
          "data": {
            "text/plain": [
              "<Figure size 500x400 with 1 Axes>"
            ],
            "image/png": "[encoded data removed]"
          },
          "metadata": {}
        },
        {
          "output_type": "stream",
          "name": "stdout",
          "text": [
            "\n",
            "=== SVc ===\n",
            "=> Train Metrics:\n",
            "              precision    recall  f1-score   support\n",
            "\n",
            "       False       0.90      0.96      0.93       131\n",
            "        True       0.95      0.87      0.91       111\n",
            "\n",
            "    accuracy                           0.92       242\n",
            "   macro avg       0.93      0.92      0.92       242\n",
            "weighted avg       0.92      0.92      0.92       242\n",
            "\n"
          ]
        },
        {
          "output_type": "display_data",
          "data": {
            "text/plain": [
              "<Figure size 500x400 with 1 Axes>"
            ],
            "image/png": "[encoded data removed]"
          },
          "metadata": {}
        },
        {
          "output_type": "stream",
          "name": "stdout",
          "text": [
            "=> Test Metrics:\n",
            "              precision    recall  f1-score   support\n",
            "\n",
            "       False       0.93      0.85      0.89        33\n",
            "        True       0.84      0.93      0.88        28\n",
            "\n",
            "    accuracy                           0.89        61\n",
            "   macro avg       0.89      0.89      0.89        61\n",
            "weighted avg       0.89      0.89      0.89        61\n",
            "\n"
          ]
        },
        {
          "output_type": "display_data",
          "data": {
            "text/plain": [
              "<Figure size 500x400 with 1 Axes>"
            ],
            "image/png": "[encoded data removed]"
          },
          "metadata": {}
        },
        {
          "output_type": "stream",
          "name": "stdout",
          "text": [
            "\n",
            "=== DT ===\n",
            "=> Train Metrics:\n",
            "              precision    recall  f1-score   support\n",
            "\n",
            "       False       1.00      1.00      1.00       131\n",
            "        True       1.00      1.00      1.00       111\n",
            "\n",
            "    accuracy                           1.00       242\n",
            "   macro avg       1.00      1.00      1.00       242\n",
            "weighted avg       1.00      1.00      1.00       242\n",
            "\n"
          ]
        },
        {
          "output_type": "display_data",
          "data": {
            "text/plain": [
              "<Figure size 500x400 with 1 Axes>"
            ],
            "image/png": "[encoded data removed]"
          },
          "metadata": {}
        },
        {
          "output_type": "stream",
          "name": "stdout",
          "text": [
            "=> Test Metrics:\n",
            "              precision    recall  f1-score   support\n",
            "\n",
            "       False       0.78      0.76      0.77        33\n",
            "        True       0.72      0.75      0.74        28\n",
            "\n",
            "    accuracy                           0.75        61\n",
            "   macro avg       0.75      0.75      0.75        61\n",
            "weighted avg       0.76      0.75      0.75        61\n",
            "\n"
          ]
        },
        {
          "output_type": "display_data",
          "data": {
            "text/plain": [
              "<Figure size 500x400 with 1 Axes>"
            ],
            "image/png": "[encoded data removed]"
          },
          "metadata": {}
        },
        {
          "output_type": "stream",
          "name": "stdout",
          "text": [
            "\n",
            "=== rf ===\n",
            "=> Train Metrics:\n",
            "              precision    recall  f1-score   support\n",
            "\n",
            "       False       1.00      1.00      1.00       131\n",
            "        True       1.00      1.00      1.00       111\n",
            "\n",
            "    accuracy                           1.00       242\n",
            "   macro avg       1.00      1.00      1.00       242\n",
            "weighted avg       1.00      1.00      1.00       242\n",
            "\n"
          ]
        },
        {
          "output_type": "display_data",
          "data": {
            "text/plain": [
              "<Figure size 500x400 with 1 Axes>"
            ],
            "image/png": "[encoded data removed]"
          },
          "metadata": {}
        },
        {
          "output_type": "stream",
          "name": "stdout",
          "text": [
            "=> Test Metrics:\n",
            "              precision    recall  f1-score   support\n",
            "\n",
            "       False       0.90      0.85      0.88        33\n",
            "        True       0.83      0.89      0.86        28\n",
            "\n",
            "    accuracy                           0.87        61\n",
            "   macro avg       0.87      0.87      0.87        61\n",
            "weighted avg       0.87      0.87      0.87        61\n",
            "\n"
          ]
        },
        {
          "output_type": "display_data",
          "data": {
            "text/plain": [
              "<Figure size 500x400 with 1 Axes>"
            ],
            "image/png": "[encoded data removed]"
          },
          "metadata": {}
        }
      ]
    },
    {
      "cell_type": "markdown",
      "source": [
        "Cross Validation"
      ],
      "metadata": {
        "id": "Tutfvi6OR8Vl"
      }
    },
    {
      "cell_type": "code",
      "source": [
        "from sklearn.model_selection import cross_val_score\n",
        "from sklearn.metrics import roc_curve, auc"
      ],
      "metadata": {
        "id": "7vObukjMR-V7"
      },
      "execution_count": 28,
      "outputs": []
    },
    {
      "cell_type": "code",
      "source": [
        "for name, model in models.items():\n",
        "    scores = cross_val_score(model, X_train_scaled, y_train, cv=5, scoring='accuracy')\n",
        "    print(f\"{name}: Mean CV Accuracy = {scores.mean():.4f} ± {scores.std():.4f}\")"
      ],
      "metadata": {
        "colab": {
          "base_uri": "https://localhost:8080/"
        },
        "id": "4-djr3F9SA5X",
        "outputId": "8ed16625-7cb5-438c-aafc-e83d338765db"
      },
      "execution_count": 29,
      "outputs": [
        {
          "output_type": "stream",
          "name": "stdout",
          "text": [
            "LR: Mean CV Accuracy = 0.8262 ± 0.0595\n",
            "SVc: Mean CV Accuracy = 0.8137 ± 0.0562\n",
            "DT: Mean CV Accuracy = 0.6981 ± 0.0710\n",
            "rf: Mean CV Accuracy = 0.7887 ± 0.0779\n"
          ]
        }
      ]
    },
    {
      "cell_type": "markdown",
      "source": [
        "ROC & AUC Curves"
      ],
      "metadata": {
        "id": "veG7d6m7SJl0"
      }
    },
    {
      "cell_type": "code",
      "source": [
        "plt.figure(figsize=(8,6))\n",
        "for name, model in models.items():\n",
        "    model.fit(X_train_scaled, y_train)\n",
        "    y_probs = model.predict_proba(X_test_scaled)[:,1]\n",
        "    fpr, tpr, _ = roc_curve(y_test, y_probs)\n",
        "    roc_auc = auc(fpr, tpr)\n",
        "    plt.plot(fpr, tpr, label=f'{name} (AUC = {roc_auc:.2f})')\n",
        "\n",
        "plt.plot([0,1],[0,1],'k--')\n",
        "plt.xlabel('False Positive Rate')\n",
        "plt.ylabel('True Positive Rate')\n",
        "plt.title('ROC Curves for Models')\n",
        "plt.legend()\n",
        "plt.show()"
      ],
      "metadata": {
        "colab": {
          "base_uri": "https://localhost:8080/",
          "height": 564
        },
        "id": "NKuK6Y84SGt9",
        "outputId": "a499ba1e-5fc2-4715-ebc7-b5d8b1a8588c"
      },
      "execution_count": 30,
      "outputs": [
        {
          "output_type": "display_data",
          "data": {
            "text/plain": [
              "<Figure size 800x600 with 1 Axes>"
            ],
            "image/png": "[encoded data removed]"
          },
          "metadata": {}
        }
      ]
    },
    {
      "cell_type": "markdown",
      "source": [
        "Model Comparison Table"
      ],
      "metadata": {
        "id": "KAs1nBFkSOGs"
      }
    },
    {
      "cell_type": "code",
      "source": [
        "comparison = []\n",
        "for name, model in models.items():\n",
        "    model.fit(X_train_scaled, y_train)\n",
        "    y_pred = model.predict(X_test_scaled)\n",
        "    acc = accuracy_score(y_test, y_pred)\n",
        "    prec = precision_score(y_test, y_pred)\n",
        "    rec = recall_score(y_test, y_pred)\n",
        "    f1 = f1_score(y_test, y_pred)\n",
        "    comparison.append([name, acc, prec, rec, f1])\n",
        "\n",
        "comparison_df = pd.DataFrame(comparison, columns=[\"Model\",\"Accuracy\",\"Precision\",\"Recall\",\"F1\"])\n",
        "print(\"\\n=== Model Performance Comparison ===\")\n",
        "print(comparison_df)"
      ],
      "metadata": {
        "colab": {
          "base_uri": "https://localhost:8080/"
        },
        "id": "Ba66qyk5SP_s",
        "outputId": "5e7880e3-77e5-48d2-8387-840f6e815ce1"
      },
      "execution_count": 33,
      "outputs": [
        {
          "output_type": "stream",
          "name": "stdout",
          "text": [
            "\n",
            "=== Model Performance Comparison ===\n",
            "  Model  Accuracy  Precision    Recall        F1\n",
            "0    LR  0.836066   0.821429  0.821429  0.821429\n",
            "1   SVc  0.885246   0.838710  0.928571  0.881356\n",
            "2    DT  0.754098   0.724138  0.750000  0.736842\n",
            "3    rf  0.868852   0.833333  0.892857  0.862069\n"
          ]
        }
      ]
    },
    {
      "cell_type": "code",
      "source": [
        "plt.figure(figsize=(8,4))\n",
        "sns.barplot(x=\"Model\", y=\"Accuracy\", data=comparison_df)\n",
        "plt.title(\"Model Accuracy Comparison\")\n",
        "plt.show()"
      ],
      "metadata": {
        "colab": {
          "base_uri": "https://localhost:8080/",
          "height": 410
        },
        "id": "gGnWr9asSTHI",
        "outputId": "ead73261-f7fe-4c8f-be0f-f5a7c0411a33"
      },
      "execution_count": 34,
      "outputs": [
        {
          "output_type": "display_data",
          "data": {
            "text/plain": [
              "<Figure size 800x400 with 1 Axes>"
            ],
            "image/png": "[encoded data removed]"
          },
          "metadata": {}
        }
      ]
    },
    {
      "cell_type": "markdown",
      "source": [
        "Hyperparameter Tuning"
      ],
      "metadata": {
        "id": "geZBKUf_SpV0"
      }
    },
    {
      "cell_type": "code",
      "source": [
        "from sklearn.model_selection import GridSearchCV, StratifiedKFold"
      ],
      "metadata": {
        "id": "3KQw71gOSo-T"
      },
      "execution_count": 35,
      "outputs": []
    },
    {
      "cell_type": "code",
      "source": [
        "skf = StratifiedKFold(n_splits=5, shuffle=True, random_state=42)"
      ],
      "metadata": {
        "id": "CWETYmOCSvgM"
      },
      "execution_count": 36,
      "outputs": []
    },
    {
      "cell_type": "code",
      "source": [
        "tuned_models = {}\n",
        "tuning_results = []"
      ],
      "metadata": {
        "id": "YuwxBuuvS2j7"
      },
      "execution_count": 37,
      "outputs": []
    },
    {
      "cell_type": "code",
      "source": [
        "for name, base_model in models.items():\n",
        "    lname = name.lower()\n",
        "\n",
        "    if 'logistic' in lname or 'logit' in lname:\n",
        "        from sklearn.linear_model import LogisticRegression\n",
        "        model = LogisticRegression(random_state=42, max_iter=1000)\n",
        "        param_grid = {\n",
        "            'C': [0.01, 0.1, 1, 10],\n",
        "            'solver': ['liblinear', 'lbfgs'],\n",
        "            'penalty': ['l2']\n",
        "        }\n",
        "\n",
        "    elif 'svc' in lname or 'svm' in lname:\n",
        "        from sklearn.svm import SVC\n",
        "\n",
        "        model = SVC(random_state=42, probability=True)\n",
        "        param_grid = {\n",
        "            'C': [0.1, 1, 10],\n",
        "            'kernel': ['rbf', 'poly'],\n",
        "            'gamma': ['scale', 'auto'],\n",
        "            'degree': [3]\n",
        "        }\n",
        "\n",
        "    elif 'random' in lname or 'forest' in lname:\n",
        "        from sklearn.ensemble import RandomForestClassifier\n",
        "        model = RandomForestClassifier(random_state=42)\n",
        "        param_grid = {\n",
        "            'n_estimators': [100, 200],\n",
        "            'max_depth': [None, 5, 10],\n",
        "            'min_samples_split': [2, 5]\n",
        "        }\n",
        "\n",
        "    elif ('tree' in lname and 'random' not in lname) or 'decision' in lname:\n",
        "        from sklearn.tree import DecisionTreeClassifier\n",
        "        model = DecisionTreeClassifier(random_state=42)\n",
        "        param_grid = {\n",
        "            'criterion': ['gini', 'entropy'],\n",
        "            'max_depth': [None, 5, 10],\n",
        "            'min_samples_split': [2, 5, 10]\n",
        "        }\n",
        "\n",
        "    elif 'knn' in lname or 'neighbor' in lname:\n",
        "        from sklearn.neighbors import KNeighborsClassifier\n",
        "        model = KNeighborsClassifier()\n",
        "        param_grid = {\n",
        "            'n_neighbors': [3, 5, 7, 9],\n",
        "            'weights': ['uniform', 'distance'],\n",
        "            'p': [1, 2]\n",
        "        }\n",
        "\n",
        "    else:\n",
        "        print(f\"Skipping tuning for '{name}': no grid defined for this model name.\")\n",
        "        continue\n",
        "\n",
        "    print(f\"\\n--- GridSearchCV tuning for: {name} ---\")\n",
        "    gs = GridSearchCV(estimator=model,\n",
        "                      param_grid=param_grid,\n",
        "                      scoring='roc_auc',\n",
        "                      cv=skf,\n",
        "                      n_jobs=-1,\n",
        "                      verbose=1)"
      ],
      "metadata": {
        "colab": {
          "base_uri": "https://localhost:8080/"
        },
        "id": "Uf7LhNwMS3-9",
        "outputId": "31f17dd3-0849-4a78-c65b-7645e03a9a0d"
      },
      "execution_count": 38,
      "outputs": [
        {
          "output_type": "stream",
          "name": "stdout",
          "text": [
            "Skipping tuning for 'LR': no grid defined for this model name.\n",
            "\n",
            "--- GridSearchCV tuning for: SVc ---\n",
            "Skipping tuning for 'DT': no grid defined for this model name.\n",
            "Skipping tuning for 'rf': no grid defined for this model name.\n"
          ]
        }
      ]
    },
    {
      "cell_type": "code",
      "source": [
        "gs.fit(X_train_scaled, y_train)\n",
        "best = gs.best_estimator_\n",
        "tuned_models[name] = best"
      ],
      "metadata": {
        "colab": {
          "base_uri": "https://localhost:8080/"
        },
        "id": "-dmbL6T_TBBU",
        "outputId": "9447b778-44ff-43ed-be01-987cdb10594e"
      },
      "execution_count": 39,
      "outputs": [
        {
          "output_type": "stream",
          "name": "stdout",
          "text": [
            "Fitting 5 folds for each of 12 candidates, totalling 60 fits\n"
          ]
        }
      ]
    },
    {
      "cell_type": "code",
      "source": [
        "y_pred = best.predict(X_test_scaled)"
      ],
      "metadata": {
        "id": "i3j4gTdITKqT"
      },
      "execution_count": 40,
      "outputs": []
    },
    {
      "cell_type": "code",
      "source": [
        "if hasattr(best, \"predict_proba\"):\n",
        "      y_proba = best.predict_proba(X_test_scaled)[:, 1]\n",
        "else:\n",
        "    try:\n",
        "        y_proba = best.decision_function(X_test_scaled)\n",
        "    except Exception:\n",
        "        y_proba = None\n",
        "\n",
        "test_auc = roc_auc_score(y_test, y_proba) if y_proba is not None else np.nan\n",
        "\n",
        "print(f\"Best params for {name}: {gs.best_params_}\")\n",
        "print(f\"Best CV (roc_auc) during GridSearch: {gs.best_score_:.4f}\")\n",
        "print(f\"Test ROC-AUC: {test_auc:.4f}\")\n",
        "print(\"Classification report on TEST set:\")\n",
        "print(classification_report(y_test, y_pred, digits=4))\n",
        "\n",
        "tuning_results.append([name, gs.best_params_, gs.best_score_, test_auc])"
      ],
      "metadata": {
        "colab": {
          "base_uri": "https://localhost:8080/"
        },
        "id": "Jnbp3vXRTM_M",
        "outputId": "e5af41aa-266c-4693-ee5a-972e51bbe7f6"
      },
      "execution_count": 43,
      "outputs": [
        {
          "output_type": "stream",
          "name": "stdout",
          "text": [
            "Best params for rf: {'C': 1, 'degree': 3, 'gamma': 'scale', 'kernel': 'poly'}\n",
            "Best CV (roc_auc) during GridSearch: 0.8887\n",
            "Test ROC-AUC: 0.9567\n",
            "Classification report on TEST set:\n",
            "              precision    recall  f1-score   support\n",
            "\n",
            "       False     0.8158    0.9394    0.8732        33\n",
            "        True     0.9130    0.7500    0.8235        28\n",
            "\n",
            "    accuracy                         0.8525        61\n",
            "   macro avg     0.8644    0.8447    0.8484        61\n",
            "weighted avg     0.8604    0.8525    0.8504        61\n",
            "\n"
          ]
        }
      ]
    },
    {
      "cell_type": "code",
      "source": [
        "# Summary DataFrame for tuned models\n",
        "tuning_df = pd.DataFrame(tuning_results, columns=[\n",
        "    \"Model\", \"BestParams\", \"BestCV(roc_auc)\", \"Test_AUC\"\n",
        "])\n",
        "print(\"\\n=== Tuning summary ===\")\n",
        "display(tuning_df)"
      ],
      "metadata": {
        "colab": {
          "base_uri": "https://localhost:8080/",
          "height": 124
        },
        "id": "CJ7sYWSgThR8",
        "outputId": "d7ace8b8-dff5-49ce-e68d-53c11e0a295c"
      },
      "execution_count": 44,
      "outputs": [
        {
          "output_type": "stream",
          "name": "stdout",
          "text": [
            "\n",
            "=== Tuning summary ===\n"
          ]
        },
        {
          "output_type": "display_data",
          "data": {
            "text/plain": [
              "  Model                                         BestParams  BestCV(roc_auc)  \\\n",
              "0    rf  {'C': 1, 'degree': 3, 'gamma': 'scale', 'kerne...         0.888736   \n",
              "\n",
              "   Test_AUC  \n",
              "0   0.95671  "
            ],
            "text/html": [
              "\n",
              "  <div id=\"df-48bd8280-56f5-4614-88b3-4b2239373138\" class=\"colab-df-container\">\n",
              "    <div>\n",
              "<style scoped>\n",
              "    .dataframe tbody tr th:only-of-type {\n",
              "        vertical-align: middle;\n",
              "    }\n",
              "\n",
              "    .dataframe tbody tr th {\n",
              "        vertical-align: top;\n",
              "    }\n",
              "\n",
              "    .dataframe thead th {\n",
              "        text-align: right;\n",
              "    }\n",
              "</style>\n",
              "<table border=\"1\" class=\"dataframe\">\n",
              "  <thead>\n",
              "    <tr style=\"text-align: right;\">\n",
              "      <th></th>\n",
              "      <th>Model</th>\n",
              "      <th>BestParams</th>\n",
              "      <th>BestCV(roc_auc)</th>\n",
              "      <th>Test_AUC</th>\n",
              "    </tr>\n",
              "  </thead>\n",
              "  <tbody>\n",
              "    <tr>\n",
              "      <th>0</th>\n",
              "      <td>rf</td>\n",
              "      <td>{'C': 1, 'degree': 3, 'gamma': 'scale', 'kerne...</td>\n",
              "      <td>0.888736</td>\n",
              "      <td>0.95671</td>\n",
              "    </tr>\n",
              "  </tbody>\n",
              "</table>\n",
              "</div>\n",
              "    <div class=\"colab-df-buttons\">\n",
              "\n",
              "  <div class=\"colab-df-container\">\n",
              "    <button class=\"colab-df-convert\" onclick=\"convertToInteractive('df-48bd8280-56f5-4614-88b3-4b2239373138')\"\n",
              "            title=\"Convert this dataframe to an interactive table.\"\n",
              "            style=\"display:none;\">\n",
              "\n",
              "  <svg xmlns=\"http://www.w3.org/2000/svg\" height=\"24px\" viewBox=\"0 -960 960 960\">\n",
              "    <path d=\"M120-120v-720h720v720H120Zm60-500h600v-160H180v160Zm220 220h160v-160H400v160Zm0 220h160v-160H400v160ZM180-400h160v-160H180v160Zm440 0h160v-160H620v160ZM180-180h160v-160H180v160Zm440 0h160v-160H620v160Z\"/>\n",
              "  </svg>\n",
              "    </button>\n",
              "\n",
              "  <style>\n",
              "    .colab-df-container {\n",
              "      display:flex;\n",
              "      gap: 12px;\n",
              "    }\n",
              "\n",
              "    .colab-df-convert {\n",
              "      background-color: #E8F0FE;\n",
              "      border: none;\n",
              "      border-radius: 50%;\n",
              "      cursor: pointer;\n",
              "      display: none;\n",
              "      fill: #1967D2;\n",
              "      height: 32px;\n",
              "      padding: 0 0 0 0;\n",
              "      width: 32px;\n",
              "    }\n",
              "\n",
              "    .colab-df-convert:hover {\n",
              "      background-color: #E2EBFA;\n",
              "      box-shadow: 0px 1px 2px rgba(60, 64, 67, 0.3), 0px 1px 3px 1px rgba(60, 64, 67, 0.15);\n",
              "      fill: #174EA6;\n",
              "    }\n",
              "\n",
              "    .colab-df-buttons div {\n",
              "      margin-bottom: 4px;\n",
              "    }\n",
              "\n",
              "    [theme=dark] .colab-df-convert {\n",
              "      background-color: #3B4455;\n",
              "      fill: #D2E3FC;\n",
              "    }\n",
              "\n",
              "    [theme=dark] .colab-df-convert:hover {\n",
              "      background-color: #434B5C;\n",
              "      box-shadow: 0px 1px 3px 1px rgba(0, 0, 0, 0.15);\n",
              "      filter: drop-shadow(0px 1px 2px rgba(0, 0, 0, 0.3));\n",
              "      fill: #FFFFFF;\n",
              "    }\n",
              "  </style>\n",
              "\n",
              "    <script>\n",
              "      const buttonEl =\n",
              "        document.querySelector('#df-48bd8280-56f5-4614-88b3-4b2239373138 button.colab-df-convert');\n",
              "      buttonEl.style.display =\n",
              "        google.colab.kernel.accessAllowed ? 'block' : 'none';\n",
              "\n",
              "      async function convertToInteractive(key) {\n",
              "        const element = document.querySelector('#df-48bd8280-56f5-4614-88b3-4b2239373138');\n",
              "        const dataTable =\n",
              "          await google.colab.kernel.invokeFunction('convertToInteractive',\n",
              "                                                    [key], {});\n",
              "        if (!dataTable) return;\n",
              "\n",
              "        const docLinkHtml = 'Like what you see? Visit the ' +\n",
              "          '<a target=\"_blank\" href=https://colab.research.google.com/notebooks/data_table.ipynb>data table notebook</a>'\n",
              "          + ' to learn more about interactive tables.';\n",
              "        element.innerHTML = '';\n",
              "        dataTable['output_type'] = 'display_data';\n",
              "        await google.colab.output.renderOutput(dataTable, element);\n",
              "        const docLink = document.createElement('div');\n",
              "        docLink.innerHTML = docLinkHtml;\n",
              "        element.appendChild(docLink);\n",
              "      }\n",
              "    </script>\n",
              "  </div>\n",
              "\n",
              "\n",
              "  <div id=\"id_cba1ed94-1c22-49cc-b975-953179b5c808\">\n",
              "    <style>\n",
              "      .colab-df-generate {\n",
              "        background-color: #E8F0FE;\n",
              "        border: none;\n",
              "        border-radius: 50%;\n",
              "        cursor: pointer;\n",
              "        display: none;\n",
              "        fill: #1967D2;\n",
              "        height: 32px;\n",
              "        padding: 0 0 0 0;\n",
              "        width: 32px;\n",
              "      }\n",
              "\n",
              "      .colab-df-generate:hover {\n",
              "        background-color: #E2EBFA;\n",
              "        box-shadow: 0px 1px 2px rgba(60, 64, 67, 0.3), 0px 1px 3px 1px rgba(60, 64, 67, 0.15);\n",
              "        fill: #174EA6;\n",
              "      }\n",
              "\n",
              "      [theme=dark] .colab-df-generate {\n",
              "        background-color: #3B4455;\n",
              "        fill: #D2E3FC;\n",
              "      }\n",
              "\n",
              "      [theme=dark] .colab-df-generate:hover {\n",
              "        background-color: #434B5C;\n",
              "        box-shadow: 0px 1px 3px 1px rgba(0, 0, 0, 0.15);\n",
              "        filter: drop-shadow(0px 1px 2px rgba(0, 0, 0, 0.3));\n",
              "        fill: #FFFFFF;\n",
              "      }\n",
              "    </style>\n",
              "    <button class=\"colab-df-generate\" onclick=\"generateWithVariable('tuning_df')\"\n",
              "            title=\"Generate code using this dataframe.\"\n",
              "            style=\"display:none;\">\n",
              "\n",
              "  <svg xmlns=\"http://www.w3.org/2000/svg\" height=\"24px\"viewBox=\"0 0 24 24\"\n",
              "       width=\"24px\">\n",
              "    <path d=\"M7,19H8.4L18.45,9,17,7.55,7,17.6ZM5,21V16.75L18.45,3.32a2,2,0,0,1,2.83,0l1.4,1.43a1.91,1.91,0,0,1,.58,1.4,1.91,1.91,0,0,1-.58,1.4L9.25,21ZM18.45,9,17,7.55Zm-12,3A5.31,5.31,0,0,0,4.9,8.1,5.31,5.31,0,0,0,1,6.5,5.31,5.31,0,0,0,4.9,4.9,5.31,5.31,0,0,0,6.5,1,5.31,5.31,0,0,0,8.1,4.9,5.31,5.31,0,0,0,12,6.5,5.46,5.46,0,0,0,6.5,12Z\"/>\n",
              "  </svg>\n",
              "    </button>\n",
              "    <script>\n",
              "      (() => {\n",
              "      const buttonEl =\n",
              "        document.querySelector('#id_cba1ed94-1c22-49cc-b975-953179b5c808 button.colab-df-generate');\n",
              "      buttonEl.style.display =\n",
              "        google.colab.kernel.accessAllowed ? 'block' : 'none';\n",
              "\n",
              "      buttonEl.onclick = () => {\n",
              "        google.colab.notebook.generateWithVariable('tuning_df');\n",
              "      }\n",
              "      })();\n",
              "    </script>\n",
              "  </div>\n",
              "\n",
              "    </div>\n",
              "  </div>\n"
            ],
            "application/vnd.google.colaboratory.intrinsic+json": {
              "type": "dataframe",
              "variable_name": "tuning_df",
              "summary": "{\n  \"name\": \"tuning_df\",\n  \"rows\": 1,\n  \"fields\": [\n    {\n      \"column\": \"Model\",\n      \"properties\": {\n        \"dtype\": \"string\",\n        \"num_unique_values\": 1,\n        \"samples\": [\n          \"rf\"\n        ],\n        \"semantic_type\": \"\",\n        \"description\": \"\"\n      }\n    },\n    {\n      \"column\": \"BestParams\",\n      \"properties\": {\n        \"dtype\": \"object\",\n        \"semantic_type\": \"\",\n        \"description\": \"\"\n      }\n    },\n    {\n      \"column\": \"BestCV(roc_auc)\",\n      \"properties\": {\n        \"dtype\": \"number\",\n        \"std\": null,\n        \"min\": 0.8887357409096539,\n        \"max\": 0.8887357409096539,\n        \"num_unique_values\": 1,\n        \"samples\": [\n          0.8887357409096539\n        ],\n        \"semantic_type\": \"\",\n        \"description\": \"\"\n      }\n    },\n    {\n      \"column\": \"Test_AUC\",\n      \"properties\": {\n        \"dtype\": \"number\",\n        \"std\": null,\n        \"min\": 0.9567099567099567,\n        \"max\": 0.9567099567099567,\n        \"num_unique_values\": 1,\n        \"samples\": [\n          0.9567099567099567\n        ],\n        \"semantic_type\": \"\",\n        \"description\": \"\"\n      }\n    }\n  ]\n}"
            }
          },
          "metadata": {}
        }
      ]
    }
  ],
  "metadata": {
    "colab": {
      "provenance": [],
      "collapsed_sections": [
        "bef0xM-3uXwI"
      ]
    },
    "kernelspec": {
      "display_name": "Python 3",
      "name": "python3"
    },
    "language_info": {
      "name": "python"
    }
  },
  "nbformat": 4,
  "nbformat_minor": 0
}